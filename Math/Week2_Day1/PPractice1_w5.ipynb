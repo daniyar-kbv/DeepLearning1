{
 "cells": [
  {
   "cell_type": "code",
   "execution_count": 22,
   "outputs": [],
   "source": [
    "# Info:\n",
    "\n",
    "# Author:\n",
    "# Date\n",
    "\n",
    "# Purpose:\n",
    "\n",
    "# inputs:\n",
    "\n",
    "# outputs:\n",
    "\n",
    "# Version control:\n",
    "\n",
    "#------------------------------------------------------------------------------"
   ],
   "metadata": {
    "collapsed": false,
    "pycharm": {
     "name": "#%%\n"
    }
   }
  },
  {
   "cell_type": "code",
   "execution_count": 23,
   "outputs": [],
   "source": [
    "import numpy as np\n",
    "import pandas as pd\n",
    "import matplotlib.pyplot as plt\n",
    "#import copy"
   ],
   "metadata": {
    "collapsed": false,
    "pycharm": {
     "name": "#%%\n"
    }
   }
  },
  {
   "cell_type": "code",
   "execution_count": 24,
   "outputs": [],
   "source": [
    "# Importing the training set\n",
    "#dataset_train = pd.read_csv('Elec_ON_Price_Train.csv')\n",
    "dataset_train = pd.read_csv('Elec_Demand_train.csv')"
   ],
   "metadata": {
    "collapsed": false,
    "pycharm": {
     "name": "#%%\n"
    }
   }
  },
  {
   "cell_type": "code",
   "execution_count": 25,
   "outputs": [],
   "source": [
    "training_set = dataset_train.iloc[:1000, 1:2].values"
   ],
   "metadata": {
    "collapsed": false,
    "pycharm": {
     "name": "#%%\n"
    }
   }
  },
  {
   "cell_type": "code",
   "execution_count": 26,
   "outputs": [],
   "source": [
    "# Feature Scaling\n",
    "from sklearn.preprocessing import MinMaxScaler\n",
    "sc = MinMaxScaler(feature_range = (0, 1))\n",
    "training_set_scaled = sc.fit_transform(training_set)"
   ],
   "metadata": {
    "collapsed": false,
    "pycharm": {
     "name": "#%%\n"
    }
   }
  },
  {
   "cell_type": "code",
   "execution_count": 27,
   "outputs": [
    {
     "data": {
      "text/plain": "'\\nx_train = x_train[0:1000, :]\\ny_train = y_train[0:1000]\\n'"
     },
     "execution_count": 27,
     "metadata": {},
     "output_type": "execute_result"
    }
   ],
   "source": [
    "# Creating a data structure with 60 timesteps and 1 output\n",
    "x_train = []\n",
    "y_train = []\n",
    "for i in range(60, len(training_set)):\n",
    "    x_train.append(training_set_scaled[i-60:i, 0])\n",
    "    y_train.append(training_set_scaled[i, 0])\n",
    "x_train, y_train = np.array(x_train), np.array(y_train)\n",
    "\n",
    "'''\n",
    "x_train = x_train[0:1000, :]\n",
    "y_train = y_train[0:1000]\n",
    "'''"
   ],
   "metadata": {
    "collapsed": false,
    "pycharm": {
     "name": "#%%\n"
    }
   }
  },
  {
   "cell_type": "code",
   "execution_count": 28,
   "outputs": [],
   "source": [
    "# Reshaping,\n",
    "# NOTE: Keras expect data in the form of [batch_size, Time_steps, sequence_length]\n",
    "#             sometimes refer to as [batch_size, timesteps, units]\n",
    "#             or in other word  [No_samples, No_datapoints_in_time, No_featuers]\n",
    "\n",
    "x_train = np.reshape(x_train, (x_train.shape[0], x_train.shape[1], 1))"
   ],
   "metadata": {
    "collapsed": false,
    "pycharm": {
     "name": "#%%\n"
    }
   }
  },
  {
   "cell_type": "code",
   "execution_count": 29,
   "outputs": [],
   "source": [
    "# -----------------------------------------------------------------------------\n",
    "# Part 2 - Building the RNN\n",
    "\n",
    "# Importing the Keras libraries and packages\n",
    "from tensorflow.keras.models import Sequential\n",
    "from tensorflow.keras.layers import Dense, LSTM, Dropout, GRU"
   ],
   "metadata": {
    "collapsed": false,
    "pycharm": {
     "name": "#%%\n"
    }
   }
  },
  {
   "cell_type": "code",
   "execution_count": 42,
   "outputs": [],
   "source": [
    "# Initialising the RNN\n",
    "my_regressor = Sequential()\n",
    "\n",
    "# Adding the first LSTM layer and some Dropout regularisation\n",
    "my_regressor.add(LSTM(units = 30, return_sequences = True,\n",
    "                      input_shape = (x_train.shape[1], 1)))\n",
    "my_regressor.add(Dropout(0.2))\n",
    "\n",
    "# Adding a second LSTM layer and some Dropout regularisation\n",
    "#my_regressor.add(LSTM(units = 50, return_sequences = True))\n",
    "#my_regressor.add(Dropout(0.2))\n",
    "\n",
    "# Adding a third LSTM layer and some Dropout regularisation\n",
    "#my_regressor.add(LSTM(units = 50, return_sequences = True))\n",
    "#my_regressor.add(Dropout(0.2))\n",
    "\n",
    "# Adding a fourth LSTM layer and some Dropout regularisation\n",
    "my_regressor.add(LSTM(units = 30))\n",
    "my_regressor.add(Dropout(0.2))\n",
    "\n",
    "# Adding the output layer\n",
    "my_regressor.add(Dense(units = 1))\n",
    "\n",
    "# Compiling the RNN\n",
    "my_regressor.compile(optimizer = 'adam', loss = 'mean_squared_error',\n",
    "                     metrics = ['mean_squared_error'])"
   ],
   "metadata": {
    "collapsed": false,
    "pycharm": {
     "name": "#%%\n"
    }
   }
  },
  {
   "cell_type": "code",
   "execution_count": null,
   "outputs": [
    {
     "name": "stdout",
     "output_type": "stream",
     "text": [
      "Epoch 1/100\n"
     ]
    },
    {
     "name": "stderr",
     "output_type": "stream",
     "text": [
      "2022-01-18 20:25:59.643264: I tensorflow/core/grappler/optimizers/custom_graph_optimizer_registry.cc:112] Plugin optimizer for device_type GPU is enabled.\n",
      "2022-01-18 20:25:59.870833: I tensorflow/core/grappler/optimizers/custom_graph_optimizer_registry.cc:112] Plugin optimizer for device_type GPU is enabled.\n",
      "2022-01-18 20:25:59.961894: I tensorflow/core/grappler/optimizers/custom_graph_optimizer_registry.cc:112] Plugin optimizer for device_type GPU is enabled.\n",
      "2022-01-18 20:26:00.068630: I tensorflow/core/grappler/optimizers/custom_graph_optimizer_registry.cc:112] Plugin optimizer for device_type GPU is enabled.\n"
     ]
    },
    {
     "name": "stdout",
     "output_type": "stream",
     "text": [
      " 1/24 [>.............................] - ETA: 32s - loss: 0.2321 - mean_squared_error: 0.2321"
     ]
    },
    {
     "name": "stderr",
     "output_type": "stream",
     "text": [
      "2022-01-18 20:26:00.243441: I tensorflow/core/grappler/optimizers/custom_graph_optimizer_registry.cc:112] Plugin optimizer for device_type GPU is enabled.\n"
     ]
    },
    {
     "name": "stdout",
     "output_type": "stream",
     "text": [
      "24/24 [==============================] - ETA: 0s - loss: 0.1001 - mean_squared_error: 0.1001"
     ]
    },
    {
     "name": "stderr",
     "output_type": "stream",
     "text": [
      "2022-01-18 20:26:01.772277: I tensorflow/core/grappler/optimizers/custom_graph_optimizer_registry.cc:112] Plugin optimizer for device_type GPU is enabled.\n",
      "2022-01-18 20:26:01.846060: I tensorflow/core/grappler/optimizers/custom_graph_optimizer_registry.cc:112] Plugin optimizer for device_type GPU is enabled.\n",
      "2022-01-18 20:26:01.926253: I tensorflow/core/grappler/optimizers/custom_graph_optimizer_registry.cc:112] Plugin optimizer for device_type GPU is enabled.\n"
     ]
    },
    {
     "name": "stdout",
     "output_type": "stream",
     "text": [
      "24/24 [==============================] - 3s 79ms/step - loss: 0.1001 - mean_squared_error: 0.1001 - val_loss: 0.0481 - val_mean_squared_error: 0.0481\n",
      "Epoch 2/100\n",
      "24/24 [==============================] - 1s 41ms/step - loss: 0.0377 - mean_squared_error: 0.0377 - val_loss: 0.0437 - val_mean_squared_error: 0.0437\n",
      "Epoch 3/100\n",
      "24/24 [==============================] - 1s 40ms/step - loss: 0.0757 - mean_squared_error: 0.0757 - val_loss: 0.0593 - val_mean_squared_error: 0.0593\n",
      "Epoch 4/100\n",
      "24/24 [==============================] - 1s 39ms/step - loss: 0.0734 - mean_squared_error: 0.0734 - val_loss: 0.0686 - val_mean_squared_error: 0.0686\n",
      "Epoch 5/100\n",
      "24/24 [==============================] - 1s 38ms/step - loss: 0.0631 - mean_squared_error: 0.0631 - val_loss: 0.0642 - val_mean_squared_error: 0.0642\n",
      "Epoch 6/100\n",
      "24/24 [==============================] - 1s 39ms/step - loss: 0.0572 - mean_squared_error: 0.0572 - val_loss: 0.0680 - val_mean_squared_error: 0.0680\n",
      "Epoch 7/100\n",
      "24/24 [==============================] - 1s 40ms/step - loss: 0.0553 - mean_squared_error: 0.0553 - val_loss: 0.0554 - val_mean_squared_error: 0.0554\n",
      "Epoch 8/100\n",
      "24/24 [==============================] - 1s 40ms/step - loss: 0.0558 - mean_squared_error: 0.0558 - val_loss: 0.0608 - val_mean_squared_error: 0.0608\n",
      "Epoch 9/100\n",
      "24/24 [==============================] - 1s 43ms/step - loss: 0.0545 - mean_squared_error: 0.0545 - val_loss: 0.0565 - val_mean_squared_error: 0.0565\n",
      "Epoch 10/100\n",
      "24/24 [==============================] - 1s 40ms/step - loss: 0.0532 - mean_squared_error: 0.0532 - val_loss: 0.0644 - val_mean_squared_error: 0.0644\n",
      "Epoch 11/100\n",
      "24/24 [==============================] - 1s 41ms/step - loss: 0.0521 - mean_squared_error: 0.0521 - val_loss: 0.0611 - val_mean_squared_error: 0.0611\n",
      "Epoch 12/100\n",
      "24/24 [==============================] - 1s 41ms/step - loss: 0.0520 - mean_squared_error: 0.0520 - val_loss: 0.0631 - val_mean_squared_error: 0.0631\n",
      "Epoch 13/100\n",
      "24/24 [==============================] - 1s 41ms/step - loss: 0.0510 - mean_squared_error: 0.0510 - val_loss: 0.0645 - val_mean_squared_error: 0.0645\n",
      "Epoch 14/100\n",
      "24/24 [==============================] - 1s 41ms/step - loss: 0.0499 - mean_squared_error: 0.0499 - val_loss: 0.0567 - val_mean_squared_error: 0.0567\n",
      "Epoch 15/100\n",
      "24/24 [==============================] - 1s 42ms/step - loss: 0.0500 - mean_squared_error: 0.0500 - val_loss: 0.0610 - val_mean_squared_error: 0.0610\n",
      "Epoch 16/100\n",
      "24/24 [==============================] - 1s 41ms/step - loss: 0.0503 - mean_squared_error: 0.0503 - val_loss: 0.0629 - val_mean_squared_error: 0.0629\n",
      "Epoch 17/100\n",
      "24/24 [==============================] - 1s 39ms/step - loss: 0.0475 - mean_squared_error: 0.0475 - val_loss: 0.0596 - val_mean_squared_error: 0.0596\n",
      "Epoch 18/100\n",
      "24/24 [==============================] - 1s 40ms/step - loss: 0.0497 - mean_squared_error: 0.0497 - val_loss: 0.0677 - val_mean_squared_error: 0.0677\n",
      "Epoch 19/100\n",
      "24/24 [==============================] - 1s 40ms/step - loss: 0.0491 - mean_squared_error: 0.0491 - val_loss: 0.0651 - val_mean_squared_error: 0.0651\n",
      "Epoch 20/100\n",
      "24/24 [==============================] - 1s 40ms/step - loss: 0.0483 - mean_squared_error: 0.0483 - val_loss: 0.0559 - val_mean_squared_error: 0.0559\n",
      "Epoch 21/100\n",
      "24/24 [==============================] - 1s 41ms/step - loss: 0.0487 - mean_squared_error: 0.0487 - val_loss: 0.0643 - val_mean_squared_error: 0.0643\n",
      "Epoch 22/100\n",
      "24/24 [==============================] - 1s 40ms/step - loss: 0.0476 - mean_squared_error: 0.0476 - val_loss: 0.0552 - val_mean_squared_error: 0.0552\n",
      "Epoch 23/100\n",
      "24/24 [==============================] - 1s 39ms/step - loss: 0.0487 - mean_squared_error: 0.0487 - val_loss: 0.0629 - val_mean_squared_error: 0.0629\n",
      "Epoch 24/100\n",
      "24/24 [==============================] - 1s 40ms/step - loss: 0.0476 - mean_squared_error: 0.0476 - val_loss: 0.0640 - val_mean_squared_error: 0.0640\n",
      "Epoch 25/100\n",
      "24/24 [==============================] - 1s 42ms/step - loss: 0.0467 - mean_squared_error: 0.0467 - val_loss: 0.0594 - val_mean_squared_error: 0.0594\n",
      "Epoch 26/100\n",
      "24/24 [==============================] - 1s 41ms/step - loss: 0.0478 - mean_squared_error: 0.0478 - val_loss: 0.0519 - val_mean_squared_error: 0.0519\n",
      "Epoch 27/100\n",
      "24/24 [==============================] - 1s 41ms/step - loss: 0.0482 - mean_squared_error: 0.0482 - val_loss: 0.0587 - val_mean_squared_error: 0.0587\n",
      "Epoch 28/100\n",
      "24/24 [==============================] - 1s 42ms/step - loss: 0.0489 - mean_squared_error: 0.0489 - val_loss: 0.0655 - val_mean_squared_error: 0.0655\n",
      "Epoch 29/100\n",
      "24/24 [==============================] - 1s 41ms/step - loss: 0.0462 - mean_squared_error: 0.0462 - val_loss: 0.0569 - val_mean_squared_error: 0.0569\n",
      "Epoch 30/100\n",
      "24/24 [==============================] - 1s 41ms/step - loss: 0.0463 - mean_squared_error: 0.0463 - val_loss: 0.0585 - val_mean_squared_error: 0.0585\n",
      "Epoch 31/100\n",
      "24/24 [==============================] - 1s 41ms/step - loss: 0.0469 - mean_squared_error: 0.0469 - val_loss: 0.0581 - val_mean_squared_error: 0.0581\n",
      "Epoch 32/100\n",
      "24/24 [==============================] - 1s 42ms/step - loss: 0.0470 - mean_squared_error: 0.0470 - val_loss: 0.0641 - val_mean_squared_error: 0.0641\n",
      "Epoch 33/100\n",
      "24/24 [==============================] - 1s 39ms/step - loss: 0.0472 - mean_squared_error: 0.0472 - val_loss: 0.0603 - val_mean_squared_error: 0.0603\n",
      "Epoch 34/100\n",
      "24/24 [==============================] - 1s 39ms/step - loss: 0.0462 - mean_squared_error: 0.0462 - val_loss: 0.0606 - val_mean_squared_error: 0.0606\n",
      "Epoch 35/100\n",
      "24/24 [==============================] - 1s 41ms/step - loss: 0.0460 - mean_squared_error: 0.0460 - val_loss: 0.0599 - val_mean_squared_error: 0.0599\n",
      "Epoch 36/100\n",
      "24/24 [==============================] - 1s 42ms/step - loss: 0.0473 - mean_squared_error: 0.0473 - val_loss: 0.0573 - val_mean_squared_error: 0.0573\n",
      "Epoch 37/100\n",
      "24/24 [==============================] - 1s 42ms/step - loss: 0.0461 - mean_squared_error: 0.0461 - val_loss: 0.0580 - val_mean_squared_error: 0.0580\n",
      "Epoch 38/100\n",
      " 3/24 [==>...........................] - ETA: 0s - loss: 0.0499 - mean_squared_error: 0.0499"
     ]
    }
   ],
   "source": [
    "# Fitting the RNN to the Training set\n",
    "history = my_regressor.fit(x_train,\n",
    "                           y_train,\n",
    "                           validation_split=0.2,\n",
    "                           epochs = 100,\n",
    "                           batch_size = 32)\n"
   ],
   "metadata": {
    "collapsed": false,
    "pycharm": {
     "name": "#%%\n"
    }
   }
  },
  {
   "cell_type": "code",
   "execution_count": 32,
   "outputs": [],
   "source": [
    "# save the final model\n",
    "#my_regressor.save('Price.h5')\n",
    "my_regressor.save('demand.h5')"
   ],
   "metadata": {
    "collapsed": false,
    "pycharm": {
     "name": "#%%\n"
    }
   }
  },
  {
   "cell_type": "code",
   "execution_count": 33,
   "outputs": [],
   "source": [
    "# to load keras model\n",
    "# my_regressor = keras.models.load_model(\"Price.h5\")\n",
    "# my_regressor = keras.models.load_model(\"demand.h5\")"
   ],
   "metadata": {
    "collapsed": false,
    "pycharm": {
     "name": "#%%\n"
    }
   }
  },
  {
   "cell_type": "code",
   "execution_count": 34,
   "outputs": [],
   "source": [
    "# -----------------------------------------------------------------------------\n",
    "# Part 3 - Making the predictions and visualising the results\n",
    "\n",
    "# Getting the real stock price of 2017\n",
    "#dataset_test = pd.read_csv('Elec_ON_Price_Test.csv')\n",
    "dataset_test = pd.read_csv('Elec_Demand_test.csv')\n",
    "\n",
    "\n",
    "real_price = dataset_test.iloc[:, 1:2].values"
   ],
   "metadata": {
    "collapsed": false,
    "pycharm": {
     "name": "#%%\n"
    }
   }
  },
  {
   "cell_type": "code",
   "execution_count": 35,
   "outputs": [],
   "source": [
    "# Getting the predicted stock price of 2017\n",
    "#dataset_total = pd.concat((dataset_train['HOEP'], dataset_test['HOEP']), axis = 0)\n",
    "dataset_total = pd.concat((dataset_train['Demand'], dataset_test['Demand']), axis = 0)"
   ],
   "metadata": {
    "collapsed": false,
    "pycharm": {
     "name": "#%%\n"
    }
   }
  },
  {
   "cell_type": "code",
   "execution_count": 36,
   "outputs": [
    {
     "name": "stderr",
     "output_type": "stream",
     "text": [
      "2022-01-18 20:25:13.805623: I tensorflow/core/grappler/optimizers/custom_graph_optimizer_registry.cc:112] Plugin optimizer for device_type GPU is enabled.\n",
      "2022-01-18 20:25:13.876241: I tensorflow/core/grappler/optimizers/custom_graph_optimizer_registry.cc:112] Plugin optimizer for device_type GPU is enabled.\n",
      "2022-01-18 20:25:13.959527: I tensorflow/core/grappler/optimizers/custom_graph_optimizer_registry.cc:112] Plugin optimizer for device_type GPU is enabled.\n"
     ]
    }
   ],
   "source": [
    "inputs = dataset_total[len(dataset_total) - len(dataset_test) - 60:].values\n",
    "inputs = inputs.reshape(-1,1)\n",
    "inputs = sc.transform(inputs)\n",
    "X_test = []\n",
    "for i in range(60, 60+len(dataset_test)):\n",
    "    X_test.append(inputs[i-60:i, 0])\n",
    "X_test = np.array(X_test)\n",
    "X_test = np.reshape(X_test, (X_test.shape[0], X_test.shape[1], 1))\n",
    "predicted_price = my_regressor.predict(X_test)\n",
    "predicted_price = sc.inverse_transform(predicted_price)"
   ],
   "metadata": {
    "collapsed": false,
    "pycharm": {
     "name": "#%%\n"
    }
   }
  },
  {
   "cell_type": "code",
   "execution_count": 37,
   "outputs": [
    {
     "ename": "ValueError",
     "evalue": "Found array with dim 3. Estimator expected <= 2.",
     "output_type": "error",
     "traceback": [
      "\u001B[0;31m---------------------------------------------------------------------------\u001B[0m",
      "\u001B[0;31mValueError\u001B[0m                                Traceback (most recent call last)",
      "\u001B[0;32m/var/folders/cj/7pbw4t016v72qg78txbzq1b40000gn/T/ipykernel_31698/2599196680.py\u001B[0m in \u001B[0;36m<module>\u001B[0;34m\u001B[0m\n\u001B[1;32m      1\u001B[0m \u001B[0;32mfrom\u001B[0m \u001B[0msklearn\u001B[0m\u001B[0;34m.\u001B[0m\u001B[0mmetrics\u001B[0m \u001B[0;32mimport\u001B[0m \u001B[0mmean_squared_error\u001B[0m\u001B[0;34m\u001B[0m\u001B[0;34m\u001B[0m\u001B[0m\n\u001B[1;32m      2\u001B[0m \u001B[0;34m\u001B[0m\u001B[0m\n\u001B[0;32m----> 3\u001B[0;31m \u001B[0mmean_squared_error\u001B[0m\u001B[0;34m(\u001B[0m\u001B[0mX_test\u001B[0m\u001B[0;34m,\u001B[0m \u001B[0mpredicted_price\u001B[0m\u001B[0;34m)\u001B[0m\u001B[0;34m\u001B[0m\u001B[0;34m\u001B[0m\u001B[0m\n\u001B[0m",
      "\u001B[0;32m~/miniforge3/envs/globalenv/lib/python3.9/site-packages/sklearn/metrics/_regression.py\u001B[0m in \u001B[0;36mmean_squared_error\u001B[0;34m(y_true, y_pred, sample_weight, multioutput, squared)\u001B[0m\n\u001B[1;32m    436\u001B[0m     \u001B[0;36m0.825\u001B[0m\u001B[0;34m...\u001B[0m\u001B[0;34m\u001B[0m\u001B[0;34m\u001B[0m\u001B[0m\n\u001B[1;32m    437\u001B[0m     \"\"\"\n\u001B[0;32m--> 438\u001B[0;31m     y_type, y_true, y_pred, multioutput = _check_reg_targets(\n\u001B[0m\u001B[1;32m    439\u001B[0m         \u001B[0my_true\u001B[0m\u001B[0;34m,\u001B[0m \u001B[0my_pred\u001B[0m\u001B[0;34m,\u001B[0m \u001B[0mmultioutput\u001B[0m\u001B[0;34m\u001B[0m\u001B[0;34m\u001B[0m\u001B[0m\n\u001B[1;32m    440\u001B[0m     )\n",
      "\u001B[0;32m~/miniforge3/envs/globalenv/lib/python3.9/site-packages/sklearn/metrics/_regression.py\u001B[0m in \u001B[0;36m_check_reg_targets\u001B[0;34m(y_true, y_pred, multioutput, dtype)\u001B[0m\n\u001B[1;32m     93\u001B[0m     \"\"\"\n\u001B[1;32m     94\u001B[0m     \u001B[0mcheck_consistent_length\u001B[0m\u001B[0;34m(\u001B[0m\u001B[0my_true\u001B[0m\u001B[0;34m,\u001B[0m \u001B[0my_pred\u001B[0m\u001B[0;34m)\u001B[0m\u001B[0;34m\u001B[0m\u001B[0;34m\u001B[0m\u001B[0m\n\u001B[0;32m---> 95\u001B[0;31m     \u001B[0my_true\u001B[0m \u001B[0;34m=\u001B[0m \u001B[0mcheck_array\u001B[0m\u001B[0;34m(\u001B[0m\u001B[0my_true\u001B[0m\u001B[0;34m,\u001B[0m \u001B[0mensure_2d\u001B[0m\u001B[0;34m=\u001B[0m\u001B[0;32mFalse\u001B[0m\u001B[0;34m,\u001B[0m \u001B[0mdtype\u001B[0m\u001B[0;34m=\u001B[0m\u001B[0mdtype\u001B[0m\u001B[0;34m)\u001B[0m\u001B[0;34m\u001B[0m\u001B[0;34m\u001B[0m\u001B[0m\n\u001B[0m\u001B[1;32m     96\u001B[0m     \u001B[0my_pred\u001B[0m \u001B[0;34m=\u001B[0m \u001B[0mcheck_array\u001B[0m\u001B[0;34m(\u001B[0m\u001B[0my_pred\u001B[0m\u001B[0;34m,\u001B[0m \u001B[0mensure_2d\u001B[0m\u001B[0;34m=\u001B[0m\u001B[0;32mFalse\u001B[0m\u001B[0;34m,\u001B[0m \u001B[0mdtype\u001B[0m\u001B[0;34m=\u001B[0m\u001B[0mdtype\u001B[0m\u001B[0;34m)\u001B[0m\u001B[0;34m\u001B[0m\u001B[0;34m\u001B[0m\u001B[0m\n\u001B[1;32m     97\u001B[0m \u001B[0;34m\u001B[0m\u001B[0m\n",
      "\u001B[0;32m~/miniforge3/envs/globalenv/lib/python3.9/site-packages/sklearn/utils/validation.py\u001B[0m in \u001B[0;36mcheck_array\u001B[0;34m(array, accept_sparse, accept_large_sparse, dtype, order, copy, force_all_finite, ensure_2d, allow_nd, ensure_min_samples, ensure_min_features, estimator)\u001B[0m\n\u001B[1;32m    792\u001B[0m                 ) from e\n\u001B[1;32m    793\u001B[0m         \u001B[0;32mif\u001B[0m \u001B[0;32mnot\u001B[0m \u001B[0mallow_nd\u001B[0m \u001B[0;32mand\u001B[0m \u001B[0marray\u001B[0m\u001B[0;34m.\u001B[0m\u001B[0mndim\u001B[0m \u001B[0;34m>=\u001B[0m \u001B[0;36m3\u001B[0m\u001B[0;34m:\u001B[0m\u001B[0;34m\u001B[0m\u001B[0;34m\u001B[0m\u001B[0m\n\u001B[0;32m--> 794\u001B[0;31m             raise ValueError(\n\u001B[0m\u001B[1;32m    795\u001B[0m                 \u001B[0;34m\"Found array with dim %d. %s expected <= 2.\"\u001B[0m\u001B[0;34m\u001B[0m\u001B[0;34m\u001B[0m\u001B[0m\n\u001B[1;32m    796\u001B[0m                 \u001B[0;34m%\u001B[0m \u001B[0;34m(\u001B[0m\u001B[0marray\u001B[0m\u001B[0;34m.\u001B[0m\u001B[0mndim\u001B[0m\u001B[0;34m,\u001B[0m \u001B[0mestimator_name\u001B[0m\u001B[0;34m)\u001B[0m\u001B[0;34m\u001B[0m\u001B[0;34m\u001B[0m\u001B[0m\n",
      "\u001B[0;31mValueError\u001B[0m: Found array with dim 3. Estimator expected <= 2."
     ]
    }
   ],
   "source": [
    "from sklearn.metrics import mean_squared_error\n",
    "\n",
    "mean_squared_error(dataset_test, predicted_price)"
   ],
   "metadata": {
    "collapsed": false,
    "pycharm": {
     "name": "#%%\n"
    }
   }
  },
  {
   "cell_type": "code",
   "execution_count": 38,
   "outputs": [
    {
     "data": {
      "text/plain": "<Figure size 432x288 with 1 Axes>",
      "image/png": "[encoded data removed]"
     },
     "metadata": {
      "needs_background": "light"
     },
     "output_type": "display_data"
    }
   ],
   "source": [
    "# Visualising the results\n",
    "plt.plot(real_price, color = 'red', label = 'Real ON Electricity Price')\n",
    "plt.plot(predicted_price, color = 'blue', label = 'Predicted ON Electricity Price')\n",
    "plt.title('ON Electricity Price Prediction')\n",
    "plt.xlabel('Time')\n",
    "plt.ylabel('ON Electricity Price')\n",
    "plt.legend()\n",
    "plt.show()"
   ],
   "metadata": {
    "collapsed": false,
    "pycharm": {
     "name": "#%%\n"
    }
   }
  },
  {
   "cell_type": "code",
   "execution_count": 39,
   "outputs": [
    {
     "name": "stdout",
     "output_type": "stream",
     "text": [
      "dict_keys(['loss', 'accuracy', 'val_loss', 'val_accuracy'])\n"
     ]
    }
   ],
   "source": [
    "# list all the data in history\n",
    "print(history.history.keys())"
   ],
   "metadata": {
    "collapsed": false,
    "pycharm": {
     "name": "#%%\n"
    }
   }
  },
  {
   "cell_type": "code",
   "execution_count": 40,
   "outputs": [
    {
     "data": {
      "text/plain": "<Figure size 432x288 with 1 Axes>",
      "image/png": "[encoded data removed]"
     },
     "metadata": {
      "needs_background": "light"
     },
     "output_type": "display_data"
    }
   ],
   "source": [
    "# Plot the accuracy for both train and validation set\n",
    "plt.subplots() # open a new plot\n",
    "plt.plot(history.history['accuracy'])\n",
    "plt.plot(history.history['val_accuracy'])\n",
    "plt.title('model accuracy')\n",
    "plt.ylabel('accuracy')\n",
    "plt.xlabel('epoch')\n",
    "plt.legend(['train', 'validation'])\n",
    "plt.show()"
   ],
   "metadata": {
    "collapsed": false,
    "pycharm": {
     "name": "#%%\n"
    }
   }
  },
  {
   "cell_type": "code",
   "execution_count": 41,
   "outputs": [
    {
     "data": {
      "text/plain": "<Figure size 432x288 with 1 Axes>",
      "image/png": "[encoded data removed]"
     },
     "metadata": {
      "needs_background": "light"
     },
     "output_type": "display_data"
    }
   ],
   "source": [
    "# Plot the loss for both train and validation set\n",
    "plt.subplots() # open a new plot\n",
    "plt.plot(history.history['loss'])\n",
    "plt.plot(history.history['val_loss'])\n",
    "plt.title('model loss')\n",
    "plt.ylabel('loss')\n",
    "plt.xlabel('epoch')\n",
    "plt.legend(['train', 'validation'])\n",
    "plt.show()"
   ],
   "metadata": {
    "collapsed": false,
    "pycharm": {
     "name": "#%%\n"
    }
   }
  }
 ],
 "metadata": {
  "kernelspec": {
   "display_name": "Python 3",
   "language": "python",
   "name": "python3"
  },
  "language_info": {
   "codemirror_mode": {
    "name": "ipython",
    "version": 2
   },
   "file_extension": ".py",
   "mimetype": "text/x-python",
   "name": "python",
   "nbconvert_exporter": "python",
   "pygments_lexer": "ipython2",
   "version": "2.7.6"
  }
 },
 "nbformat": 4,
 "nbformat_minor": 0
}