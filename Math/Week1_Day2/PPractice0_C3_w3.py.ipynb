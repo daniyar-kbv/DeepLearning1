{
 "cells": [
  {
   "cell_type": "code",
   "execution_count": null,
   "outputs": [],
   "source": [
    "# Info:\n",
    "\n",
    "# Author:\n",
    "# Date\n",
    "\n",
    "# Purpose:\n",
    "\n",
    "# inputs:\n",
    "\n",
    "# outputs:\n",
    "\n",
    "# Version control:\n",
    "\n",
    "#------------------------------------------------------------------------------"
   ],
   "metadata": {
    "collapsed": false,
    "pycharm": {
     "name": "#%%\n"
    }
   }
  },
  {
   "cell_type": "code",
   "execution_count": null,
   "outputs": [],
   "source": [
    "import numpy as np\n",
    "import matplotlib.pyplot as plt"
   ],
   "metadata": {
    "collapsed": false,
    "pycharm": {
     "name": "#%%\n"
    }
   }
  },
  {
   "cell_type": "code",
   "execution_count": null,
   "outputs": [],
   "source": [
    "# Plot activation functions\n",
    "\n",
    "# Create a range of x\n",
    "x = np.arange(-10, 10)\n",
    "\n",
    "# linear activation function\n",
    "a = 1\n",
    "y = a*x"
   ],
   "metadata": {
    "collapsed": false,
    "pycharm": {
     "name": "#%%\n"
    }
   }
  },
  {
   "cell_type": "code",
   "execution_count": null,
   "outputs": [],
   "source": [
    "plt.subplots() # open a new plot\n",
    "plt.plot(x, y)\n",
    "plt.title(\"Linear\")\n",
    "plt.xlabel (\"x\")\n",
    "plt.ylabel (\"F(x)\")"
   ],
   "metadata": {
    "collapsed": false,
    "pycharm": {
     "name": "#%%\n"
    }
   }
  },
  {
   "cell_type": "code",
   "execution_count": null,
   "outputs": [],
   "source": [
    "# Sigmoid activation function\n",
    "y = 1 / (1 + np.exp(-x))\n",
    "\n",
    "plt.subplots() # open a new plot\n",
    "plt.plot(x, y)\n",
    "plt.title(\"Sigmoid\")\n",
    "plt.xlabel (\"x\")\n",
    "plt.ylabel (\"F(x)\")"
   ],
   "metadata": {
    "collapsed": false,
    "pycharm": {
     "name": "#%%\n"
    }
   }
  },
  {
   "cell_type": "code",
   "execution_count": null,
   "outputs": [],
   "source": [
    "# Sigmoid activation function\n",
    "y = np.tanh(x)\n",
    "\n",
    "plt.subplots() # open a new plot\n",
    "plt.plot(x, y)\n",
    "plt.title(\"tanh\")\n",
    "plt.xlabel (\"x\")\n",
    "plt.ylabel (\"F(x)\")"
   ],
   "metadata": {
    "collapsed": false,
    "pycharm": {
     "name": "#%%\n"
    }
   }
  }
 ],
 "metadata": {
  "kernelspec": {
   "display_name": "Python 3",
   "language": "python",
   "name": "python3"
  },
  "language_info": {
   "codemirror_mode": {
    "name": "ipython",
    "version": 2
   },
   "file_extension": ".py",
   "mimetype": "text/x-python",
   "name": "python",
   "nbconvert_exporter": "python",
   "pygments_lexer": "ipython2",
   "version": "2.7.6"
  }
 },
 "nbformat": 4,
 "nbformat_minor": 0
}