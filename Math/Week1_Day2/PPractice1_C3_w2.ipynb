{
 "cells": [
  {
   "cell_type": "code",
   "execution_count": 1,
   "outputs": [],
   "source": [
    "# Info:\n",
    "\n",
    "# Author:\n",
    "# Date\n",
    "\n",
    "# Purpose:\n",
    "\n",
    "# inputs:\n",
    "\n",
    "# outputs:\n",
    "\n",
    "# Version control:\n",
    "\n",
    "#------------------------------------------------------------------------------"
   ],
   "metadata": {
    "collapsed": false,
    "pycharm": {
     "name": "#%%\n"
    }
   }
  },
  {
   "cell_type": "code",
   "execution_count": 2,
   "outputs": [],
   "source": [
    "import numpy as np\n",
    "import pandas as pd\n",
    "import matplotlib.pyplot as plt\n",
    "#import copy"
   ],
   "metadata": {
    "collapsed": false,
    "pycharm": {
     "name": "#%%\n"
    }
   }
  },
  {
   "cell_type": "code",
   "execution_count": 3,
   "outputs": [],
   "source": [
    "# Import as pandas dataframes\n",
    "data = pd.read_csv('Cancer_data.csv')"
   ],
   "metadata": {
    "collapsed": false,
    "pycharm": {
     "name": "#%%\n"
    }
   }
  },
  {
   "cell_type": "code",
   "execution_count": 4,
   "outputs": [],
   "source": [
    "# Get the x and y data\n",
    "x = data.iloc[:, 2:]\n",
    "y = pd.DataFrame(data['diagnosis'])"
   ],
   "metadata": {
    "collapsed": false,
    "pycharm": {
     "name": "#%%\n"
    }
   }
  },
  {
   "cell_type": "code",
   "execution_count": null,
   "outputs": [],
   "source": [
    "'''\n",
    "# fix the nan -------------------------\n",
    "# method 1: delete the rows\n",
    "dum = ~np.isnan (data_analysis)\n",
    "new_data = data_analysis[dum]\n",
    "\n",
    "# Or get indeses\n",
    "inds = np.where(np.isfinite(data_analysis[:,0]))\n",
    "new_data = data_analysis[inds]\n",
    "\n",
    "# method 2: replace nan with mean\n",
    "inds2 = np.where(np.isnan(data_analysis[:,0]))\n",
    "\n",
    "#new_data = data_analysis\n",
    "new_data = np.copy(data_analysis)\n",
    "\n",
    "mean_of_col = np.nanmean(new_data, axis=0)\n",
    "\n",
    "new_data[inds2] = mean_of_col\n",
    "'''"
   ],
   "metadata": {
    "collapsed": false,
    "pycharm": {
     "name": "#%%\n"
    }
   }
  },
  {
   "cell_type": "code",
   "execution_count": 5,
   "outputs": [],
   "source": [
    "#-- One hot encoder\n",
    "from sklearn.preprocessing import LabelEncoder"
   ],
   "metadata": {
    "collapsed": false,
    "pycharm": {
     "name": "#%%\n"
    }
   }
  },
  {
   "cell_type": "code",
   "execution_count": 6,
   "outputs": [
    {
     "name": "stderr",
     "output_type": "stream",
     "text": [
      "/Users/daniyarkurmanbayev/miniforge3/envs/globalenv/lib/python3.9/site-packages/sklearn/preprocessing/_label.py:115: DataConversionWarning: A column-vector y was passed when a 1d array was expected. Please change the shape of y to (n_samples, ), for example using ravel().\n",
      "  y = column_or_1d(y, warn=True)\n"
     ]
    }
   ],
   "source": [
    "# encode the target\n",
    "label_encoder = LabelEncoder()\n",
    "y_encode = label_encoder.fit_transform(y)"
   ],
   "metadata": {
    "collapsed": false,
    "pycharm": {
     "name": "#%%\n"
    }
   }
  },
  {
   "cell_type": "code",
   "execution_count": null,
   "outputs": [],
   "source": [
    "# Feature Scaling\n",
    "#from sklearn.preprocessing import MinMaxScaler\n",
    "#sc = MinMaxScaler(feature_range = (0, 1))"
   ],
   "metadata": {
    "collapsed": false,
    "pycharm": {
     "name": "#%%\n"
    }
   }
  },
  {
   "cell_type": "code",
   "execution_count": 7,
   "outputs": [],
   "source": [
    "from sklearn.preprocessing import StandardScaler\n",
    "sc = StandardScaler()\n",
    "x_scaled = sc.fit_transform(x)"
   ],
   "metadata": {
    "collapsed": false,
    "pycharm": {
     "name": "#%%\n"
    }
   }
  },
  {
   "cell_type": "code",
   "execution_count": 8,
   "outputs": [],
   "source": [
    "# Splitting the dataset into the Training set and Test set\n",
    "from sklearn.model_selection import train_test_split\n",
    "x_train, x_test, y_train, y_test = train_test_split(x_scaled, y_encode, test_size = 0.2,\\\n",
    "                                                    random_state = 0)"
   ],
   "metadata": {
    "collapsed": false,
    "pycharm": {
     "name": "#%%\n"
    }
   }
  },
  {
   "cell_type": "code",
   "execution_count": 9,
   "outputs": [],
   "source": [
    "# size/shape of dataframe\n",
    "n_samples = x_train.shape[0]\n",
    "n_featuers = x_train.shape[1]"
   ],
   "metadata": {
    "collapsed": false,
    "pycharm": {
     "name": "#%%\n"
    }
   }
  },
  {
   "cell_type": "code",
   "execution_count": 10,
   "outputs": [],
   "source": [
    "# Make the NN -----------------------------------------------------------------\n",
    "\n",
    "# Importing the Keras libraries and packages\n",
    "from keras.layers import Dense\n",
    "from keras.models import Sequential\n",
    "#from tensorflow.keras.layers import Dense"
   ],
   "metadata": {
    "collapsed": false,
    "pycharm": {
     "name": "#%%\n"
    }
   }
  },
  {
   "cell_type": "code",
   "execution_count": 44,
   "outputs": [],
   "source": [
    "# define and initialize the model\n",
    "my_classifier = Sequential()\n",
    "\n",
    "# Adding the input layer AND the first hidden layer (Pay attention to this)\n",
    "my_classifier.add(Dense(units = 100, kernel_initializer = 'uniform',\n",
    "                        activation = 'sigmoid', input_dim = n_featuers))\n",
    "\n",
    "# Adding the second hidden layer\n",
    "my_classifier.add(Dense(units = 100, kernel_initializer = 'uniform',\n",
    "                                                    activation = 'sigmoid'))\n",
    "\n",
    "# Adding the third hidden layer\n",
    "my_classifier.add(Dense(units = 100, kernel_initializer = 'uniform',\n",
    "                                                    activation = 'sigmoid'))\n",
    "\n",
    "# Adding the third hidden layer\n",
    "my_classifier.add(Dense(units = 100, kernel_initializer = 'uniform',\n",
    "                                                    activation = 'sigmoid'))\n",
    "\n",
    "# Adding the third hidden layer\n",
    "my_classifier.add(Dense(units = 100, kernel_initializer = 'uniform',\n",
    "                                                    activation = 'sigmoid'))\n",
    "\n",
    "# Adding the last (output) layer\n",
    "my_classifier.add(Dense(units=1, kernel_initializer = 'uniform',\n",
    "                        activation = 'sigmoid'))\n",
    "\n",
    "# Compiling the ANN\n",
    "my_classifier.compile(optimizer='adam', loss='binary_crossentropy',\n",
    "                      metrics=['accuracy'])"
   ],
   "metadata": {
    "collapsed": false,
    "pycharm": {
     "name": "#%%\n"
    }
   }
  },
  {
   "cell_type": "code",
   "execution_count": null,
   "outputs": [],
   "source": [
    "#my_classifier.compile(optimizer = 'adam', loss = 'binary_crossentropy',\n",
    "#                      metrics = ['accuracy'])"
   ],
   "metadata": {
    "collapsed": false,
    "pycharm": {
     "name": "#%%\n"
    }
   }
  },
  {
   "cell_type": "code",
   "execution_count": null,
   "outputs": [],
   "source": [
    "#-- plot the model\n",
    "#from keras.utils import plot_model\n",
    "#plot_model(my_classifier, to_file='model.png', show_shapes=True)"
   ],
   "metadata": {
    "collapsed": false,
    "pycharm": {
     "name": "#%%\n"
    }
   }
  },
  {
   "cell_type": "code",
   "execution_count": 45,
   "outputs": [
    {
     "name": "stdout",
     "output_type": "stream",
     "text": [
      "Epoch 1/100\n"
     ]
    },
    {
     "name": "stderr",
     "output_type": "stream",
     "text": [
      "2022-01-13 19:47:36.866088: I tensorflow/core/grappler/optimizers/custom_graph_optimizer_registry.cc:112] Plugin optimizer for device_type GPU is enabled.\n"
     ]
    },
    {
     "name": "stdout",
     "output_type": "stream",
     "text": [
      "37/37 [==============================] - 1s 16ms/step - loss: 0.6653 - accuracy: 0.6126 - val_loss: 0.6725 - val_accuracy: 0.6044\n",
      "Epoch 2/100\n",
      " 1/37 [..............................] - ETA: 0s - loss: 0.5156 - accuracy: 0.9000"
     ]
    },
    {
     "name": "stderr",
     "output_type": "stream",
     "text": [
      "2022-01-13 19:47:37.504285: I tensorflow/core/grappler/optimizers/custom_graph_optimizer_registry.cc:112] Plugin optimizer for device_type GPU is enabled.\n"
     ]
    },
    {
     "name": "stdout",
     "output_type": "stream",
     "text": [
      "37/37 [==============================] - 0s 10ms/step - loss: 0.6539 - accuracy: 0.6456 - val_loss: 0.6723 - val_accuracy: 0.6044\n",
      "Epoch 3/100\n",
      "37/37 [==============================] - 0s 11ms/step - loss: 0.6518 - accuracy: 0.6456 - val_loss: 0.6755 - val_accuracy: 0.6044\n",
      "Epoch 4/100\n",
      "37/37 [==============================] - 0s 11ms/step - loss: 0.6496 - accuracy: 0.6456 - val_loss: 0.6624 - val_accuracy: 0.6044\n",
      "Epoch 5/100\n",
      "37/37 [==============================] - 0s 10ms/step - loss: 0.5608 - accuracy: 0.6456 - val_loss: 0.4497 - val_accuracy: 0.6044\n",
      "Epoch 6/100\n",
      "37/37 [==============================] - 0s 10ms/step - loss: 0.3366 - accuracy: 0.9396 - val_loss: 0.2497 - val_accuracy: 0.9780\n",
      "Epoch 7/100\n",
      "37/37 [==============================] - 0s 10ms/step - loss: 0.2019 - accuracy: 0.9808 - val_loss: 0.1492 - val_accuracy: 0.9890\n",
      "Epoch 8/100\n",
      "37/37 [==============================] - 0s 10ms/step - loss: 0.1457 - accuracy: 0.9808 - val_loss: 0.1026 - val_accuracy: 0.9890\n",
      "Epoch 9/100\n",
      "37/37 [==============================] - 0s 9ms/step - loss: 0.1190 - accuracy: 0.9808 - val_loss: 0.0848 - val_accuracy: 0.9780\n",
      "Epoch 10/100\n",
      "37/37 [==============================] - 0s 10ms/step - loss: 0.1078 - accuracy: 0.9780 - val_loss: 0.0663 - val_accuracy: 0.9890\n",
      "Epoch 11/100\n",
      "37/37 [==============================] - 0s 9ms/step - loss: 0.0914 - accuracy: 0.9863 - val_loss: 0.0529 - val_accuracy: 0.9890\n",
      "Epoch 12/100\n",
      "37/37 [==============================] - 0s 10ms/step - loss: 0.0843 - accuracy: 0.9863 - val_loss: 0.0492 - val_accuracy: 0.9890\n",
      "Epoch 13/100\n",
      "37/37 [==============================] - 0s 9ms/step - loss: 0.0816 - accuracy: 0.9863 - val_loss: 0.0381 - val_accuracy: 1.0000\n",
      "Epoch 14/100\n",
      "37/37 [==============================] - 0s 10ms/step - loss: 0.0779 - accuracy: 0.9863 - val_loss: 0.0360 - val_accuracy: 1.0000\n",
      "Epoch 15/100\n",
      "37/37 [==============================] - 0s 10ms/step - loss: 0.0762 - accuracy: 0.9863 - val_loss: 0.0334 - val_accuracy: 1.0000\n",
      "Epoch 16/100\n",
      "37/37 [==============================] - 0s 10ms/step - loss: 0.0762 - accuracy: 0.9863 - val_loss: 0.0310 - val_accuracy: 1.0000\n",
      "Epoch 17/100\n",
      "37/37 [==============================] - 0s 10ms/step - loss: 0.0738 - accuracy: 0.9863 - val_loss: 0.0319 - val_accuracy: 0.9890\n",
      "Epoch 18/100\n",
      "37/37 [==============================] - 0s 10ms/step - loss: 0.0728 - accuracy: 0.9863 - val_loss: 0.0284 - val_accuracy: 0.9890\n",
      "Epoch 19/100\n",
      "37/37 [==============================] - 0s 10ms/step - loss: 0.0956 - accuracy: 0.9780 - val_loss: 0.0279 - val_accuracy: 0.9890\n",
      "Epoch 20/100\n",
      "37/37 [==============================] - 0s 10ms/step - loss: 0.1120 - accuracy: 0.9725 - val_loss: 0.0554 - val_accuracy: 0.9890\n",
      "Epoch 21/100\n",
      "37/37 [==============================] - 0s 10ms/step - loss: 0.0744 - accuracy: 0.9835 - val_loss: 0.0880 - val_accuracy: 0.9670\n",
      "Epoch 22/100\n",
      "37/37 [==============================] - 0s 10ms/step - loss: 0.0878 - accuracy: 0.9753 - val_loss: 0.0421 - val_accuracy: 0.9890\n",
      "Epoch 23/100\n",
      "37/37 [==============================] - 0s 10ms/step - loss: 0.0727 - accuracy: 0.9863 - val_loss: 0.0421 - val_accuracy: 0.9890\n",
      "Epoch 24/100\n",
      "37/37 [==============================] - 0s 10ms/step - loss: 0.0751 - accuracy: 0.9808 - val_loss: 0.0285 - val_accuracy: 0.9890\n",
      "Epoch 25/100\n",
      "37/37 [==============================] - 0s 10ms/step - loss: 0.0639 - accuracy: 0.9863 - val_loss: 0.0328 - val_accuracy: 0.9890\n",
      "Epoch 26/100\n",
      "37/37 [==============================] - 0s 11ms/step - loss: 0.0694 - accuracy: 0.9835 - val_loss: 0.0174 - val_accuracy: 1.0000\n",
      "Epoch 27/100\n",
      "37/37 [==============================] - 0s 9ms/step - loss: 0.0634 - accuracy: 0.9863 - val_loss: 0.0389 - val_accuracy: 0.9890\n",
      "Epoch 28/100\n",
      "37/37 [==============================] - 0s 9ms/step - loss: 0.0653 - accuracy: 0.9863 - val_loss: 0.0190 - val_accuracy: 1.0000\n",
      "Epoch 29/100\n",
      "37/37 [==============================] - 0s 10ms/step - loss: 0.0606 - accuracy: 0.9890 - val_loss: 0.0149 - val_accuracy: 1.0000\n",
      "Epoch 30/100\n",
      "37/37 [==============================] - 0s 9ms/step - loss: 0.0592 - accuracy: 0.9890 - val_loss: 0.0137 - val_accuracy: 1.0000\n",
      "Epoch 31/100\n",
      "37/37 [==============================] - 0s 9ms/step - loss: 0.0584 - accuracy: 0.9890 - val_loss: 0.0142 - val_accuracy: 1.0000\n",
      "Epoch 32/100\n",
      "37/37 [==============================] - 0s 9ms/step - loss: 0.0585 - accuracy: 0.9890 - val_loss: 0.0142 - val_accuracy: 1.0000\n",
      "Epoch 33/100\n",
      "37/37 [==============================] - 0s 9ms/step - loss: 0.0583 - accuracy: 0.9890 - val_loss: 0.0137 - val_accuracy: 1.0000\n",
      "Epoch 34/100\n",
      "37/37 [==============================] - 0s 9ms/step - loss: 0.0580 - accuracy: 0.9890 - val_loss: 0.0133 - val_accuracy: 1.0000\n",
      "Epoch 35/100\n",
      "37/37 [==============================] - 0s 9ms/step - loss: 0.0579 - accuracy: 0.9890 - val_loss: 0.0131 - val_accuracy: 1.0000\n",
      "Epoch 36/100\n",
      "37/37 [==============================] - 0s 9ms/step - loss: 0.0579 - accuracy: 0.9890 - val_loss: 0.0133 - val_accuracy: 1.0000\n",
      "Epoch 37/100\n",
      "37/37 [==============================] - 0s 9ms/step - loss: 0.0577 - accuracy: 0.9890 - val_loss: 0.0119 - val_accuracy: 1.0000\n",
      "Epoch 38/100\n",
      "37/37 [==============================] - 0s 9ms/step - loss: 0.0575 - accuracy: 0.9890 - val_loss: 0.0123 - val_accuracy: 1.0000\n",
      "Epoch 39/100\n",
      "37/37 [==============================] - 0s 9ms/step - loss: 0.0575 - accuracy: 0.9890 - val_loss: 0.0122 - val_accuracy: 1.0000\n",
      "Epoch 40/100\n",
      "37/37 [==============================] - 0s 9ms/step - loss: 0.0574 - accuracy: 0.9890 - val_loss: 0.0119 - val_accuracy: 1.0000\n",
      "Epoch 41/100\n",
      "37/37 [==============================] - 0s 9ms/step - loss: 0.0576 - accuracy: 0.9890 - val_loss: 0.0113 - val_accuracy: 1.0000\n",
      "Epoch 42/100\n",
      "37/37 [==============================] - 0s 9ms/step - loss: 0.0580 - accuracy: 0.9890 - val_loss: 0.0122 - val_accuracy: 1.0000\n",
      "Epoch 43/100\n",
      "37/37 [==============================] - 0s 10ms/step - loss: 0.0573 - accuracy: 0.9890 - val_loss: 0.0111 - val_accuracy: 1.0000\n",
      "Epoch 44/100\n",
      "37/37 [==============================] - 0s 9ms/step - loss: 0.0579 - accuracy: 0.9890 - val_loss: 0.0129 - val_accuracy: 1.0000\n",
      "Epoch 45/100\n",
      "37/37 [==============================] - 0s 9ms/step - loss: 0.0571 - accuracy: 0.9890 - val_loss: 0.0119 - val_accuracy: 1.0000\n",
      "Epoch 46/100\n",
      "37/37 [==============================] - 0s 9ms/step - loss: 0.0570 - accuracy: 0.9890 - val_loss: 0.0115 - val_accuracy: 1.0000\n",
      "Epoch 47/100\n",
      "37/37 [==============================] - 0s 9ms/step - loss: 0.0576 - accuracy: 0.9890 - val_loss: 0.0124 - val_accuracy: 1.0000\n",
      "Epoch 48/100\n",
      "37/37 [==============================] - 0s 9ms/step - loss: 0.0568 - accuracy: 0.9890 - val_loss: 0.0115 - val_accuracy: 1.0000\n",
      "Epoch 49/100\n",
      "37/37 [==============================] - 0s 9ms/step - loss: 0.0567 - accuracy: 0.9890 - val_loss: 0.0109 - val_accuracy: 1.0000\n",
      "Epoch 50/100\n",
      "37/37 [==============================] - 0s 9ms/step - loss: 0.0567 - accuracy: 0.9890 - val_loss: 0.0105 - val_accuracy: 1.0000\n",
      "Epoch 51/100\n",
      "37/37 [==============================] - 0s 9ms/step - loss: 0.0571 - accuracy: 0.9890 - val_loss: 0.0113 - val_accuracy: 1.0000\n",
      "Epoch 52/100\n",
      "37/37 [==============================] - 0s 9ms/step - loss: 0.0569 - accuracy: 0.9890 - val_loss: 0.0105 - val_accuracy: 1.0000\n",
      "Epoch 53/100\n",
      "37/37 [==============================] - 0s 9ms/step - loss: 0.0572 - accuracy: 0.9890 - val_loss: 0.0096 - val_accuracy: 1.0000\n",
      "Epoch 54/100\n",
      "37/37 [==============================] - 0s 9ms/step - loss: 0.0566 - accuracy: 0.9890 - val_loss: 0.0110 - val_accuracy: 1.0000\n",
      "Epoch 55/100\n",
      "37/37 [==============================] - 0s 9ms/step - loss: 0.0569 - accuracy: 0.9890 - val_loss: 0.0111 - val_accuracy: 1.0000\n",
      "Epoch 56/100\n",
      "37/37 [==============================] - 0s 9ms/step - loss: 0.0568 - accuracy: 0.9890 - val_loss: 0.0109 - val_accuracy: 1.0000\n",
      "Epoch 57/100\n",
      "37/37 [==============================] - 0s 9ms/step - loss: 0.0567 - accuracy: 0.9890 - val_loss: 0.0106 - val_accuracy: 1.0000\n",
      "Epoch 58/100\n",
      "37/37 [==============================] - 0s 9ms/step - loss: 0.0566 - accuracy: 0.9890 - val_loss: 0.0126 - val_accuracy: 1.0000\n",
      "Epoch 59/100\n",
      "37/37 [==============================] - 0s 9ms/step - loss: 0.0575 - accuracy: 0.9890 - val_loss: 0.0117 - val_accuracy: 1.0000\n",
      "Epoch 60/100\n",
      "37/37 [==============================] - 0s 9ms/step - loss: 0.0566 - accuracy: 0.9890 - val_loss: 0.0116 - val_accuracy: 1.0000\n",
      "Epoch 61/100\n",
      "37/37 [==============================] - 0s 9ms/step - loss: 0.0569 - accuracy: 0.9890 - val_loss: 0.0107 - val_accuracy: 1.0000\n",
      "Epoch 62/100\n",
      "37/37 [==============================] - 0s 9ms/step - loss: 0.0570 - accuracy: 0.9890 - val_loss: 0.0133 - val_accuracy: 1.0000\n",
      "Epoch 63/100\n",
      "37/37 [==============================] - 0s 9ms/step - loss: 0.0567 - accuracy: 0.9890 - val_loss: 0.0121 - val_accuracy: 1.0000\n",
      "Epoch 64/100\n",
      "37/37 [==============================] - 0s 9ms/step - loss: 0.0567 - accuracy: 0.9890 - val_loss: 0.0113 - val_accuracy: 1.0000\n",
      "Epoch 65/100\n",
      "37/37 [==============================] - 0s 9ms/step - loss: 0.0568 - accuracy: 0.9890 - val_loss: 0.0110 - val_accuracy: 1.0000\n",
      "Epoch 66/100\n",
      "37/37 [==============================] - 0s 9ms/step - loss: 0.0566 - accuracy: 0.9890 - val_loss: 0.0116 - val_accuracy: 1.0000\n",
      "Epoch 67/100\n",
      "37/37 [==============================] - 0s 9ms/step - loss: 0.0565 - accuracy: 0.9890 - val_loss: 0.0106 - val_accuracy: 1.0000\n",
      "Epoch 68/100\n",
      "37/37 [==============================] - 0s 9ms/step - loss: 0.0567 - accuracy: 0.9890 - val_loss: 0.0108 - val_accuracy: 1.0000\n",
      "Epoch 69/100\n",
      "37/37 [==============================] - 0s 9ms/step - loss: 0.0569 - accuracy: 0.9890 - val_loss: 0.0107 - val_accuracy: 1.0000\n",
      "Epoch 70/100\n",
      "37/37 [==============================] - 0s 9ms/step - loss: 0.0566 - accuracy: 0.9890 - val_loss: 0.0107 - val_accuracy: 1.0000\n",
      "Epoch 71/100\n",
      "37/37 [==============================] - 0s 9ms/step - loss: 0.0563 - accuracy: 0.9890 - val_loss: 0.0105 - val_accuracy: 1.0000\n",
      "Epoch 72/100\n",
      "37/37 [==============================] - 0s 9ms/step - loss: 0.0567 - accuracy: 0.9890 - val_loss: 0.0110 - val_accuracy: 1.0000\n",
      "Epoch 73/100\n",
      "37/37 [==============================] - 0s 9ms/step - loss: 0.0572 - accuracy: 0.9890 - val_loss: 0.0092 - val_accuracy: 1.0000\n",
      "Epoch 74/100\n",
      "37/37 [==============================] - 0s 9ms/step - loss: 0.0571 - accuracy: 0.9890 - val_loss: 0.0129 - val_accuracy: 1.0000\n",
      "Epoch 75/100\n",
      "37/37 [==============================] - 0s 9ms/step - loss: 0.0567 - accuracy: 0.9890 - val_loss: 0.0108 - val_accuracy: 1.0000\n",
      "Epoch 76/100\n",
      "37/37 [==============================] - 0s 9ms/step - loss: 0.0565 - accuracy: 0.9890 - val_loss: 0.0114 - val_accuracy: 1.0000\n",
      "Epoch 77/100\n",
      "37/37 [==============================] - 0s 9ms/step - loss: 0.0566 - accuracy: 0.9890 - val_loss: 0.0110 - val_accuracy: 1.0000\n",
      "Epoch 78/100\n",
      "37/37 [==============================] - 0s 9ms/step - loss: 0.0563 - accuracy: 0.9890 - val_loss: 0.0101 - val_accuracy: 1.0000\n",
      "Epoch 79/100\n",
      "37/37 [==============================] - 0s 9ms/step - loss: 0.0565 - accuracy: 0.9890 - val_loss: 0.0107 - val_accuracy: 1.0000\n",
      "Epoch 80/100\n",
      "37/37 [==============================] - 0s 9ms/step - loss: 0.0567 - accuracy: 0.9890 - val_loss: 0.0108 - val_accuracy: 1.0000\n",
      "Epoch 81/100\n",
      "37/37 [==============================] - 0s 9ms/step - loss: 0.0566 - accuracy: 0.9890 - val_loss: 0.0092 - val_accuracy: 1.0000\n",
      "Epoch 82/100\n",
      "37/37 [==============================] - 0s 9ms/step - loss: 0.0569 - accuracy: 0.9890 - val_loss: 0.0125 - val_accuracy: 1.0000\n",
      "Epoch 83/100\n",
      "37/37 [==============================] - 0s 9ms/step - loss: 0.0571 - accuracy: 0.9890 - val_loss: 0.0103 - val_accuracy: 1.0000\n",
      "Epoch 84/100\n",
      "37/37 [==============================] - 0s 9ms/step - loss: 0.0565 - accuracy: 0.9890 - val_loss: 0.0102 - val_accuracy: 1.0000\n",
      "Epoch 85/100\n",
      "37/37 [==============================] - 0s 9ms/step - loss: 0.0572 - accuracy: 0.9890 - val_loss: 0.0122 - val_accuracy: 1.0000\n",
      "Epoch 86/100\n",
      "37/37 [==============================] - 0s 9ms/step - loss: 0.0566 - accuracy: 0.9890 - val_loss: 0.0115 - val_accuracy: 1.0000\n",
      "Epoch 87/100\n",
      "37/37 [==============================] - 0s 9ms/step - loss: 0.0563 - accuracy: 0.9890 - val_loss: 0.0111 - val_accuracy: 1.0000\n",
      "Epoch 88/100\n",
      "37/37 [==============================] - 0s 9ms/step - loss: 0.0566 - accuracy: 0.9890 - val_loss: 0.0110 - val_accuracy: 1.0000\n",
      "Epoch 89/100\n",
      "37/37 [==============================] - 0s 9ms/step - loss: 0.0564 - accuracy: 0.9890 - val_loss: 0.0106 - val_accuracy: 1.0000\n",
      "Epoch 90/100\n",
      "37/37 [==============================] - 0s 9ms/step - loss: 0.0562 - accuracy: 0.9890 - val_loss: 0.0104 - val_accuracy: 1.0000\n",
      "Epoch 91/100\n",
      "37/37 [==============================] - 0s 9ms/step - loss: 0.0565 - accuracy: 0.9890 - val_loss: 0.0104 - val_accuracy: 1.0000\n",
      "Epoch 92/100\n",
      "37/37 [==============================] - 0s 9ms/step - loss: 0.0563 - accuracy: 0.9890 - val_loss: 0.0106 - val_accuracy: 1.0000\n",
      "Epoch 93/100\n",
      "37/37 [==============================] - 0s 9ms/step - loss: 0.0565 - accuracy: 0.9890 - val_loss: 0.0100 - val_accuracy: 1.0000\n",
      "Epoch 94/100\n",
      "37/37 [==============================] - 0s 9ms/step - loss: 0.0562 - accuracy: 0.9890 - val_loss: 0.0099 - val_accuracy: 1.0000\n",
      "Epoch 95/100\n",
      "37/37 [==============================] - 0s 9ms/step - loss: 0.0563 - accuracy: 0.9890 - val_loss: 0.0107 - val_accuracy: 1.0000\n",
      "Epoch 96/100\n",
      "37/37 [==============================] - 0s 9ms/step - loss: 0.0564 - accuracy: 0.9890 - val_loss: 0.0107 - val_accuracy: 1.0000\n",
      "Epoch 97/100\n",
      "37/37 [==============================] - 0s 9ms/step - loss: 0.0567 - accuracy: 0.9890 - val_loss: 0.0101 - val_accuracy: 1.0000\n",
      "Epoch 98/100\n",
      "37/37 [==============================] - 0s 9ms/step - loss: 0.0564 - accuracy: 0.9890 - val_loss: 0.0104 - val_accuracy: 1.0000\n",
      "Epoch 99/100\n",
      "37/37 [==============================] - 0s 9ms/step - loss: 0.0563 - accuracy: 0.9890 - val_loss: 0.0105 - val_accuracy: 1.0000\n",
      "Epoch 100/100\n",
      "37/37 [==============================] - 0s 9ms/step - loss: 0.0566 - accuracy: 0.9890 - val_loss: 0.0099 - val_accuracy: 1.0000\n"
     ]
    }
   ],
   "source": [
    "# Fitting the ANN to the Training set\n",
    "history = my_classifier.fit(x_train, y_train, validation_split=0.2,\n",
    "                            batch_size = 10, epochs = 100)"
   ],
   "metadata": {
    "collapsed": false,
    "pycharm": {
     "name": "#%%\n"
    }
   }
  },
  {
   "cell_type": "code",
   "execution_count": 29,
   "outputs": [
    {
     "name": "stderr",
     "output_type": "stream",
     "text": [
      "2022-01-13 19:44:21.073838: I tensorflow/core/grappler/optimizers/custom_graph_optimizer_registry.cc:112] Plugin optimizer for device_type GPU is enabled.\n"
     ]
    }
   ],
   "source": [
    "# Make predictions\n",
    "# Predicting the Test set results\n",
    "y_pred_train = my_classifier.predict(x_train)\n",
    "y_pred_train = (y_pred_train > 0.5)"
   ],
   "metadata": {
    "collapsed": false,
    "pycharm": {
     "name": "#%%\n"
    }
   }
  },
  {
   "cell_type": "code",
   "execution_count": 46,
   "outputs": [
    {
     "name": "stderr",
     "output_type": "stream",
     "text": [
      "2022-01-13 19:48:12.162589: I tensorflow/core/grappler/optimizers/custom_graph_optimizer_registry.cc:112] Plugin optimizer for device_type GPU is enabled.\n"
     ]
    }
   ],
   "source": [
    "# Predicting the Test set results\n",
    "y_pred_test = my_classifier.predict(x_test)\n",
    "y_pred_test = (y_pred_test > 0.5)"
   ],
   "metadata": {
    "collapsed": false,
    "pycharm": {
     "name": "#%%\n"
    }
   }
  },
  {
   "cell_type": "code",
   "execution_count": 47,
   "outputs": [
    {
     "data": {
      "text/plain": "array([[64,  3],\n       [ 3, 44]])"
     },
     "execution_count": 47,
     "metadata": {},
     "output_type": "execute_result"
    }
   ],
   "source": [
    "# Making the Confusion Matrix\n",
    "from sklearn.metrics import confusion_matrix\n",
    "cm = confusion_matrix(y_test, y_pred_test)\n",
    "cm"
   ],
   "metadata": {
    "collapsed": false,
    "pycharm": {
     "name": "#%%\n"
    }
   }
  },
  {
   "cell_type": "code",
   "execution_count": 24,
   "outputs": [
    {
     "name": "stdout",
     "output_type": "stream",
     "text": [
      "dict_keys(['loss', 'accuracy', 'val_loss', 'val_accuracy'])\n"
     ]
    }
   ],
   "source": [
    "# list all the data in history\n",
    "print(history.history.keys())"
   ],
   "metadata": {
    "collapsed": false,
    "pycharm": {
     "name": "#%%\n"
    }
   }
  },
  {
   "cell_type": "code",
   "execution_count": 25,
   "outputs": [
    {
     "data": {
      "text/plain": "<Figure size 432x288 with 1 Axes>",
      "image/png": "[encoded data removed]"
     },
     "metadata": {
      "needs_background": "light"
     },
     "output_type": "display_data"
    }
   ],
   "source": [
    "# Plot the accuracy for both train and validation set\n",
    "plt.subplots() # open a new plot\n",
    "plt.plot(history.history['accuracy'])\n",
    "plt.plot(history.history['val_accuracy'])\n",
    "plt.title('model accuracy')\n",
    "plt.ylabel('accuracy')\n",
    "plt.xlabel('epoch')\n",
    "plt.legend(['train', 'validation'])\n",
    "plt.show()"
   ],
   "metadata": {
    "collapsed": false,
    "pycharm": {
     "name": "#%%\n"
    }
   }
  },
  {
   "cell_type": "code",
   "execution_count": 26,
   "outputs": [
    {
     "data": {
      "text/plain": "<Figure size 432x288 with 1 Axes>",
      "image/png": "[encoded data removed]"
     },
     "metadata": {
      "needs_background": "light"
     },
     "output_type": "display_data"
    }
   ],
   "source": [
    "# Plot the loss for both train and validation set\n",
    "plt.subplots() # open a new plot\n",
    "plt.plot(history.history['loss'])\n",
    "plt.plot(history.history['val_loss'])\n",
    "plt.title('model loss')\n",
    "plt.ylabel('loss')\n",
    "plt.xlabel('epoch')\n",
    "plt.legend(['train', 'validation'])\n",
    "plt.show()"
   ],
   "metadata": {
    "collapsed": false,
    "pycharm": {
     "name": "#%%\n"
    }
   }
  }
 ],
 "metadata": {
  "kernelspec": {
   "display_name": "Python 3",
   "language": "python",
   "name": "python3"
  },
  "language_info": {
   "codemirror_mode": {
    "name": "ipython",
    "version": 2
   },
   "file_extension": ".py",
   "mimetype": "text/x-python",
   "name": "python",
   "nbconvert_exporter": "python",
   "pygments_lexer": "ipython2",
   "version": "2.7.6"
  }
 },
 "nbformat": 4,
 "nbformat_minor": 0
}