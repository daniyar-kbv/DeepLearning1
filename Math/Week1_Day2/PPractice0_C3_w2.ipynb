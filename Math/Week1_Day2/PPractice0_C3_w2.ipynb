{
 "cells": [
  {
   "cell_type": "code",
   "execution_count": 1,
   "outputs": [],
   "source": [
    "# Info:\n",
    "\n",
    "# Author:\n",
    "# Date\n",
    "\n",
    "# Purpose:\n",
    "\n",
    "# inputs:\n",
    "\n",
    "# outputs:\n",
    "\n",
    "# Version control:\n",
    "\n",
    "#------------------------------------------------------------------------------"
   ],
   "metadata": {
    "collapsed": false,
    "pycharm": {
     "name": "#%%\n"
    }
   }
  },
  {
   "cell_type": "code",
   "execution_count": 2,
   "outputs": [],
   "source": [
    "import numpy as np\n",
    "import matplotlib.pyplot as plt"
   ],
   "metadata": {
    "collapsed": false,
    "pycharm": {
     "name": "#%%\n"
    }
   }
  },
  {
   "cell_type": "code",
   "execution_count": 3,
   "outputs": [],
   "source": [
    "# Plot activation functions\n",
    "\n",
    "# Create a range of x\n",
    "x = np.arange(-10, 10)\n",
    "\n",
    "# linear activation function\n",
    "a = 1\n",
    "y = a*x"
   ],
   "metadata": {
    "collapsed": false,
    "pycharm": {
     "name": "#%%\n"
    }
   }
  },
  {
   "cell_type": "code",
   "execution_count": 4,
   "outputs": [
    {
     "data": {
      "text/plain": "Text(0, 0.5, 'F(x)')"
     },
     "execution_count": 4,
     "metadata": {},
     "output_type": "execute_result"
    },
    {
     "data": {
      "text/plain": "<Figure size 432x288 with 1 Axes>",
      "image/png": "[encoded data removed]"
     },
     "metadata": {
      "needs_background": "light"
     },
     "output_type": "display_data"
    }
   ],
   "source": [
    "plt.subplots() # open a new plot\n",
    "plt.plot(x, y)\n",
    "plt.title(\"Linear\")\n",
    "plt.xlabel (\"x\")\n",
    "plt.ylabel (\"F(x)\")"
   ],
   "metadata": {
    "collapsed": false,
    "pycharm": {
     "name": "#%%\n"
    }
   }
  },
  {
   "cell_type": "code",
   "execution_count": null,
   "outputs": [],
   "source": [
    "# Sigmoid activation function\n",
    "y = 1 / (1 + np.exp(-x))\n",
    "\n",
    "plt.subplots() # open a new plot\n",
    "plt.plot(x, y)\n",
    "plt.title(\"Sigmoid\")\n",
    "plt.xlabel (\"x\")\n",
    "plt.ylabel (\"F(x)\")"
   ],
   "metadata": {
    "collapsed": false,
    "pycharm": {
     "name": "#%%\n"
    }
   }
  },
  {
   "cell_type": "code",
   "execution_count": null,
   "outputs": [],
   "source": [
    "# Sigmoid activation function\n",
    "y = np.tanh(x)\n",
    "\n",
    "plt.subplots() # open a new plot\n",
    "plt.plot(x, y)\n",
    "plt.title(\"tanh\")\n",
    "plt.xlabel (\"x\")\n",
    "plt.ylabel (\"F(x)\")"
   ],
   "metadata": {
    "collapsed": false,
    "pycharm": {
     "name": "#%%\n"
    }
   }
  }
 ],
 "metadata": {
  "kernelspec": {
   "display_name": "Python 3",
   "language": "python",
   "name": "python3"
  },
  "language_info": {
   "codemirror_mode": {
    "name": "ipython",
    "version": 2
   },
   "file_extension": ".py",
   "mimetype": "text/x-python",
   "name": "python",
   "nbconvert_exporter": "python",
   "pygments_lexer": "ipython2",
   "version": "2.7.6"
  }
 },
 "nbformat": 4,
 "nbformat_minor": 0
}