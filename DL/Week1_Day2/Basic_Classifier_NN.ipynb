{
 "cells": [
  {
   "cell_type": "markdown",
   "id": "c66bf4a4",
   "metadata": {},
   "source": [
    "# Basic Classifier NN"
   ]
  },
  {
   "cell_type": "markdown",
   "id": "da4db095",
   "metadata": {},
   "source": [
    "### Building Basic Classifier using Neural Networks.\n",
    "### Pay attention to the NN architecture, not the data or pipeline"
   ]
  },
  {
   "cell_type": "markdown",
   "id": "661a2033",
   "metadata": {},
   "source": [
    "Dataset: [Pima Indians Diabetes Database](Pima Indians Diabetes Database)\n",
    "    \n",
    "There are 9 attributes in each case of the dataset. They are:\n",
    "    \n",
    "- Pregnancies: Number of times pregnant\n",
    "- Glucose: Plasma glucose concentration a 2 hours in an oral glucose tolerance test\n",
    "- BloodPressure: Diastolic blood pressure (mm Hg)\n",
    "- SkinThickness: Triceps skin fold thickness (mm)\n",
    "- Insulin: 2-Hour serum insulin (mu U/ml)\n",
    "- BMI: Body mass index (weight in kg/(height in m)^2)\n",
    "- DiabetesPedigreeFunction: Diabetes pedigree function\n",
    "- Age: Age (years)\n",
    "- Outcome: Class variable (0 or 1)"
   ]
  },
  {
   "cell_type": "code",
   "execution_count": 4,
   "id": "885d6b75",
   "metadata": {},
   "outputs": [],
   "source": [
    "# import libraries\n",
    "\n",
    "import numpy as np\n",
    "import pandas as pd\n",
    "from keras.models import Sequential\n",
    "from keras.layers import Dense"
   ]
  },
  {
   "cell_type": "code",
   "execution_count": 5,
   "id": "49b136f6",
   "metadata": {},
   "outputs": [
    {
     "data": {
      "text/plain": "     Pregnancies  Glucose  BloodPressure  SkinThickness  Insulin   BMI  \\\n0              6      148             72             35        0  33.6   \n1              1       85             66             29        0  26.6   \n2              8      183             64              0        0  23.3   \n3              1       89             66             23       94  28.1   \n4              0      137             40             35      168  43.1   \n..           ...      ...            ...            ...      ...   ...   \n763           10      101             76             48      180  32.9   \n764            2      122             70             27        0  36.8   \n765            5      121             72             23      112  26.2   \n766            1      126             60              0        0  30.1   \n767            1       93             70             31        0  30.4   \n\n     DiabetesPedigreeFunction  Age  Outcome  \n0                       0.627   50        1  \n1                       0.351   31        0  \n2                       0.672   32        1  \n3                       0.167   21        0  \n4                       2.288   33        1  \n..                        ...  ...      ...  \n763                     0.171   63        0  \n764                     0.340   27        0  \n765                     0.245   30        0  \n766                     0.349   47        1  \n767                     0.315   23        0  \n\n[768 rows x 9 columns]",
      "text/html": "<div>\n<style scoped>\n    .dataframe tbody tr th:only-of-type {\n        vertical-align: middle;\n    }\n\n    .dataframe tbody tr th {\n        vertical-align: top;\n    }\n\n    .dataframe thead th {\n        text-align: right;\n    }\n</style>\n<table border=\"1\" class=\"dataframe\">\n  <thead>\n    <tr style=\"text-align: right;\">\n      <th></th>\n      <th>Pregnancies</th>\n      <th>Glucose</th>\n      <th>BloodPressure</th>\n      <th>SkinThickness</th>\n      <th>Insulin</th>\n      <th>BMI</th>\n      <th>DiabetesPedigreeFunction</th>\n      <th>Age</th>\n      <th>Outcome</th>\n    </tr>\n  </thead>\n  <tbody>\n    <tr>\n      <th>0</th>\n      <td>6</td>\n      <td>148</td>\n      <td>72</td>\n      <td>35</td>\n      <td>0</td>\n      <td>33.6</td>\n      <td>0.627</td>\n      <td>50</td>\n      <td>1</td>\n    </tr>\n    <tr>\n      <th>1</th>\n      <td>1</td>\n      <td>85</td>\n      <td>66</td>\n      <td>29</td>\n      <td>0</td>\n      <td>26.6</td>\n      <td>0.351</td>\n      <td>31</td>\n      <td>0</td>\n    </tr>\n    <tr>\n      <th>2</th>\n      <td>8</td>\n      <td>183</td>\n      <td>64</td>\n      <td>0</td>\n      <td>0</td>\n      <td>23.3</td>\n      <td>0.672</td>\n      <td>32</td>\n      <td>1</td>\n    </tr>\n    <tr>\n      <th>3</th>\n      <td>1</td>\n      <td>89</td>\n      <td>66</td>\n      <td>23</td>\n      <td>94</td>\n      <td>28.1</td>\n      <td>0.167</td>\n      <td>21</td>\n      <td>0</td>\n    </tr>\n    <tr>\n      <th>4</th>\n      <td>0</td>\n      <td>137</td>\n      <td>40</td>\n      <td>35</td>\n      <td>168</td>\n      <td>43.1</td>\n      <td>2.288</td>\n      <td>33</td>\n      <td>1</td>\n    </tr>\n    <tr>\n      <th>...</th>\n      <td>...</td>\n      <td>...</td>\n      <td>...</td>\n      <td>...</td>\n      <td>...</td>\n      <td>...</td>\n      <td>...</td>\n      <td>...</td>\n      <td>...</td>\n    </tr>\n    <tr>\n      <th>763</th>\n      <td>10</td>\n      <td>101</td>\n      <td>76</td>\n      <td>48</td>\n      <td>180</td>\n      <td>32.9</td>\n      <td>0.171</td>\n      <td>63</td>\n      <td>0</td>\n    </tr>\n    <tr>\n      <th>764</th>\n      <td>2</td>\n      <td>122</td>\n      <td>70</td>\n      <td>27</td>\n      <td>0</td>\n      <td>36.8</td>\n      <td>0.340</td>\n      <td>27</td>\n      <td>0</td>\n    </tr>\n    <tr>\n      <th>765</th>\n      <td>5</td>\n      <td>121</td>\n      <td>72</td>\n      <td>23</td>\n      <td>112</td>\n      <td>26.2</td>\n      <td>0.245</td>\n      <td>30</td>\n      <td>0</td>\n    </tr>\n    <tr>\n      <th>766</th>\n      <td>1</td>\n      <td>126</td>\n      <td>60</td>\n      <td>0</td>\n      <td>0</td>\n      <td>30.1</td>\n      <td>0.349</td>\n      <td>47</td>\n      <td>1</td>\n    </tr>\n    <tr>\n      <th>767</th>\n      <td>1</td>\n      <td>93</td>\n      <td>70</td>\n      <td>31</td>\n      <td>0</td>\n      <td>30.4</td>\n      <td>0.315</td>\n      <td>23</td>\n      <td>0</td>\n    </tr>\n  </tbody>\n</table>\n<p>768 rows × 9 columns</p>\n</div>"
     },
     "execution_count": 5,
     "metadata": {},
     "output_type": "execute_result"
    }
   ],
   "source": [
    "# load dataset\n",
    "# load the dataset\n",
    "dataset = pd.read_csv('pima-indians-diabetes.csv')\n",
    "dataset"
   ]
  },
  {
   "cell_type": "code",
   "execution_count": 6,
   "id": "5a831039",
   "metadata": {},
   "outputs": [],
   "source": [
    "# split data\n",
    "X = dataset.iloc[:,:-1]\n",
    "Y = dataset.iloc[:,-1]"
   ]
  },
  {
   "cell_type": "code",
   "execution_count": 7,
   "id": "25cf035d",
   "metadata": {},
   "outputs": [
    {
     "name": "stdout",
     "output_type": "stream",
     "text": [
      "Metal device set to: Apple M1 Pro\n"
     ]
    },
    {
     "name": "stderr",
     "output_type": "stream",
     "text": [
      "2022-01-12 21:25:53.987366: I tensorflow/core/common_runtime/pluggable_device/pluggable_device_factory.cc:305] Could not identify NUMA node of platform GPU ID 0, defaulting to 0. Your kernel may not have been built with NUMA support.\n",
      "2022-01-12 21:25:53.987512: I tensorflow/core/common_runtime/pluggable_device/pluggable_device_factory.cc:271] Created TensorFlow device (/job:localhost/replica:0/task:0/device:GPU:0 with 0 MB memory) -> physical PluggableDevice (device: 0, name: METAL, pci bus id: <undefined>)\n"
     ]
    }
   ],
   "source": [
    "# define model\n",
    "model = Sequential()\n",
    "model.add(Dense(12, input_dim=8, activation='relu'))\n",
    "model.add(Dense(8, activation='relu'))\n",
    "model.add(Dense(1, activation='sigmoid'))\n",
    "model.compile(loss='binary_crossentropy', optimizer='adam', metrics=['accuracy'])"
   ]
  },
  {
   "cell_type": "code",
   "execution_count": 8,
   "id": "3c7405a8",
   "metadata": {},
   "outputs": [
    {
     "name": "stderr",
     "output_type": "stream",
     "text": [
      "2022-01-12 21:25:54.067427: W tensorflow/core/platform/profile_utils/cpu_utils.cc:128] Failed to get CPU frequency: 0 Hz\n"
     ]
    },
    {
     "name": "stdout",
     "output_type": "stream",
     "text": [
      "Epoch 1/50\n"
     ]
    },
    {
     "name": "stderr",
     "output_type": "stream",
     "text": [
      "2022-01-12 21:25:54.198500: I tensorflow/core/grappler/optimizers/custom_graph_optimizer_registry.cc:112] Plugin optimizer for device_type GPU is enabled.\n"
     ]
    },
    {
     "name": "stdout",
     "output_type": "stream",
     "text": [
      "77/77 [==============================] - 1s 7ms/step - loss: 6.5821 - accuracy: 0.3620\n",
      "Epoch 2/50\n",
      "77/77 [==============================] - 0s 6ms/step - loss: 1.5834 - accuracy: 0.4635\n",
      "Epoch 3/50\n",
      "77/77 [==============================] - 0s 6ms/step - loss: 1.0074 - accuracy: 0.5234\n",
      "Epoch 4/50\n",
      "77/77 [==============================] - 0s 6ms/step - loss: 0.8493 - accuracy: 0.5729\n",
      "Epoch 5/50\n",
      "77/77 [==============================] - 0s 6ms/step - loss: 0.7554 - accuracy: 0.6055\n",
      "Epoch 6/50\n",
      "77/77 [==============================] - 0s 6ms/step - loss: 0.7047 - accuracy: 0.6289\n",
      "Epoch 7/50\n",
      "77/77 [==============================] - 0s 6ms/step - loss: 0.6796 - accuracy: 0.6458\n",
      "Epoch 8/50\n",
      "77/77 [==============================] - 0s 6ms/step - loss: 0.6664 - accuracy: 0.6198\n",
      "Epoch 9/50\n",
      "77/77 [==============================] - 0s 6ms/step - loss: 0.6523 - accuracy: 0.6328\n",
      "Epoch 10/50\n",
      "77/77 [==============================] - 0s 6ms/step - loss: 0.6463 - accuracy: 0.6471\n",
      "Epoch 11/50\n",
      "77/77 [==============================] - 0s 6ms/step - loss: 0.6269 - accuracy: 0.6497\n",
      "Epoch 12/50\n",
      "77/77 [==============================] - 0s 6ms/step - loss: 0.6285 - accuracy: 0.6562\n",
      "Epoch 13/50\n",
      "77/77 [==============================] - 0s 6ms/step - loss: 0.6208 - accuracy: 0.6497\n",
      "Epoch 14/50\n",
      "77/77 [==============================] - 0s 6ms/step - loss: 0.6190 - accuracy: 0.6602\n",
      "Epoch 15/50\n",
      "77/77 [==============================] - 0s 6ms/step - loss: 0.6092 - accuracy: 0.6745\n",
      "Epoch 16/50\n",
      "77/77 [==============================] - 0s 6ms/step - loss: 0.6109 - accuracy: 0.6562\n",
      "Epoch 17/50\n",
      "77/77 [==============================] - 0s 6ms/step - loss: 0.6114 - accuracy: 0.6510\n",
      "Epoch 18/50\n",
      "77/77 [==============================] - 0s 6ms/step - loss: 0.6059 - accuracy: 0.6549\n",
      "Epoch 19/50\n",
      "77/77 [==============================] - 0s 6ms/step - loss: 0.6037 - accuracy: 0.6680\n",
      "Epoch 20/50\n",
      "77/77 [==============================] - 0s 6ms/step - loss: 0.6028 - accuracy: 0.6628\n",
      "Epoch 21/50\n",
      "77/77 [==============================] - 0s 6ms/step - loss: 0.6001 - accuracy: 0.6719\n",
      "Epoch 22/50\n",
      "77/77 [==============================] - 0s 6ms/step - loss: 0.5979 - accuracy: 0.6732\n",
      "Epoch 23/50\n",
      "77/77 [==============================] - 0s 6ms/step - loss: 0.5950 - accuracy: 0.6758\n",
      "Epoch 24/50\n",
      "77/77 [==============================] - 0s 6ms/step - loss: 0.5928 - accuracy: 0.6862\n",
      "Epoch 25/50\n",
      "77/77 [==============================] - 0s 6ms/step - loss: 0.5871 - accuracy: 0.6953\n",
      "Epoch 26/50\n",
      "77/77 [==============================] - 0s 6ms/step - loss: 0.5918 - accuracy: 0.6732\n",
      "Epoch 27/50\n",
      "77/77 [==============================] - 0s 6ms/step - loss: 0.5877 - accuracy: 0.6875\n",
      "Epoch 28/50\n",
      "77/77 [==============================] - 0s 6ms/step - loss: 0.5846 - accuracy: 0.7070\n",
      "Epoch 29/50\n",
      "77/77 [==============================] - 0s 6ms/step - loss: 0.5811 - accuracy: 0.7109\n",
      "Epoch 30/50\n",
      "77/77 [==============================] - 0s 6ms/step - loss: 0.5820 - accuracy: 0.7005\n",
      "Epoch 31/50\n",
      "77/77 [==============================] - 0s 6ms/step - loss: 0.5811 - accuracy: 0.6914\n",
      "Epoch 32/50\n",
      "77/77 [==============================] - 0s 6ms/step - loss: 0.5776 - accuracy: 0.7044\n",
      "Epoch 33/50\n",
      "77/77 [==============================] - 0s 6ms/step - loss: 0.5805 - accuracy: 0.7031\n",
      "Epoch 34/50\n",
      "77/77 [==============================] - 0s 6ms/step - loss: 0.5771 - accuracy: 0.7044\n",
      "Epoch 35/50\n",
      "77/77 [==============================] - 0s 6ms/step - loss: 0.5760 - accuracy: 0.7018\n",
      "Epoch 36/50\n",
      "77/77 [==============================] - 0s 6ms/step - loss: 0.5784 - accuracy: 0.6927\n",
      "Epoch 37/50\n",
      "77/77 [==============================] - 0s 6ms/step - loss: 0.5746 - accuracy: 0.7135\n",
      "Epoch 38/50\n",
      "77/77 [==============================] - 0s 6ms/step - loss: 0.5805 - accuracy: 0.6914\n",
      "Epoch 39/50\n",
      "77/77 [==============================] - 0s 6ms/step - loss: 0.5748 - accuracy: 0.7057\n",
      "Epoch 40/50\n",
      "77/77 [==============================] - 0s 6ms/step - loss: 0.5730 - accuracy: 0.7109\n",
      "Epoch 41/50\n",
      "77/77 [==============================] - 0s 6ms/step - loss: 0.5645 - accuracy: 0.7057\n",
      "Epoch 42/50\n",
      "77/77 [==============================] - 0s 6ms/step - loss: 0.5716 - accuracy: 0.7070\n",
      "Epoch 43/50\n",
      "77/77 [==============================] - 0s 6ms/step - loss: 0.5725 - accuracy: 0.7031\n",
      "Epoch 44/50\n",
      "77/77 [==============================] - 0s 6ms/step - loss: 0.5666 - accuracy: 0.7214\n",
      "Epoch 45/50\n",
      "77/77 [==============================] - 0s 6ms/step - loss: 0.5714 - accuracy: 0.7057\n",
      "Epoch 46/50\n",
      "77/77 [==============================] - 0s 6ms/step - loss: 0.5721 - accuracy: 0.7057\n",
      "Epoch 47/50\n",
      "77/77 [==============================] - 0s 6ms/step - loss: 0.5728 - accuracy: 0.7135\n",
      "Epoch 48/50\n",
      "77/77 [==============================] - 0s 5ms/step - loss: 0.5689 - accuracy: 0.7005\n",
      "Epoch 49/50\n",
      "77/77 [==============================] - 0s 6ms/step - loss: 0.5629 - accuracy: 0.7214\n",
      "Epoch 50/50\n",
      "77/77 [==============================] - 0s 6ms/step - loss: 0.5616 - accuracy: 0.7214\n"
     ]
    },
    {
     "data": {
      "text/plain": "<keras.callbacks.History at 0x13882ad00>"
     },
     "execution_count": 8,
     "metadata": {},
     "output_type": "execute_result"
    }
   ],
   "source": [
    "# fit model\n",
    "model.fit(X, Y, epochs=50, batch_size=10)"
   ]
  },
  {
   "cell_type": "code",
   "execution_count": 9,
   "id": "95441204",
   "metadata": {},
   "outputs": [
    {
     "name": "stdout",
     "output_type": "stream",
     "text": [
      "24/24 [==============================] - 0s 3ms/step - loss: 0.5572 - accuracy: 0.7279\n",
      "Accuracy: 72.79\n"
     ]
    },
    {
     "name": "stderr",
     "output_type": "stream",
     "text": [
      "2022-01-12 21:26:17.160175: I tensorflow/core/grappler/optimizers/custom_graph_optimizer_registry.cc:112] Plugin optimizer for device_type GPU is enabled.\n"
     ]
    }
   ],
   "source": [
    "# evaluate the model\n",
    "_, accuracy = model.evaluate(X, Y)\n",
    "print('Accuracy: %.2f' % (accuracy*100))"
   ]
  },
  {
   "cell_type": "code",
   "execution_count": 10,
   "id": "8d5d6439",
   "metadata": {},
   "outputs": [
    {
     "name": "stdout",
     "output_type": "stream",
     "text": [
      "Epoch 1/50\n",
      " 8/77 [==>...........................] - ETA: 0s - loss: 2.4138 - accuracy: 0.5250 "
     ]
    },
    {
     "name": "stderr",
     "output_type": "stream",
     "text": [
      "2022-01-12 21:26:17.441115: I tensorflow/core/grappler/optimizers/custom_graph_optimizer_registry.cc:112] Plugin optimizer for device_type GPU is enabled.\n"
     ]
    },
    {
     "name": "stdout",
     "output_type": "stream",
     "text": [
      "77/77 [==============================] - 1s 8ms/step - loss: 1.0172 - accuracy: 0.6068\n",
      "Epoch 2/50\n",
      "77/77 [==============================] - 1s 7ms/step - loss: 0.6742 - accuracy: 0.6315\n",
      "Epoch 3/50\n",
      "77/77 [==============================] - 1s 7ms/step - loss: 0.6626 - accuracy: 0.6419\n",
      "Epoch 4/50\n",
      "77/77 [==============================] - 1s 7ms/step - loss: 0.6326 - accuracy: 0.6862\n",
      "Epoch 5/50\n",
      "77/77 [==============================] - 1s 7ms/step - loss: 0.6124 - accuracy: 0.6875\n",
      "Epoch 6/50\n",
      "77/77 [==============================] - 1s 7ms/step - loss: 0.6115 - accuracy: 0.6745\n",
      "Epoch 7/50\n",
      "77/77 [==============================] - 1s 7ms/step - loss: 0.6122 - accuracy: 0.6836\n",
      "Epoch 8/50\n",
      "77/77 [==============================] - 1s 7ms/step - loss: 0.5924 - accuracy: 0.6901\n",
      "Epoch 9/50\n",
      "77/77 [==============================] - 1s 7ms/step - loss: 0.5957 - accuracy: 0.6875\n",
      "Epoch 10/50\n",
      "77/77 [==============================] - 1s 7ms/step - loss: 0.5948 - accuracy: 0.6953\n",
      "Epoch 11/50\n",
      "77/77 [==============================] - 1s 7ms/step - loss: 0.5999 - accuracy: 0.6979\n",
      "Epoch 12/50\n",
      "77/77 [==============================] - 1s 7ms/step - loss: 0.5838 - accuracy: 0.6875\n",
      "Epoch 13/50\n",
      "77/77 [==============================] - 1s 7ms/step - loss: 0.5828 - accuracy: 0.6927\n",
      "Epoch 14/50\n",
      "77/77 [==============================] - 1s 7ms/step - loss: 0.5776 - accuracy: 0.7109\n",
      "Epoch 15/50\n",
      "77/77 [==============================] - 1s 7ms/step - loss: 0.5803 - accuracy: 0.7083\n",
      "Epoch 16/50\n",
      "77/77 [==============================] - 1s 7ms/step - loss: 0.5729 - accuracy: 0.7109\n",
      "Epoch 17/50\n",
      "77/77 [==============================] - 1s 8ms/step - loss: 0.5720 - accuracy: 0.7083\n",
      "Epoch 18/50\n",
      "77/77 [==============================] - 1s 7ms/step - loss: 0.5669 - accuracy: 0.7305\n",
      "Epoch 19/50\n",
      "77/77 [==============================] - 1s 7ms/step - loss: 0.5674 - accuracy: 0.7344\n",
      "Epoch 20/50\n",
      "77/77 [==============================] - 1s 7ms/step - loss: 0.5734 - accuracy: 0.7005\n",
      "Epoch 21/50\n",
      "77/77 [==============================] - 1s 7ms/step - loss: 0.5782 - accuracy: 0.7044\n",
      "Epoch 22/50\n",
      "77/77 [==============================] - 1s 7ms/step - loss: 0.5623 - accuracy: 0.7174\n",
      "Epoch 23/50\n",
      "77/77 [==============================] - 1s 7ms/step - loss: 0.5555 - accuracy: 0.7279\n",
      "Epoch 24/50\n",
      "77/77 [==============================] - 1s 7ms/step - loss: 0.5576 - accuracy: 0.7161\n",
      "Epoch 25/50\n",
      "77/77 [==============================] - 1s 7ms/step - loss: 0.5544 - accuracy: 0.7188\n",
      "Epoch 26/50\n",
      "77/77 [==============================] - 1s 7ms/step - loss: 0.5492 - accuracy: 0.7383\n",
      "Epoch 27/50\n",
      "77/77 [==============================] - 1s 7ms/step - loss: 0.5641 - accuracy: 0.7174\n",
      "Epoch 28/50\n",
      "77/77 [==============================] - 1s 7ms/step - loss: 0.5467 - accuracy: 0.7383\n",
      "Epoch 29/50\n",
      "77/77 [==============================] - 1s 7ms/step - loss: 0.5472 - accuracy: 0.7370\n",
      "Epoch 30/50\n",
      "77/77 [==============================] - 1s 7ms/step - loss: 0.5457 - accuracy: 0.7227\n",
      "Epoch 31/50\n",
      "77/77 [==============================] - 1s 7ms/step - loss: 0.5447 - accuracy: 0.7188\n",
      "Epoch 32/50\n",
      "77/77 [==============================] - 1s 7ms/step - loss: 0.5418 - accuracy: 0.7305\n",
      "Epoch 33/50\n",
      "77/77 [==============================] - 1s 7ms/step - loss: 0.5426 - accuracy: 0.7214\n",
      "Epoch 34/50\n",
      "77/77 [==============================] - 1s 7ms/step - loss: 0.5392 - accuracy: 0.7422\n",
      "Epoch 35/50\n",
      "77/77 [==============================] - 1s 7ms/step - loss: 0.5444 - accuracy: 0.7357\n",
      "Epoch 36/50\n",
      "77/77 [==============================] - 1s 7ms/step - loss: 0.5489 - accuracy: 0.7174\n",
      "Epoch 37/50\n",
      "77/77 [==============================] - 1s 7ms/step - loss: 0.5386 - accuracy: 0.7240\n",
      "Epoch 38/50\n",
      "77/77 [==============================] - 1s 7ms/step - loss: 0.5432 - accuracy: 0.7318\n",
      "Epoch 39/50\n",
      "77/77 [==============================] - 1s 7ms/step - loss: 0.5427 - accuracy: 0.7331\n",
      "Epoch 40/50\n",
      "77/77 [==============================] - 1s 7ms/step - loss: 0.5358 - accuracy: 0.7214\n",
      "Epoch 41/50\n",
      "77/77 [==============================] - 0s 6ms/step - loss: 0.5321 - accuracy: 0.7448\n",
      "Epoch 42/50\n",
      "77/77 [==============================] - 0s 6ms/step - loss: 0.5355 - accuracy: 0.7253\n",
      "Epoch 43/50\n",
      "77/77 [==============================] - 0s 6ms/step - loss: 0.5532 - accuracy: 0.7214\n",
      "Epoch 44/50\n",
      "77/77 [==============================] - 0s 6ms/step - loss: 0.5334 - accuracy: 0.7435\n",
      "Epoch 45/50\n",
      "77/77 [==============================] - 1s 7ms/step - loss: 0.5242 - accuracy: 0.7422\n",
      "Epoch 46/50\n",
      "77/77 [==============================] - 0s 6ms/step - loss: 0.5292 - accuracy: 0.7513\n",
      "Epoch 47/50\n",
      "77/77 [==============================] - 0s 6ms/step - loss: 0.5288 - accuracy: 0.7370\n",
      "Epoch 48/50\n",
      "77/77 [==============================] - 1s 7ms/step - loss: 0.5287 - accuracy: 0.7305\n",
      "Epoch 49/50\n",
      "77/77 [==============================] - 1s 6ms/step - loss: 0.5377 - accuracy: 0.7305\n",
      "Epoch 50/50\n",
      "77/77 [==============================] - 0s 6ms/step - loss: 0.5262 - accuracy: 0.7422\n",
      "24/24 [==============================] - 0s 4ms/step - loss: 0.5205 - accuracy: 0.7487\n",
      "Accuracy: 74.87\n"
     ]
    },
    {
     "name": "stderr",
     "output_type": "stream",
     "text": [
      "2022-01-12 21:26:43.889289: I tensorflow/core/grappler/optimizers/custom_graph_optimizer_registry.cc:112] Plugin optimizer for device_type GPU is enabled.\n"
     ]
    }
   ],
   "source": [
    "model = Sequential()\n",
    "model.add(Dense(12, input_dim=8, activation='relu'))\n",
    "model.add(Dense(8, activation='relu'))\n",
    "model.add(Dense(8, activation='relu'))\n",
    "model.add(Dense(8, activation='relu'))\n",
    "model.add(Dense(1, activation='sigmoid'))\n",
    "model.compile(loss='binary_crossentropy', optimizer='adam', metrics=['accuracy'])\n",
    "\n",
    "model.fit(X, Y, epochs=50, batch_size=10)\n",
    "\n",
    "_, accuracy = model.evaluate(X, Y)\n",
    "print('Accuracy: %.2f' % (accuracy*100))"
   ]
  }
 ],
 "metadata": {
  "kernelspec": {
   "display_name": "Python 3",
   "language": "python",
   "name": "python3"
  },
  "language_info": {
   "codemirror_mode": {
    "name": "ipython",
    "version": 3
   },
   "file_extension": ".py",
   "mimetype": "text/x-python",
   "name": "python",
   "nbconvert_exporter": "python",
   "pygments_lexer": "ipython3",
   "version": "3.8.8"
  }
 },
 "nbformat": 4,
 "nbformat_minor": 5
}