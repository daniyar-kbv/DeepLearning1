{
 "cells": [
  {
   "cell_type": "code",
   "execution_count": 2,
   "outputs": [],
   "source": [
    "# %% import libaries\n",
    "\n",
    "import numpy as np\n",
    "import pandas as pd\n",
    "import matplotlib.pyplot as plt\n",
    "from sklearn.utils import shuffle\n",
    "from sklearn.preprocessing import LabelEncoder\n",
    "from keras.utils import np_utils\n",
    "from keras.utils.np_utils import to_categorical\n",
    "from sklearn import preprocessing, model_selection\n",
    "from keras.models import Sequential, load_model\n",
    "from keras.layers import Dense\n",
    "from tensorflow.keras.callbacks import ModelCheckpoint\n",
    "from sklearn.metrics import confusion_matrix\n",
    "from keras.utils import np_utils\n",
    "from keras.utils.np_utils import to_categorical"
   ],
   "metadata": {
    "collapsed": false,
    "pycharm": {
     "name": "#%%\n"
    }
   }
  },
  {
   "cell_type": "code",
   "execution_count": 3,
   "outputs": [],
   "source": [
    "# %% Preprocess"
   ],
   "metadata": {
    "collapsed": false,
    "pycharm": {
     "name": "#%%\n"
    }
   }
  },
  {
   "cell_type": "code",
   "execution_count": 4,
   "outputs": [],
   "source": [
    "# import data\n",
    "data = pd.read_csv('drug200.csv')"
   ],
   "metadata": {
    "collapsed": false,
    "pycharm": {
     "name": "#%%\n"
    }
   }
  },
  {
   "cell_type": "code",
   "execution_count": 5,
   "outputs": [
    {
     "data": {
      "text/plain": "Age            0\nSex            0\nBP             0\nCholesterol    0\nNa_to_K        0\nDrug           0\ndtype: int64"
     },
     "execution_count": 5,
     "metadata": {},
     "output_type": "execute_result"
    }
   ],
   "source": [
    "# Nulls?\n",
    "data.isnull().sum()"
   ],
   "metadata": {
    "collapsed": false,
    "pycharm": {
     "name": "#%%\n"
    }
   }
  },
  {
   "cell_type": "code",
   "execution_count": 6,
   "outputs": [],
   "source": [
    "X = data.iloc[:,:-1]\n",
    "Y = data.iloc[:,-1]"
   ],
   "metadata": {
    "collapsed": false,
    "pycharm": {
     "name": "#%%\n"
    }
   }
  },
  {
   "cell_type": "code",
   "execution_count": 7,
   "outputs": [
    {
     "name": "stdout",
     "output_type": "stream",
     "text": [
      "<class 'pandas.core.frame.DataFrame'>\n",
      "RangeIndex: 200 entries, 0 to 199\n",
      "Data columns (total 6 columns):\n",
      " #   Column       Non-Null Count  Dtype  \n",
      "---  ------       --------------  -----  \n",
      " 0   Age          200 non-null    int64  \n",
      " 1   Sex          200 non-null    object \n",
      " 2   BP           200 non-null    object \n",
      " 3   Cholesterol  200 non-null    object \n",
      " 4   Na_to_K      200 non-null    float64\n",
      " 5   Drug         200 non-null    object \n",
      "dtypes: float64(1), int64(1), object(4)\n",
      "memory usage: 9.5+ KB\n"
     ]
    }
   ],
   "source": [
    "# Encode feature(s)?\n",
    "data.info()\n",
    "\n",
    "Sex_encoder = LabelEncoder()\n",
    "Sex_encoder.fit(X[\"Sex\"])\n",
    "X[\"Sex\"] = Sex_encoder.transform(X[\"Sex\"])\n",
    "\n",
    "BP_encoder = LabelEncoder()\n",
    "BP_encoder.fit(X[\"BP\"])\n",
    "X[\"BP\"] = BP_encoder.transform(X[\"BP\"])\n",
    "\n",
    "Cholesterol_encoder = LabelEncoder()\n",
    "Cholesterol_encoder.fit(X[\"Cholesterol\"])\n",
    "X[\"Cholesterol\"] = Cholesterol_encoder.transform(X[\"Cholesterol\"])\n",
    "\n",
    "Y_encoder = LabelEncoder()\n",
    "Y_encoder.fit(Y)\n",
    "Y = Y_encoder.transform(Y)\n",
    "Y = np_utils.to_categorical(Y)"
   ],
   "metadata": {
    "collapsed": false,
    "pycharm": {
     "name": "#%%\n"
    }
   }
  },
  {
   "cell_type": "code",
   "execution_count": 8,
   "outputs": [],
   "source": [
    "# split data\n",
    "train_x, test_x, train_y, test_y = model_selection.train_test_split(X,Y,test_size = 0.2, random_state = 0)"
   ],
   "metadata": {
    "collapsed": false,
    "pycharm": {
     "name": "#%%\n"
    }
   }
  },
  {
   "cell_type": "code",
   "execution_count": 9,
   "outputs": [
    {
     "name": "stdout",
     "output_type": "stream",
     "text": [
      "Metal device set to: Apple M1 Pro\n"
     ]
    },
    {
     "name": "stderr",
     "output_type": "stream",
     "text": [
      "2022-01-19 19:17:00.763435: I tensorflow/core/common_runtime/pluggable_device/pluggable_device_factory.cc:305] Could not identify NUMA node of platform GPU ID 0, defaulting to 0. Your kernel may not have been built with NUMA support.\n",
      "2022-01-19 19:17:00.763560: I tensorflow/core/common_runtime/pluggable_device/pluggable_device_factory.cc:271] Created TensorFlow device (/job:localhost/replica:0/task:0/device:GPU:0 with 0 MB memory) -> physical PluggableDevice (device: 0, name: METAL, pci bus id: <undefined>)\n"
     ]
    }
   ],
   "source": [
    "# %% NN architecture\n",
    "\n",
    "#input_dim = train_x.shape[1]\n",
    "\n",
    "model = Sequential()\n",
    "model.add(Dense(8, input_dim = 5 , activation = 'relu'))\n",
    "model.add(Dense(10, activation = 'relu'))\n",
    "model.add(Dense(10, activation = 'relu'))\n",
    "model.add(Dense(10, activation = 'relu'))\n",
    "model.add(Dense(5, activation = 'softmax'))\n",
    "\n",
    "model.compile(loss = 'categorical_crossentropy' , optimizer = 'adam' , metrics = ['accuracy'] )"
   ],
   "metadata": {
    "collapsed": false,
    "pycharm": {
     "name": "#%%\n"
    }
   }
  },
  {
   "cell_type": "code",
   "execution_count": 10,
   "outputs": [
    {
     "name": "stdout",
     "output_type": "stream",
     "text": [
      "Epoch 1/10\n"
     ]
    },
    {
     "name": "stderr",
     "output_type": "stream",
     "text": [
      "2022-01-19 19:17:00.849082: W tensorflow/core/platform/profile_utils/cpu_utils.cc:128] Failed to get CPU frequency: 0 Hz\n",
      "2022-01-19 19:17:00.995161: I tensorflow/core/grappler/optimizers/custom_graph_optimizer_registry.cc:112] Plugin optimizer for device_type GPU is enabled.\n"
     ]
    },
    {
     "name": "stdout",
     "output_type": "stream",
     "text": [
      "80/80 [==============================] - 1s 8ms/step - loss: 3.2659 - accuracy: 0.5250\n",
      "Epoch 2/10\n",
      "80/80 [==============================] - 1s 8ms/step - loss: 1.6044 - accuracy: 0.5813\n",
      "Epoch 3/10\n",
      "80/80 [==============================] - 1s 8ms/step - loss: 1.2023 - accuracy: 0.5375\n",
      "Epoch 4/10\n",
      "80/80 [==============================] - 1s 8ms/step - loss: 1.1038 - accuracy: 0.5500\n",
      "Epoch 5/10\n",
      "80/80 [==============================] - 1s 7ms/step - loss: 1.0981 - accuracy: 0.5688\n",
      "Epoch 6/10\n",
      "80/80 [==============================] - 1s 8ms/step - loss: 1.0531 - accuracy: 0.5563\n",
      "Epoch 7/10\n",
      "80/80 [==============================] - 1s 8ms/step - loss: 1.0286 - accuracy: 0.5688\n",
      "Epoch 8/10\n",
      "80/80 [==============================] - 1s 8ms/step - loss: 1.0137 - accuracy: 0.5688\n",
      "Epoch 9/10\n",
      "80/80 [==============================] - 1s 7ms/step - loss: 1.0172 - accuracy: 0.5875\n",
      "Epoch 10/10\n",
      "80/80 [==============================] - 1s 8ms/step - loss: 1.0026 - accuracy: 0.5688\n"
     ]
    },
    {
     "data": {
      "text/plain": "<keras.callbacks.History at 0x1627a3ca0>"
     },
     "execution_count": 10,
     "metadata": {},
     "output_type": "execute_result"
    }
   ],
   "source": [
    "model.fit(train_x, train_y, epochs = 10, batch_size = 2)"
   ],
   "metadata": {
    "collapsed": false,
    "pycharm": {
     "name": "#%%\n"
    }
   }
  },
  {
   "cell_type": "code",
   "execution_count": 11,
   "outputs": [
    {
     "name": "stdout",
     "output_type": "stream",
     "text": [
      "Model: \"sequential\"\n",
      "_________________________________________________________________\n",
      " Layer (type)                Output Shape              Param #   \n",
      "=================================================================\n",
      " dense (Dense)               (None, 8)                 48        \n",
      "                                                                 \n",
      " dense_1 (Dense)             (None, 10)                90        \n",
      "                                                                 \n",
      " dense_2 (Dense)             (None, 10)                110       \n",
      "                                                                 \n",
      " dense_3 (Dense)             (None, 10)                110       \n",
      "                                                                 \n",
      " dense_4 (Dense)             (None, 5)                 55        \n",
      "                                                                 \n",
      "=================================================================\n",
      "Total params: 413\n",
      "Trainable params: 413\n",
      "Non-trainable params: 0\n",
      "_________________________________________________________________\n"
     ]
    }
   ],
   "source": [
    "model.summary() # model architecture"
   ],
   "metadata": {
    "collapsed": false,
    "pycharm": {
     "name": "#%%\n"
    }
   }
  },
  {
   "cell_type": "code",
   "execution_count": 12,
   "outputs": [],
   "source": [
    "checkpointer = ModelCheckpoint(filepath=\"weights.hdf5\", monitor = 'val_acc', verbose=1, save_best_only=True) # save model's best weights"
   ],
   "metadata": {
    "collapsed": false,
    "pycharm": {
     "name": "#%%\n"
    }
   }
  },
  {
   "cell_type": "code",
   "execution_count": 15,
   "outputs": [
    {
     "name": "stdout",
     "output_type": "stream",
     "text": [
      "Epoch 1/30\n",
      "1/6 [====>.........................] - ETA: 0s - loss: 0.8814 - accuracy: 0.6667WARNING:tensorflow:Can save best model only with val_acc available, skipping.\n",
      "6/6 [==============================] - 0s 17ms/step - loss: 0.9166 - accuracy: 0.6188 - val_loss: 0.9254 - val_accuracy: 0.6500\n",
      "Epoch 2/30\n",
      "1/6 [====>.........................] - ETA: 0s - loss: 0.8447 - accuracy: 0.6000WARNING:tensorflow:Can save best model only with val_acc available, skipping.\n",
      "6/6 [==============================] - 0s 13ms/step - loss: 0.9158 - accuracy: 0.6188 - val_loss: 0.9264 - val_accuracy: 0.6500\n",
      "Epoch 3/30\n",
      "1/6 [====>.........................] - ETA: 0s - loss: 0.9276 - accuracy: 0.5667WARNING:tensorflow:Can save best model only with val_acc available, skipping.\n",
      "6/6 [==============================] - 0s 14ms/step - loss: 0.9156 - accuracy: 0.6125 - val_loss: 0.9274 - val_accuracy: 0.6500\n",
      "Epoch 4/30\n",
      "1/6 [====>.........................] - ETA: 0s - loss: 0.8545 - accuracy: 0.6333WARNING:tensorflow:Can save best model only with val_acc available, skipping.\n",
      "6/6 [==============================] - 0s 14ms/step - loss: 0.9141 - accuracy: 0.6125 - val_loss: 0.9274 - val_accuracy: 0.6500\n",
      "Epoch 5/30\n",
      "1/6 [====>.........................] - ETA: 0s - loss: 0.9403 - accuracy: 0.6000WARNING:tensorflow:Can save best model only with val_acc available, skipping.\n",
      "6/6 [==============================] - 0s 14ms/step - loss: 0.9130 - accuracy: 0.6125 - val_loss: 0.9264 - val_accuracy: 0.6500\n",
      "Epoch 6/30\n",
      "1/6 [====>.........................] - ETA: 0s - loss: 0.9506 - accuracy: 0.6333WARNING:tensorflow:Can save best model only with val_acc available, skipping.\n",
      "6/6 [==============================] - 0s 14ms/step - loss: 0.9153 - accuracy: 0.6188 - val_loss: 0.9252 - val_accuracy: 0.6500\n",
      "Epoch 7/30\n",
      "1/6 [====>.........................] - ETA: 0s - loss: 1.0744 - accuracy: 0.5333WARNING:tensorflow:Can save best model only with val_acc available, skipping.\n",
      "6/6 [==============================] - 0s 15ms/step - loss: 0.9118 - accuracy: 0.6188 - val_loss: 0.9281 - val_accuracy: 0.6500\n",
      "Epoch 8/30\n",
      "6/6 [==============================] - ETA: 0s - loss: 0.9107 - accuracy: 0.6000WARNING:tensorflow:Can save best model only with val_acc available, skipping.\n",
      "6/6 [==============================] - 0s 15ms/step - loss: 0.9107 - accuracy: 0.6000 - val_loss: 0.9283 - val_accuracy: 0.6500\n",
      "Epoch 9/30\n",
      "1/6 [====>.........................] - ETA: 0s - loss: 0.7280 - accuracy: 0.7000WARNING:tensorflow:Can save best model only with val_acc available, skipping.\n",
      "6/6 [==============================] - 0s 14ms/step - loss: 0.9100 - accuracy: 0.6000 - val_loss: 0.9274 - val_accuracy: 0.6500\n",
      "Epoch 10/30\n",
      "1/6 [====>.........................] - ETA: 0s - loss: 1.1354 - accuracy: 0.4667WARNING:tensorflow:Can save best model only with val_acc available, skipping.\n",
      "6/6 [==============================] - 0s 15ms/step - loss: 0.9090 - accuracy: 0.6062 - val_loss: 0.9261 - val_accuracy: 0.6500\n",
      "Epoch 11/30\n",
      "6/6 [==============================] - ETA: 0s - loss: 0.9095 - accuracy: 0.6125WARNING:tensorflow:Can save best model only with val_acc available, skipping.\n",
      "6/6 [==============================] - 0s 16ms/step - loss: 0.9095 - accuracy: 0.6125 - val_loss: 0.9238 - val_accuracy: 0.6500\n",
      "Epoch 12/30\n",
      "1/6 [====>.........................] - ETA: 0s - loss: 0.8623 - accuracy: 0.6000WARNING:tensorflow:Can save best model only with val_acc available, skipping.\n",
      "6/6 [==============================] - 0s 14ms/step - loss: 0.9098 - accuracy: 0.6125 - val_loss: 0.9252 - val_accuracy: 0.6500\n",
      "Epoch 13/30\n",
      "1/6 [====>.........................] - ETA: 0s - loss: 0.9452 - accuracy: 0.5333WARNING:tensorflow:Can save best model only with val_acc available, skipping.\n",
      "6/6 [==============================] - 0s 15ms/step - loss: 0.9092 - accuracy: 0.6125 - val_loss: 0.9236 - val_accuracy: 0.6500\n",
      "Epoch 14/30\n",
      "1/6 [====>.........................] - ETA: 0s - loss: 0.9319 - accuracy: 0.6000WARNING:tensorflow:Can save best model only with val_acc available, skipping.\n",
      "6/6 [==============================] - 0s 14ms/step - loss: 0.9069 - accuracy: 0.6188 - val_loss: 0.9225 - val_accuracy: 0.6500\n",
      "Epoch 15/30\n",
      "1/6 [====>.........................] - ETA: 0s - loss: 0.8543 - accuracy: 0.6000WARNING:tensorflow:Can save best model only with val_acc available, skipping.\n",
      "6/6 [==============================] - 0s 13ms/step - loss: 0.9067 - accuracy: 0.6062 - val_loss: 0.9251 - val_accuracy: 0.6500\n",
      "Epoch 16/30\n",
      "1/6 [====>.........................] - ETA: 0s - loss: 0.7043 - accuracy: 0.7000WARNING:tensorflow:Can save best model only with val_acc available, skipping.\n",
      "6/6 [==============================] - 0s 13ms/step - loss: 0.9060 - accuracy: 0.6000 - val_loss: 0.9227 - val_accuracy: 0.6500\n",
      "Epoch 17/30\n",
      "1/6 [====>.........................] - ETA: 0s - loss: 1.1705 - accuracy: 0.4333WARNING:tensorflow:Can save best model only with val_acc available, skipping.\n",
      "6/6 [==============================] - 0s 14ms/step - loss: 0.9052 - accuracy: 0.6000 - val_loss: 0.9199 - val_accuracy: 0.6500\n",
      "Epoch 18/30\n",
      "1/6 [====>.........................] - ETA: 0s - loss: 0.6989 - accuracy: 0.6667WARNING:tensorflow:Can save best model only with val_acc available, skipping.\n",
      "6/6 [==============================] - 0s 13ms/step - loss: 0.9043 - accuracy: 0.6062 - val_loss: 0.9191 - val_accuracy: 0.6500\n",
      "Epoch 19/30\n",
      "1/6 [====>.........................] - ETA: 0s - loss: 0.7414 - accuracy: 0.7000WARNING:tensorflow:Can save best model only with val_acc available, skipping.\n",
      "6/6 [==============================] - 0s 14ms/step - loss: 0.9039 - accuracy: 0.6000 - val_loss: 0.9201 - val_accuracy: 0.6500\n",
      "Epoch 20/30\n",
      "1/6 [====>.........................] - ETA: 0s - loss: 1.0906 - accuracy: 0.5000WARNING:tensorflow:Can save best model only with val_acc available, skipping.\n",
      "6/6 [==============================] - 0s 14ms/step - loss: 0.9033 - accuracy: 0.6062 - val_loss: 0.9202 - val_accuracy: 0.6500\n",
      "Epoch 21/30\n",
      "1/6 [====>.........................] - ETA: 0s - loss: 0.8233 - accuracy: 0.6333WARNING:tensorflow:Can save best model only with val_acc available, skipping.\n",
      "6/6 [==============================] - 0s 14ms/step - loss: 0.9021 - accuracy: 0.6062 - val_loss: 0.9168 - val_accuracy: 0.6500\n",
      "Epoch 22/30\n",
      "1/6 [====>.........................] - ETA: 0s - loss: 0.9469 - accuracy: 0.6000WARNING:tensorflow:Can save best model only with val_acc available, skipping.\n",
      "6/6 [==============================] - 0s 14ms/step - loss: 0.9015 - accuracy: 0.6125 - val_loss: 0.9137 - val_accuracy: 0.6500\n",
      "Epoch 23/30\n",
      "1/6 [====>.........................] - ETA: 0s - loss: 0.9247 - accuracy: 0.5667WARNING:tensorflow:Can save best model only with val_acc available, skipping.\n",
      "6/6 [==============================] - 0s 14ms/step - loss: 0.9012 - accuracy: 0.6188 - val_loss: 0.9113 - val_accuracy: 0.6500\n",
      "Epoch 24/30\n",
      "1/6 [====>.........................] - ETA: 0s - loss: 0.8760 - accuracy: 0.5667WARNING:tensorflow:Can save best model only with val_acc available, skipping.\n",
      "6/6 [==============================] - 0s 14ms/step - loss: 0.9006 - accuracy: 0.6188 - val_loss: 0.9138 - val_accuracy: 0.6500\n",
      "Epoch 25/30\n",
      "1/6 [====>.........................] - ETA: 0s - loss: 0.7898 - accuracy: 0.6000WARNING:tensorflow:Can save best model only with val_acc available, skipping.\n",
      "6/6 [==============================] - 0s 14ms/step - loss: 0.9008 - accuracy: 0.6188 - val_loss: 0.9147 - val_accuracy: 0.6500\n",
      "Epoch 26/30\n",
      "1/6 [====>.........................] - ETA: 0s - loss: 0.7376 - accuracy: 0.7000WARNING:tensorflow:Can save best model only with val_acc available, skipping.\n",
      "6/6 [==============================] - 0s 14ms/step - loss: 0.8993 - accuracy: 0.6188 - val_loss: 0.9111 - val_accuracy: 0.6500\n",
      "Epoch 27/30\n",
      "1/6 [====>.........................] - ETA: 0s - loss: 0.8158 - accuracy: 0.7667WARNING:tensorflow:Can save best model only with val_acc available, skipping.\n",
      "6/6 [==============================] - 0s 14ms/step - loss: 0.9003 - accuracy: 0.6188 - val_loss: 0.9103 - val_accuracy: 0.6500\n",
      "Epoch 28/30\n",
      "1/6 [====>.........................] - ETA: 0s - loss: 0.8274 - accuracy: 0.6333WARNING:tensorflow:Can save best model only with val_acc available, skipping.\n",
      "6/6 [==============================] - 0s 13ms/step - loss: 0.8980 - accuracy: 0.6062 - val_loss: 0.9084 - val_accuracy: 0.6500\n",
      "Epoch 29/30\n",
      "1/6 [====>.........................] - ETA: 0s - loss: 0.8447 - accuracy: 0.6000WARNING:tensorflow:Can save best model only with val_acc available, skipping.\n",
      "6/6 [==============================] - 0s 13ms/step - loss: 0.8969 - accuracy: 0.6125 - val_loss: 0.9074 - val_accuracy: 0.6500\n",
      "Epoch 30/30\n",
      "1/6 [====>.........................] - ETA: 0s - loss: 0.6839 - accuracy: 0.7333WARNING:tensorflow:Can save best model only with val_acc available, skipping.\n",
      "6/6 [==============================] - 0s 13ms/step - loss: 0.8960 - accuracy: 0.6125 - val_loss: 0.9076 - val_accuracy: 0.6500\n"
     ]
    }
   ],
   "source": [
    "history = model.fit(\n",
    "                    train_x,\n",
    "                    train_y,\n",
    "                    epochs=30,\n",
    "                    batch_size=30,\n",
    "                    callbacks = [checkpointer],\n",
    "                    validation_data = (test_x, test_y)\n",
    "                    )"
   ],
   "metadata": {
    "collapsed": false,
    "pycharm": {
     "name": "#%%\n"
    }
   }
  },
  {
   "cell_type": "code",
   "execution_count": null,
   "outputs": [],
   "source": [
    "model_name = \"drug.h5\"\n",
    "model.save(model_name)\n",
    "model = load_model(model_name)"
   ],
   "metadata": {
    "collapsed": false,
    "pycharm": {
     "name": "#%%\n"
    }
   }
  },
  {
   "cell_type": "code",
   "execution_count": 16,
   "outputs": [
    {
     "name": "stderr",
     "output_type": "stream",
     "text": [
      "2022-01-19 19:17:29.844633: I tensorflow/core/grappler/optimizers/custom_graph_optimizer_registry.cc:112] Plugin optimizer for device_type GPU is enabled.\n"
     ]
    }
   ],
   "source": [
    "# %% Predictions\n",
    "\n",
    "y_pred = model.predict(test_x)"
   ],
   "metadata": {
    "collapsed": false,
    "pycharm": {
     "name": "#%%\n"
    }
   }
  },
  {
   "cell_type": "code",
   "execution_count": null,
   "outputs": [],
   "source": [
    "y_pred = np.argmax(y_pred, axis = 1)"
   ],
   "metadata": {
    "collapsed": false,
    "pycharm": {
     "name": "#%%\n"
    }
   }
  },
  {
   "cell_type": "code",
   "execution_count": null,
   "outputs": [],
   "source": [
    "y_pred = Y_encoder.inverse_transform(y_pred)"
   ],
   "metadata": {
    "collapsed": false,
    "pycharm": {
     "name": "#%%\n"
    }
   }
  },
  {
   "cell_type": "code",
   "execution_count": null,
   "outputs": [],
   "source": [
    "Y = np.argmax(Y, axis = 1)\n",
    "Y = Y_encoder.inverse_transform(Y)"
   ],
   "metadata": {
    "collapsed": false,
    "pycharm": {
     "name": "#%%\n"
    }
   }
  },
  {
   "cell_type": "code",
   "execution_count": null,
   "outputs": [],
   "source": [
    "test_y = np.argmax(test_y, axis = 1)\n",
    "test_y = Y_encoder.inverse_transform(test_y)"
   ],
   "metadata": {
    "collapsed": false,
    "pycharm": {
     "name": "#%%\n"
    }
   }
  },
  {
   "cell_type": "code",
   "execution_count": null,
   "outputs": [],
   "source": [
    "cm = confusion_matrix(y_pred, test_y)\n",
    "cm"
   ],
   "metadata": {
    "collapsed": false,
    "pycharm": {
     "name": "#%%\n"
    }
   }
  },
  {
   "cell_type": "code",
   "execution_count": null,
   "outputs": [],
   "source": [
    "print(\"\\nHistory Keys:\\n\")\n",
    "print(history.history.keys())"
   ],
   "metadata": {
    "collapsed": false,
    "pycharm": {
     "name": "#%%\n"
    }
   }
  },
  {
   "cell_type": "code",
   "execution_count": null,
   "outputs": [],
   "source": [
    "plt.subplots() # open a new plot\n",
    "plt.plot(history.history['accuracy'])\n",
    "plt.plot(history.history['val_accuracy'])\n",
    "plt.title('model accuracy')\n",
    "plt.ylabel('accuracy')\n",
    "plt.xlabel('epoch')\n",
    "plt.legend(['train', 'validation'])\n",
    "plt.show()"
   ],
   "metadata": {
    "collapsed": false,
    "pycharm": {
     "name": "#%%\n"
    }
   }
  },
  {
   "cell_type": "code",
   "execution_count": null,
   "outputs": [],
   "source": [
    "plt.subplots() # open a new plot\n",
    "plt.plot(history.history['loss'])\n",
    "plt.plot(history.history['val_loss'])\n",
    "plt.title('model loss')\n",
    "plt.ylabel('loss')\n",
    "plt.xlabel('epoch')\n",
    "plt.legend(['train', 'validation'])\n",
    "plt.show()"
   ],
   "metadata": {
    "collapsed": false,
    "pycharm": {
     "name": "#%%\n"
    }
   }
  }
 ],
 "metadata": {
  "kernelspec": {
   "display_name": "Python 3",
   "language": "python",
   "name": "python3"
  },
  "language_info": {
   "codemirror_mode": {
    "name": "ipython",
    "version": 2
   },
   "file_extension": ".py",
   "mimetype": "text/x-python",
   "name": "python",
   "nbconvert_exporter": "python",
   "pygments_lexer": "ipython2",
   "version": "2.7.6"
  }
 },
 "nbformat": 4,
 "nbformat_minor": 0
}