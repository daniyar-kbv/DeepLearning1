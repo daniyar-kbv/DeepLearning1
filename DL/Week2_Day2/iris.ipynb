{
 "cells": [
  {
   "cell_type": "code",
   "execution_count": 1,
   "outputs": [],
   "source": [
    "# Different ways to do the same stuff\n",
    "# pay attention to the loss function\n",
    "\n",
    "import numpy as np\n",
    "import pandas as pd\n",
    "from sklearn.utils import shuffle\n",
    "from sklearn.preprocessing import LabelEncoder\n",
    "\n",
    "from keras.utils import np_utils\n",
    "from keras.utils.np_utils import to_categorical\n",
    "from sklearn import preprocessing, model_selection\n",
    "from keras.models import Sequential\n",
    "from keras.layers import Dense"
   ],
   "metadata": {
    "collapsed": false,
    "pycharm": {
     "name": "#%%\n"
    }
   }
  },
  {
   "cell_type": "code",
   "execution_count": 2,
   "outputs": [],
   "source": [
    "data = pd.read_csv('Iris.csv')\n",
    "data = data.drop(['Id'], axis =1) #drop id col\n",
    "\n",
    "data = shuffle(data)"
   ],
   "metadata": {
    "collapsed": false,
    "pycharm": {
     "name": "#%%\n"
    }
   }
  },
  {
   "cell_type": "code",
   "execution_count": 3,
   "outputs": [],
   "source": [
    "# look at first 8 entries as predictions\n",
    "i = 8\n",
    "data_to_predict = data[:i].reset_index(drop = True)\n",
    "predict_species = data_to_predict.Species\n",
    "predict_species = np.array(predict_species)\n",
    "prediction = np.array(data_to_predict.drop(['Species'],axis= 1))"
   ],
   "metadata": {
    "collapsed": false,
    "pycharm": {
     "name": "#%%\n"
    }
   }
  },
  {
   "cell_type": "code",
   "execution_count": 4,
   "outputs": [],
   "source": [
    "# remove 8 predictions from out train data\n",
    "data = data[i:].reset_index(drop = True)"
   ],
   "metadata": {
    "collapsed": false,
    "pycharm": {
     "name": "#%%\n"
    }
   }
  },
  {
   "cell_type": "code",
   "execution_count": 5,
   "outputs": [],
   "source": [
    "X = data.drop(['Species'], axis = 1)\n",
    "X = np.array(X)\n",
    "Y = data['Species']"
   ],
   "metadata": {
    "collapsed": false,
    "pycharm": {
     "name": "#%%\n"
    }
   }
  },
  {
   "cell_type": "code",
   "execution_count": 6,
   "outputs": [],
   "source": [
    "encoder = LabelEncoder()\n",
    "encoder.fit(Y)\n",
    "Y_transformed = encoder.transform(Y)\n",
    "Y = np_utils.to_categorical(Y_transformed) # Converts a class vector (integers) to binary class matrix like OHE"
   ],
   "metadata": {
    "collapsed": false,
    "pycharm": {
     "name": "#%%\n"
    }
   }
  },
  {
   "cell_type": "code",
   "execution_count": 7,
   "outputs": [],
   "source": [
    "train_x, test_x, train_y, test_y = model_selection.train_test_split(X, Y, test_size=0.1, random_state = 0) # shuffles train & test"
   ],
   "metadata": {
    "collapsed": false,
    "pycharm": {
     "name": "#%%\n"
    }
   }
  },
  {
   "cell_type": "code",
   "execution_count": 8,
   "outputs": [],
   "source": [
    "input_dim = len(data.columns) - 1"
   ],
   "metadata": {
    "collapsed": false,
    "pycharm": {
     "name": "#%%\n"
    }
   }
  },
  {
   "cell_type": "code",
   "execution_count": 9,
   "outputs": [
    {
     "name": "stdout",
     "output_type": "stream",
     "text": [
      "Metal device set to: Apple M1 Pro\n"
     ]
    },
    {
     "name": "stderr",
     "output_type": "stream",
     "text": [
      "2022-01-19 18:35:59.584793: I tensorflow/core/common_runtime/pluggable_device/pluggable_device_factory.cc:305] Could not identify NUMA node of platform GPU ID 0, defaulting to 0. Your kernel may not have been built with NUMA support.\n",
      "2022-01-19 18:35:59.584940: I tensorflow/core/common_runtime/pluggable_device/pluggable_device_factory.cc:271] Created TensorFlow device (/job:localhost/replica:0/task:0/device:GPU:0 with 0 MB memory) -> physical PluggableDevice (device: 0, name: METAL, pci bus id: <undefined>)\n"
     ]
    }
   ],
   "source": [
    "model = Sequential()\n",
    "model.add(Dense(8, input_dim = input_dim , activation = 'relu'))\n",
    "model.add(Dense(10, activation = 'relu'))\n",
    "model.add(Dense(10, activation = 'relu'))\n",
    "model.add(Dense(10, activation = 'relu'))\n",
    "model.add(Dense(3, activation = 'softmax'))\n",
    "\n",
    "model.compile(loss = 'categorical_crossentropy' , optimizer = 'adam' , metrics = ['accuracy'] )"
   ],
   "metadata": {
    "collapsed": false,
    "pycharm": {
     "name": "#%%\n"
    }
   }
  },
  {
   "cell_type": "code",
   "execution_count": 10,
   "outputs": [
    {
     "name": "stderr",
     "output_type": "stream",
     "text": [
      "2022-01-19 18:35:59.710548: W tensorflow/core/platform/profile_utils/cpu_utils.cc:128] Failed to get CPU frequency: 0 Hz\n"
     ]
    },
    {
     "name": "stdout",
     "output_type": "stream",
     "text": [
      "Epoch 1/10\n"
     ]
    },
    {
     "name": "stderr",
     "output_type": "stream",
     "text": [
      "2022-01-19 18:35:59.841796: I tensorflow/core/grappler/optimizers/custom_graph_optimizer_registry.cc:112] Plugin optimizer for device_type GPU is enabled.\n"
     ]
    },
    {
     "name": "stdout",
     "output_type": "stream",
     "text": [
      "64/64 [==============================] - 1s 8ms/step - loss: 1.1365 - accuracy: 0.3465\n",
      "Epoch 2/10\n",
      "64/64 [==============================] - 1s 9ms/step - loss: 0.9620 - accuracy: 0.3780\n",
      "Epoch 3/10\n",
      "64/64 [==============================] - 1s 8ms/step - loss: 0.8291 - accuracy: 0.6063\n",
      "Epoch 4/10\n",
      "64/64 [==============================] - 1s 8ms/step - loss: 0.7319 - accuracy: 0.7244\n",
      "Epoch 5/10\n",
      "64/64 [==============================] - 1s 9ms/step - loss: 0.6010 - accuracy: 0.7480\n",
      "Epoch 6/10\n",
      "64/64 [==============================] - 1s 8ms/step - loss: 0.4890 - accuracy: 0.8425\n",
      "Epoch 7/10\n",
      "64/64 [==============================] - 1s 8ms/step - loss: 0.3940 - accuracy: 0.8976\n",
      "Epoch 8/10\n",
      "64/64 [==============================] - 1s 8ms/step - loss: 0.3291 - accuracy: 0.9370\n",
      "Epoch 9/10\n",
      "64/64 [==============================] - 1s 8ms/step - loss: 0.2854 - accuracy: 0.9370\n",
      "Epoch 10/10\n",
      "64/64 [==============================] - 1s 8ms/step - loss: 0.2495 - accuracy: 0.9370\n"
     ]
    },
    {
     "data": {
      "text/plain": "<keras.callbacks.History at 0x161212eb0>"
     },
     "execution_count": 10,
     "metadata": {},
     "output_type": "execute_result"
    }
   ],
   "source": [
    "model.fit(train_x, train_y, epochs = 10, batch_size = 2)"
   ],
   "metadata": {
    "collapsed": false,
    "pycharm": {
     "name": "#%%\n"
    }
   }
  },
  {
   "cell_type": "code",
   "execution_count": 11,
   "outputs": [
    {
     "name": "stdout",
     "output_type": "stream",
     "text": [
      "1/1 [==============================] - 0s 88ms/step - loss: 0.2433 - accuracy: 0.9333\n",
      "\n",
      "accuracy: 93.33%\n"
     ]
    },
    {
     "name": "stderr",
     "output_type": "stream",
     "text": [
      "2022-01-19 18:36:05.440186: I tensorflow/core/grappler/optimizers/custom_graph_optimizer_registry.cc:112] Plugin optimizer for device_type GPU is enabled.\n"
     ]
    }
   ],
   "source": [
    "scores = model.evaluate(test_x, test_y)\n",
    "print(\"\\n%s: %.2f%%\" % (model.metrics_names[1], scores[1]*100))"
   ],
   "metadata": {
    "collapsed": false,
    "pycharm": {
     "name": "#%%\n"
    }
   }
  },
  {
   "cell_type": "code",
   "execution_count": 12,
   "outputs": [
    {
     "name": "stderr",
     "output_type": "stream",
     "text": [
      "2022-01-19 18:36:05.524800: I tensorflow/core/grappler/optimizers/custom_graph_optimizer_registry.cc:112] Plugin optimizer for device_type GPU is enabled.\n",
      "/Users/daniyarkurmanbayev/miniforge3/envs/globalenv/lib/python3.9/site-packages/sklearn/preprocessing/_label.py:154: DataConversionWarning: A column-vector y was passed when a 1d array was expected. Please change the shape of y to (n_samples, ), for example using ravel().\n",
      "  y = column_or_1d(y, warn=True)\n"
     ]
    }
   ],
   "source": [
    "predictions = model.predict(prediction) # model predictions\n",
    "prediction_ = np.argmax(to_categorical(predictions), axis = 1)  # reverse\n",
    "prediction_ = encoder.inverse_transform(prediction_)            # vectorization"
   ],
   "metadata": {
    "collapsed": false,
    "pycharm": {
     "name": "#%%\n"
    }
   }
  },
  {
   "cell_type": "code",
   "execution_count": 13,
   "outputs": [
    {
     "name": "stdout",
     "output_type": "stream",
     "text": [
      " the nn predict Iris-setosa, and the species to find is Iris-virginica\n",
      " the nn predict Iris-setosa, and the species to find is Iris-virginica\n",
      " the nn predict Iris-setosa, and the species to find is Iris-versicolor\n",
      " the nn predict Iris-setosa, and the species to find is Iris-virginica\n",
      " the nn predict Iris-setosa, and the species to find is Iris-virginica\n",
      " the nn predict Iris-setosa, and the species to find is Iris-versicolor\n",
      " the nn predict Iris-setosa, and the species to find is Iris-versicolor\n",
      " the nn predict Iris-setosa, and the species to find is Iris-setosa\n"
     ]
    }
   ],
   "source": [
    "for i, j in zip(prediction_ , predict_species):\n",
    "    print( \" the nn predict {}, and the species to find is {}\".format(i,j))"
   ],
   "metadata": {
    "collapsed": false,
    "pycharm": {
     "name": "#%%\n"
    }
   }
  }
 ],
 "metadata": {
  "kernelspec": {
   "display_name": "Python 3",
   "language": "python",
   "name": "python3"
  },
  "language_info": {
   "codemirror_mode": {
    "name": "ipython",
    "version": 2
   },
   "file_extension": ".py",
   "mimetype": "text/x-python",
   "name": "python",
   "nbconvert_exporter": "python",
   "pygments_lexer": "ipython2",
   "version": "2.7.6"
  }
 },
 "nbformat": 4,
 "nbformat_minor": 0
}