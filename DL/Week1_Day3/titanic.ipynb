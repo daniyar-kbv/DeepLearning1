{
 "cells": [
  {
   "cell_type": "code",
   "execution_count": 65,
   "metadata": {
    "collapsed": true
   },
   "outputs": [],
   "source": [
    "import pandas as pd\n",
    "import matplotlib.pyplot as plt"
   ]
  },
  {
   "cell_type": "code",
   "execution_count": 50,
   "outputs": [],
   "source": [
    "train = pd.read_csv('titanic_data/train.csv')\n",
    "test = pd.read_csv('titanic_data/test.csv')\n",
    "data = pd.concat([train, test])"
   ],
   "metadata": {
    "collapsed": false,
    "pycharm": {
     "name": "#%%\n"
    }
   }
  },
  {
   "cell_type": "code",
   "execution_count": 51,
   "outputs": [
    {
     "data": {
      "text/plain": "   PassengerId  Survived  Pclass  \\\n0            1       0.0       3   \n1            2       1.0       1   \n2            3       1.0       3   \n3            4       1.0       1   \n4            5       0.0       3   \n\n                                                Name     Sex   Age  SibSp  \\\n0                            Braund, Mr. Owen Harris    male  22.0      1   \n1  Cumings, Mrs. John Bradley (Florence Briggs Th...  female  38.0      1   \n2                             Heikkinen, Miss. Laina  female  26.0      0   \n3       Futrelle, Mrs. Jacques Heath (Lily May Peel)  female  35.0      1   \n4                           Allen, Mr. William Henry    male  35.0      0   \n\n   Parch            Ticket     Fare Cabin Embarked  \n0      0         A/5 21171   7.2500   NaN        S  \n1      0          PC 17599  71.2833   C85        C  \n2      0  STON/O2. 3101282   7.9250   NaN        S  \n3      0            113803  53.1000  C123        S  \n4      0            373450   8.0500   NaN        S  ",
      "text/html": "<div>\n<style scoped>\n    .dataframe tbody tr th:only-of-type {\n        vertical-align: middle;\n    }\n\n    .dataframe tbody tr th {\n        vertical-align: top;\n    }\n\n    .dataframe thead th {\n        text-align: right;\n    }\n</style>\n<table border=\"1\" class=\"dataframe\">\n  <thead>\n    <tr style=\"text-align: right;\">\n      <th></th>\n      <th>PassengerId</th>\n      <th>Survived</th>\n      <th>Pclass</th>\n      <th>Name</th>\n      <th>Sex</th>\n      <th>Age</th>\n      <th>SibSp</th>\n      <th>Parch</th>\n      <th>Ticket</th>\n      <th>Fare</th>\n      <th>Cabin</th>\n      <th>Embarked</th>\n    </tr>\n  </thead>\n  <tbody>\n    <tr>\n      <th>0</th>\n      <td>1</td>\n      <td>0.0</td>\n      <td>3</td>\n      <td>Braund, Mr. Owen Harris</td>\n      <td>male</td>\n      <td>22.0</td>\n      <td>1</td>\n      <td>0</td>\n      <td>A/5 21171</td>\n      <td>7.2500</td>\n      <td>NaN</td>\n      <td>S</td>\n    </tr>\n    <tr>\n      <th>1</th>\n      <td>2</td>\n      <td>1.0</td>\n      <td>1</td>\n      <td>Cumings, Mrs. John Bradley (Florence Briggs Th...</td>\n      <td>female</td>\n      <td>38.0</td>\n      <td>1</td>\n      <td>0</td>\n      <td>PC 17599</td>\n      <td>71.2833</td>\n      <td>C85</td>\n      <td>C</td>\n    </tr>\n    <tr>\n      <th>2</th>\n      <td>3</td>\n      <td>1.0</td>\n      <td>3</td>\n      <td>Heikkinen, Miss. Laina</td>\n      <td>female</td>\n      <td>26.0</td>\n      <td>0</td>\n      <td>0</td>\n      <td>STON/O2. 3101282</td>\n      <td>7.9250</td>\n      <td>NaN</td>\n      <td>S</td>\n    </tr>\n    <tr>\n      <th>3</th>\n      <td>4</td>\n      <td>1.0</td>\n      <td>1</td>\n      <td>Futrelle, Mrs. Jacques Heath (Lily May Peel)</td>\n      <td>female</td>\n      <td>35.0</td>\n      <td>1</td>\n      <td>0</td>\n      <td>113803</td>\n      <td>53.1000</td>\n      <td>C123</td>\n      <td>S</td>\n    </tr>\n    <tr>\n      <th>4</th>\n      <td>5</td>\n      <td>0.0</td>\n      <td>3</td>\n      <td>Allen, Mr. William Henry</td>\n      <td>male</td>\n      <td>35.0</td>\n      <td>0</td>\n      <td>0</td>\n      <td>373450</td>\n      <td>8.0500</td>\n      <td>NaN</td>\n      <td>S</td>\n    </tr>\n  </tbody>\n</table>\n</div>"
     },
     "execution_count": 51,
     "metadata": {},
     "output_type": "execute_result"
    }
   ],
   "source": [
    "data.head()"
   ],
   "metadata": {
    "collapsed": false,
    "pycharm": {
     "name": "#%%\n"
    }
   }
  },
  {
   "cell_type": "code",
   "execution_count": 52,
   "outputs": [
    {
     "name": "stdout",
     "output_type": "stream",
     "text": [
      "<class 'pandas.core.frame.DataFrame'>\n",
      "Int64Index: 1309 entries, 0 to 417\n",
      "Data columns (total 12 columns):\n",
      " #   Column       Non-Null Count  Dtype  \n",
      "---  ------       --------------  -----  \n",
      " 0   PassengerId  1309 non-null   int64  \n",
      " 1   Survived     891 non-null    float64\n",
      " 2   Pclass       1309 non-null   int64  \n",
      " 3   Name         1309 non-null   object \n",
      " 4   Sex          1309 non-null   object \n",
      " 5   Age          1046 non-null   float64\n",
      " 6   SibSp        1309 non-null   int64  \n",
      " 7   Parch        1309 non-null   int64  \n",
      " 8   Ticket       1309 non-null   object \n",
      " 9   Fare         1308 non-null   float64\n",
      " 10  Cabin        295 non-null    object \n",
      " 11  Embarked     1307 non-null   object \n",
      "dtypes: float64(3), int64(4), object(5)\n",
      "memory usage: 132.9+ KB\n"
     ]
    }
   ],
   "source": [
    "data.info()"
   ],
   "metadata": {
    "collapsed": false,
    "pycharm": {
     "name": "#%%\n"
    }
   }
  },
  {
   "cell_type": "code",
   "execution_count": 53,
   "outputs": [],
   "source": [
    "data.drop(columns=['Cabin', 'Name', 'Ticket', 'PassengerId'], inplace=True)"
   ],
   "metadata": {
    "collapsed": false,
    "pycharm": {
     "name": "#%%\n"
    }
   }
  },
  {
   "cell_type": "code",
   "execution_count": 54,
   "outputs": [
    {
     "name": "stdout",
     "output_type": "stream",
     "text": [
      "<class 'pandas.core.frame.DataFrame'>\n",
      "Int64Index: 1309 entries, 0 to 417\n",
      "Data columns (total 8 columns):\n",
      " #   Column    Non-Null Count  Dtype  \n",
      "---  ------    --------------  -----  \n",
      " 0   Survived  891 non-null    float64\n",
      " 1   Pclass    1309 non-null   int64  \n",
      " 2   Sex       1309 non-null   object \n",
      " 3   Age       1046 non-null   float64\n",
      " 4   SibSp     1309 non-null   int64  \n",
      " 5   Parch     1309 non-null   int64  \n",
      " 6   Fare      1308 non-null   float64\n",
      " 7   Embarked  1307 non-null   object \n",
      "dtypes: float64(3), int64(3), object(2)\n",
      "memory usage: 92.0+ KB\n"
     ]
    }
   ],
   "source": [
    "data.info()"
   ],
   "metadata": {
    "collapsed": false,
    "pycharm": {
     "name": "#%%\n"
    }
   }
  },
  {
   "cell_type": "code",
   "execution_count": 55,
   "outputs": [],
   "source": [
    "data.dropna(inplace=True)"
   ],
   "metadata": {
    "collapsed": false,
    "pycharm": {
     "name": "#%%\n"
    }
   }
  },
  {
   "cell_type": "code",
   "execution_count": 56,
   "outputs": [
    {
     "name": "stdout",
     "output_type": "stream",
     "text": [
      "<class 'pandas.core.frame.DataFrame'>\n",
      "Int64Index: 712 entries, 0 to 890\n",
      "Data columns (total 8 columns):\n",
      " #   Column    Non-Null Count  Dtype  \n",
      "---  ------    --------------  -----  \n",
      " 0   Survived  712 non-null    float64\n",
      " 1   Pclass    712 non-null    int64  \n",
      " 2   Sex       712 non-null    object \n",
      " 3   Age       712 non-null    float64\n",
      " 4   SibSp     712 non-null    int64  \n",
      " 5   Parch     712 non-null    int64  \n",
      " 6   Fare      712 non-null    float64\n",
      " 7   Embarked  712 non-null    object \n",
      "dtypes: float64(3), int64(3), object(2)\n",
      "memory usage: 50.1+ KB\n"
     ]
    }
   ],
   "source": [
    "data.info()"
   ],
   "metadata": {
    "collapsed": false,
    "pycharm": {
     "name": "#%%\n"
    }
   }
  },
  {
   "cell_type": "code",
   "execution_count": 57,
   "outputs": [],
   "source": [
    "x = data.iloc[:, 1:]\n",
    "y = pd.DataFrame(data['Survived'])"
   ],
   "metadata": {
    "collapsed": false,
    "pycharm": {
     "name": "#%%\n"
    }
   }
  },
  {
   "cell_type": "code",
   "execution_count": 58,
   "outputs": [
    {
     "data": {
      "text/plain": "   Pclass  Sex   Age  SibSp  Parch     Fare  Embarked\n0       3    1  22.0      1      0   7.2500         2\n1       1    0  38.0      1      0  71.2833         0\n2       3    0  26.0      0      0   7.9250         2\n3       1    0  35.0      1      0  53.1000         2\n4       3    1  35.0      0      0   8.0500         2",
      "text/html": "<div>\n<style scoped>\n    .dataframe tbody tr th:only-of-type {\n        vertical-align: middle;\n    }\n\n    .dataframe tbody tr th {\n        vertical-align: top;\n    }\n\n    .dataframe thead th {\n        text-align: right;\n    }\n</style>\n<table border=\"1\" class=\"dataframe\">\n  <thead>\n    <tr style=\"text-align: right;\">\n      <th></th>\n      <th>Pclass</th>\n      <th>Sex</th>\n      <th>Age</th>\n      <th>SibSp</th>\n      <th>Parch</th>\n      <th>Fare</th>\n      <th>Embarked</th>\n    </tr>\n  </thead>\n  <tbody>\n    <tr>\n      <th>0</th>\n      <td>3</td>\n      <td>1</td>\n      <td>22.0</td>\n      <td>1</td>\n      <td>0</td>\n      <td>7.2500</td>\n      <td>2</td>\n    </tr>\n    <tr>\n      <th>1</th>\n      <td>1</td>\n      <td>0</td>\n      <td>38.0</td>\n      <td>1</td>\n      <td>0</td>\n      <td>71.2833</td>\n      <td>0</td>\n    </tr>\n    <tr>\n      <th>2</th>\n      <td>3</td>\n      <td>0</td>\n      <td>26.0</td>\n      <td>0</td>\n      <td>0</td>\n      <td>7.9250</td>\n      <td>2</td>\n    </tr>\n    <tr>\n      <th>3</th>\n      <td>1</td>\n      <td>0</td>\n      <td>35.0</td>\n      <td>1</td>\n      <td>0</td>\n      <td>53.1000</td>\n      <td>2</td>\n    </tr>\n    <tr>\n      <th>4</th>\n      <td>3</td>\n      <td>1</td>\n      <td>35.0</td>\n      <td>0</td>\n      <td>0</td>\n      <td>8.0500</td>\n      <td>2</td>\n    </tr>\n  </tbody>\n</table>\n</div>"
     },
     "execution_count": 58,
     "metadata": {},
     "output_type": "execute_result"
    }
   ],
   "source": [
    "from sklearn.preprocessing import LabelEncoder\n",
    "\n",
    "label_encoder = LabelEncoder()\n",
    "x.iloc[:, 1] = label_encoder.fit_transform(x.iloc[:, 1])\n",
    "x.iloc[:, -1] = label_encoder.fit_transform(x.iloc[:, -1])\n",
    "x.head()"
   ],
   "metadata": {
    "collapsed": false,
    "pycharm": {
     "name": "#%%\n"
    }
   }
  },
  {
   "cell_type": "code",
   "execution_count": 60,
   "outputs": [
    {
     "data": {
      "text/plain": "array([[ 0.90859974,  0.75613751, -0.52766856,  0.52251079, -0.50678737,\n        -0.51637992,  0.51958818],\n       [-1.48298257, -1.32251077,  0.57709388,  0.52251079, -0.50678737,\n         0.69404605, -2.04948671],\n       [ 0.90859974, -1.32251077, -0.25147795, -0.55271372, -0.50678737,\n        -0.50362035,  0.51958818],\n       [-1.48298257, -1.32251077,  0.36995092,  0.52251079, -0.50678737,\n         0.35032585,  0.51958818],\n       [ 0.90859974,  0.75613751,  0.36995092, -0.55271372, -0.50678737,\n        -0.50125747,  0.51958818],\n       [-1.48298257,  0.75613751,  1.68185631, -0.55271372, -0.50678737,\n         0.3269333 ,  0.51958818],\n       [ 0.90859974,  0.75613751, -1.9086216 ,  2.67295981,  0.66474707,\n        -0.25504498,  0.51958818],\n       [ 0.90859974, -1.32251077, -0.1824303 , -0.55271372,  1.83628152,\n        -0.44297363,  0.51958818],\n       [-0.28719141, -1.32251077, -1.08004977,  0.52251079, -0.50678737,\n        -0.08499674, -2.04948671],\n       [ 0.90859974, -1.32251077, -1.77052629,  0.52251079,  0.66474707,\n        -0.33774591,  0.51958818]])"
     },
     "execution_count": 60,
     "metadata": {},
     "output_type": "execute_result"
    }
   ],
   "source": [
    "from sklearn.preprocessing import StandardScaler\n",
    "sc = StandardScaler()\n",
    "x_scaled = sc.fit_transform(x)\n",
    "x[:10]"
   ],
   "metadata": {
    "collapsed": false,
    "pycharm": {
     "name": "#%%\n"
    }
   }
  },
  {
   "cell_type": "code",
   "execution_count": 61,
   "outputs": [],
   "source": [
    "# Splitting the dataset into the Training set and Test set\n",
    "from sklearn.model_selection import train_test_split\n",
    "x_train, x_test, y_train, y_test = train_test_split(x_scaled, y, test_size = 0.2,\\\n",
    "                                                    random_state = 0)"
   ],
   "metadata": {
    "collapsed": false,
    "pycharm": {
     "name": "#%%\n"
    }
   }
  },
  {
   "cell_type": "code",
   "execution_count": 62,
   "outputs": [
    {
     "data": {
      "text/plain": "(712, 7)"
     },
     "execution_count": 62,
     "metadata": {},
     "output_type": "execute_result"
    }
   ],
   "source": [
    "x.shape"
   ],
   "metadata": {
    "collapsed": false,
    "pycharm": {
     "name": "#%%\n"
    }
   }
  },
  {
   "cell_type": "code",
   "execution_count": 63,
   "outputs": [
    {
     "name": "stdout",
     "output_type": "stream",
     "text": [
      "Metal device set to: Apple M1 Pro\n"
     ]
    },
    {
     "name": "stderr",
     "output_type": "stream",
     "text": [
      "2022-01-14 19:57:06.297953: I tensorflow/core/common_runtime/pluggable_device/pluggable_device_factory.cc:305] Could not identify NUMA node of platform GPU ID 0, defaulting to 0. Your kernel may not have been built with NUMA support.\n",
      "2022-01-14 19:57:06.298219: I tensorflow/core/common_runtime/pluggable_device/pluggable_device_factory.cc:271] Created TensorFlow device (/job:localhost/replica:0/task:0/device:GPU:0 with 0 MB memory) -> physical PluggableDevice (device: 0, name: METAL, pci bus id: <undefined>)\n"
     ]
    }
   ],
   "source": [
    "from keras.layers import Dense\n",
    "from keras.models import Sequential\n",
    "\n",
    "my_classifier = Sequential()\n",
    "\n",
    "my_classifier.add(Dense(units = 20, kernel_initializer = 'uniform',\n",
    "                        activation = 'relu', input_dim = x.shape[1]))\n",
    "\n",
    "my_classifier.add(Dense(units = 1, kernel_initializer = 'uniform',\n",
    "                        activation = 'sigmoid'))\n",
    "\n",
    "my_classifier.compile(optimizer = 'adam', loss = 'binary_crossentropy',\n",
    "                      metrics = ['accuracy'])"
   ],
   "metadata": {
    "collapsed": false,
    "pycharm": {
     "name": "#%%\n"
    }
   }
  },
  {
   "cell_type": "code",
   "execution_count": 64,
   "outputs": [
    {
     "name": "stderr",
     "output_type": "stream",
     "text": [
      "2022-01-14 19:57:29.046802: W tensorflow/core/platform/profile_utils/cpu_utils.cc:128] Failed to get CPU frequency: 0 Hz\n",
      "2022-01-14 19:57:29.185277: I tensorflow/core/grappler/optimizers/custom_graph_optimizer_registry.cc:112] Plugin optimizer for device_type GPU is enabled.\n"
     ]
    },
    {
     "name": "stdout",
     "output_type": "stream",
     "text": [
      "Epoch 1/100\n",
      "46/46 [==============================] - 1s 11ms/step - loss: 0.6901 - accuracy: 0.5956 - val_loss: 0.6808 - val_accuracy: 0.7193\n",
      "Epoch 2/100\n",
      "22/46 [=============>................] - ETA: 0s - loss: 0.6763 - accuracy: 0.7227"
     ]
    },
    {
     "name": "stderr",
     "output_type": "stream",
     "text": [
      "2022-01-14 19:57:29.858497: I tensorflow/core/grappler/optimizers/custom_graph_optimizer_registry.cc:112] Plugin optimizer for device_type GPU is enabled.\n"
     ]
    },
    {
     "name": "stdout",
     "output_type": "stream",
     "text": [
      "46/46 [==============================] - 0s 7ms/step - loss: 0.6685 - accuracy: 0.7319 - val_loss: 0.6410 - val_accuracy: 0.7719\n",
      "Epoch 3/100\n",
      "46/46 [==============================] - 0s 7ms/step - loss: 0.6187 - accuracy: 0.7846 - val_loss: 0.5775 - val_accuracy: 0.8070\n",
      "Epoch 4/100\n",
      "46/46 [==============================] - 0s 7ms/step - loss: 0.5589 - accuracy: 0.7978 - val_loss: 0.5118 - val_accuracy: 0.8070\n",
      "Epoch 5/100\n",
      "46/46 [==============================] - 0s 7ms/step - loss: 0.5127 - accuracy: 0.7890 - val_loss: 0.4725 - val_accuracy: 0.8070\n",
      "Epoch 6/100\n",
      "46/46 [==============================] - 0s 7ms/step - loss: 0.4865 - accuracy: 0.7956 - val_loss: 0.4478 - val_accuracy: 0.8070\n",
      "Epoch 7/100\n",
      "46/46 [==============================] - 0s 6ms/step - loss: 0.4706 - accuracy: 0.7934 - val_loss: 0.4343 - val_accuracy: 0.7982\n",
      "Epoch 8/100\n",
      "46/46 [==============================] - 0s 7ms/step - loss: 0.4612 - accuracy: 0.7890 - val_loss: 0.4256 - val_accuracy: 0.7982\n",
      "Epoch 9/100\n",
      "46/46 [==============================] - 0s 7ms/step - loss: 0.4553 - accuracy: 0.7868 - val_loss: 0.4207 - val_accuracy: 0.7982\n",
      "Epoch 10/100\n",
      "46/46 [==============================] - 0s 6ms/step - loss: 0.4496 - accuracy: 0.7890 - val_loss: 0.4165 - val_accuracy: 0.8158\n",
      "Epoch 11/100\n",
      "46/46 [==============================] - 0s 7ms/step - loss: 0.4464 - accuracy: 0.7868 - val_loss: 0.4132 - val_accuracy: 0.8158\n",
      "Epoch 12/100\n",
      "46/46 [==============================] - 0s 7ms/step - loss: 0.4424 - accuracy: 0.7956 - val_loss: 0.4111 - val_accuracy: 0.8246\n",
      "Epoch 13/100\n",
      "46/46 [==============================] - 0s 7ms/step - loss: 0.4402 - accuracy: 0.7934 - val_loss: 0.4094 - val_accuracy: 0.8246\n",
      "Epoch 14/100\n",
      "46/46 [==============================] - 0s 7ms/step - loss: 0.4375 - accuracy: 0.8022 - val_loss: 0.4079 - val_accuracy: 0.8246\n",
      "Epoch 15/100\n",
      "46/46 [==============================] - 0s 6ms/step - loss: 0.4355 - accuracy: 0.8044 - val_loss: 0.4054 - val_accuracy: 0.8333\n",
      "Epoch 16/100\n",
      "46/46 [==============================] - 0s 7ms/step - loss: 0.4341 - accuracy: 0.8066 - val_loss: 0.4044 - val_accuracy: 0.8333\n",
      "Epoch 17/100\n",
      "46/46 [==============================] - 0s 6ms/step - loss: 0.4319 - accuracy: 0.8000 - val_loss: 0.4032 - val_accuracy: 0.8421\n",
      "Epoch 18/100\n",
      "46/46 [==============================] - 0s 6ms/step - loss: 0.4292 - accuracy: 0.8066 - val_loss: 0.4023 - val_accuracy: 0.8333\n",
      "Epoch 19/100\n",
      "46/46 [==============================] - 0s 7ms/step - loss: 0.4280 - accuracy: 0.8066 - val_loss: 0.4017 - val_accuracy: 0.8246\n",
      "Epoch 20/100\n",
      "46/46 [==============================] - 0s 7ms/step - loss: 0.4265 - accuracy: 0.8044 - val_loss: 0.4008 - val_accuracy: 0.8246\n",
      "Epoch 21/100\n",
      "46/46 [==============================] - 0s 6ms/step - loss: 0.4257 - accuracy: 0.8066 - val_loss: 0.4004 - val_accuracy: 0.8333\n",
      "Epoch 22/100\n",
      "46/46 [==============================] - 0s 6ms/step - loss: 0.4248 - accuracy: 0.8066 - val_loss: 0.4001 - val_accuracy: 0.8246\n",
      "Epoch 23/100\n",
      "46/46 [==============================] - 0s 6ms/step - loss: 0.4227 - accuracy: 0.8044 - val_loss: 0.3992 - val_accuracy: 0.8333\n",
      "Epoch 24/100\n",
      "46/46 [==============================] - 0s 7ms/step - loss: 0.4211 - accuracy: 0.8066 - val_loss: 0.3982 - val_accuracy: 0.8333\n",
      "Epoch 25/100\n",
      "46/46 [==============================] - 0s 7ms/step - loss: 0.4211 - accuracy: 0.8066 - val_loss: 0.3976 - val_accuracy: 0.8333\n",
      "Epoch 26/100\n",
      "46/46 [==============================] - 0s 6ms/step - loss: 0.4191 - accuracy: 0.8066 - val_loss: 0.3973 - val_accuracy: 0.8421\n",
      "Epoch 27/100\n",
      "46/46 [==============================] - 0s 7ms/step - loss: 0.4180 - accuracy: 0.8066 - val_loss: 0.3981 - val_accuracy: 0.8333\n",
      "Epoch 28/100\n",
      "46/46 [==============================] - 0s 7ms/step - loss: 0.4172 - accuracy: 0.8110 - val_loss: 0.3968 - val_accuracy: 0.8333\n",
      "Epoch 29/100\n",
      "46/46 [==============================] - 0s 6ms/step - loss: 0.4161 - accuracy: 0.8176 - val_loss: 0.3970 - val_accuracy: 0.8333\n",
      "Epoch 30/100\n",
      "46/46 [==============================] - 0s 6ms/step - loss: 0.4148 - accuracy: 0.8176 - val_loss: 0.3972 - val_accuracy: 0.8246\n",
      "Epoch 31/100\n",
      "46/46 [==============================] - 0s 6ms/step - loss: 0.4139 - accuracy: 0.8176 - val_loss: 0.3959 - val_accuracy: 0.8158\n",
      "Epoch 32/100\n",
      "46/46 [==============================] - 0s 6ms/step - loss: 0.4130 - accuracy: 0.8220 - val_loss: 0.3955 - val_accuracy: 0.8158\n",
      "Epoch 33/100\n",
      "46/46 [==============================] - 0s 7ms/step - loss: 0.4121 - accuracy: 0.8220 - val_loss: 0.3953 - val_accuracy: 0.8333\n",
      "Epoch 34/100\n",
      "46/46 [==============================] - 0s 7ms/step - loss: 0.4120 - accuracy: 0.8198 - val_loss: 0.3954 - val_accuracy: 0.8246\n",
      "Epoch 35/100\n",
      "46/46 [==============================] - 0s 6ms/step - loss: 0.4112 - accuracy: 0.8198 - val_loss: 0.3953 - val_accuracy: 0.8246\n",
      "Epoch 36/100\n",
      "46/46 [==============================] - 0s 6ms/step - loss: 0.4103 - accuracy: 0.8220 - val_loss: 0.3944 - val_accuracy: 0.8246\n",
      "Epoch 37/100\n",
      "46/46 [==============================] - 0s 6ms/step - loss: 0.4100 - accuracy: 0.8176 - val_loss: 0.3950 - val_accuracy: 0.8333\n",
      "Epoch 38/100\n",
      "46/46 [==============================] - 0s 6ms/step - loss: 0.4095 - accuracy: 0.8264 - val_loss: 0.3942 - val_accuracy: 0.8246\n",
      "Epoch 39/100\n",
      "46/46 [==============================] - 0s 6ms/step - loss: 0.4085 - accuracy: 0.8264 - val_loss: 0.3934 - val_accuracy: 0.8246\n",
      "Epoch 40/100\n",
      "46/46 [==============================] - 0s 6ms/step - loss: 0.4068 - accuracy: 0.8220 - val_loss: 0.3942 - val_accuracy: 0.8246\n",
      "Epoch 41/100\n",
      "46/46 [==============================] - 0s 6ms/step - loss: 0.4067 - accuracy: 0.8286 - val_loss: 0.3930 - val_accuracy: 0.8246\n",
      "Epoch 42/100\n",
      "46/46 [==============================] - 0s 6ms/step - loss: 0.4059 - accuracy: 0.8286 - val_loss: 0.3934 - val_accuracy: 0.8246\n",
      "Epoch 43/100\n",
      "46/46 [==============================] - 0s 6ms/step - loss: 0.4060 - accuracy: 0.8286 - val_loss: 0.3928 - val_accuracy: 0.8246\n",
      "Epoch 44/100\n",
      "46/46 [==============================] - 0s 7ms/step - loss: 0.4053 - accuracy: 0.8308 - val_loss: 0.3926 - val_accuracy: 0.8246\n",
      "Epoch 45/100\n",
      "46/46 [==============================] - 0s 6ms/step - loss: 0.4039 - accuracy: 0.8286 - val_loss: 0.3922 - val_accuracy: 0.8246\n",
      "Epoch 46/100\n",
      "46/46 [==============================] - 0s 6ms/step - loss: 0.4035 - accuracy: 0.8286 - val_loss: 0.3924 - val_accuracy: 0.8246\n",
      "Epoch 47/100\n",
      "46/46 [==============================] - 0s 7ms/step - loss: 0.4029 - accuracy: 0.8264 - val_loss: 0.3921 - val_accuracy: 0.8246\n",
      "Epoch 48/100\n",
      "46/46 [==============================] - 0s 7ms/step - loss: 0.4017 - accuracy: 0.8308 - val_loss: 0.3914 - val_accuracy: 0.8246\n",
      "Epoch 49/100\n",
      "46/46 [==============================] - 0s 7ms/step - loss: 0.4019 - accuracy: 0.8286 - val_loss: 0.3921 - val_accuracy: 0.8246\n",
      "Epoch 50/100\n",
      "46/46 [==============================] - 0s 6ms/step - loss: 0.4008 - accuracy: 0.8330 - val_loss: 0.3924 - val_accuracy: 0.8246\n",
      "Epoch 51/100\n",
      "46/46 [==============================] - 0s 7ms/step - loss: 0.4021 - accuracy: 0.8308 - val_loss: 0.3909 - val_accuracy: 0.8333\n",
      "Epoch 52/100\n",
      "46/46 [==============================] - 0s 7ms/step - loss: 0.3995 - accuracy: 0.8396 - val_loss: 0.3918 - val_accuracy: 0.8246\n",
      "Epoch 53/100\n",
      "46/46 [==============================] - 0s 7ms/step - loss: 0.3993 - accuracy: 0.8374 - val_loss: 0.3907 - val_accuracy: 0.8246\n",
      "Epoch 54/100\n",
      "46/46 [==============================] - 0s 8ms/step - loss: 0.3984 - accuracy: 0.8396 - val_loss: 0.3901 - val_accuracy: 0.8246\n",
      "Epoch 55/100\n",
      "46/46 [==============================] - 0s 7ms/step - loss: 0.3980 - accuracy: 0.8352 - val_loss: 0.3906 - val_accuracy: 0.8333\n",
      "Epoch 56/100\n",
      "46/46 [==============================] - 0s 8ms/step - loss: 0.3980 - accuracy: 0.8352 - val_loss: 0.3916 - val_accuracy: 0.8158\n",
      "Epoch 57/100\n",
      "46/46 [==============================] - 0s 7ms/step - loss: 0.3984 - accuracy: 0.8374 - val_loss: 0.3916 - val_accuracy: 0.8246\n",
      "Epoch 58/100\n",
      "46/46 [==============================] - 0s 6ms/step - loss: 0.3969 - accuracy: 0.8352 - val_loss: 0.3906 - val_accuracy: 0.8158\n",
      "Epoch 59/100\n",
      "46/46 [==============================] - 0s 6ms/step - loss: 0.3962 - accuracy: 0.8418 - val_loss: 0.3901 - val_accuracy: 0.8158\n",
      "Epoch 60/100\n",
      "46/46 [==============================] - 0s 6ms/step - loss: 0.3957 - accuracy: 0.8418 - val_loss: 0.3899 - val_accuracy: 0.8333\n",
      "Epoch 61/100\n",
      "46/46 [==============================] - 0s 6ms/step - loss: 0.3954 - accuracy: 0.8440 - val_loss: 0.3897 - val_accuracy: 0.8333\n",
      "Epoch 62/100\n",
      "46/46 [==============================] - 0s 6ms/step - loss: 0.3952 - accuracy: 0.8440 - val_loss: 0.3895 - val_accuracy: 0.8333\n",
      "Epoch 63/100\n",
      "46/46 [==============================] - 0s 6ms/step - loss: 0.3945 - accuracy: 0.8396 - val_loss: 0.3896 - val_accuracy: 0.8246\n",
      "Epoch 64/100\n",
      "46/46 [==============================] - 0s 6ms/step - loss: 0.3942 - accuracy: 0.8440 - val_loss: 0.3891 - val_accuracy: 0.8333\n",
      "Epoch 65/100\n",
      "46/46 [==============================] - 0s 7ms/step - loss: 0.3935 - accuracy: 0.8440 - val_loss: 0.3880 - val_accuracy: 0.8333\n",
      "Epoch 66/100\n",
      "46/46 [==============================] - 0s 7ms/step - loss: 0.3932 - accuracy: 0.8462 - val_loss: 0.3887 - val_accuracy: 0.8333\n",
      "Epoch 67/100\n",
      "46/46 [==============================] - 0s 6ms/step - loss: 0.3925 - accuracy: 0.8440 - val_loss: 0.3895 - val_accuracy: 0.8246\n",
      "Epoch 68/100\n",
      "46/46 [==============================] - 0s 6ms/step - loss: 0.3924 - accuracy: 0.8462 - val_loss: 0.3890 - val_accuracy: 0.8246\n",
      "Epoch 69/100\n",
      "46/46 [==============================] - 0s 6ms/step - loss: 0.3920 - accuracy: 0.8440 - val_loss: 0.3893 - val_accuracy: 0.8158\n",
      "Epoch 70/100\n",
      "46/46 [==============================] - 0s 7ms/step - loss: 0.3920 - accuracy: 0.8462 - val_loss: 0.3888 - val_accuracy: 0.8246\n",
      "Epoch 71/100\n",
      "46/46 [==============================] - 0s 6ms/step - loss: 0.3913 - accuracy: 0.8440 - val_loss: 0.3891 - val_accuracy: 0.8333\n",
      "Epoch 72/100\n",
      "46/46 [==============================] - 0s 6ms/step - loss: 0.3911 - accuracy: 0.8462 - val_loss: 0.3886 - val_accuracy: 0.8246\n",
      "Epoch 73/100\n",
      "46/46 [==============================] - 0s 6ms/step - loss: 0.3910 - accuracy: 0.8462 - val_loss: 0.3892 - val_accuracy: 0.8246\n",
      "Epoch 74/100\n",
      "46/46 [==============================] - 0s 6ms/step - loss: 0.3905 - accuracy: 0.8440 - val_loss: 0.3882 - val_accuracy: 0.8333\n",
      "Epoch 75/100\n",
      "46/46 [==============================] - 0s 7ms/step - loss: 0.3899 - accuracy: 0.8462 - val_loss: 0.3883 - val_accuracy: 0.8158\n",
      "Epoch 76/100\n",
      "46/46 [==============================] - 0s 6ms/step - loss: 0.3895 - accuracy: 0.8484 - val_loss: 0.3886 - val_accuracy: 0.8246\n",
      "Epoch 77/100\n",
      "46/46 [==============================] - 0s 6ms/step - loss: 0.3901 - accuracy: 0.8440 - val_loss: 0.3888 - val_accuracy: 0.8246\n",
      "Epoch 78/100\n",
      "46/46 [==============================] - 0s 7ms/step - loss: 0.3887 - accuracy: 0.8484 - val_loss: 0.3888 - val_accuracy: 0.8158\n",
      "Epoch 79/100\n",
      "46/46 [==============================] - 0s 6ms/step - loss: 0.3894 - accuracy: 0.8505 - val_loss: 0.3876 - val_accuracy: 0.8158\n",
      "Epoch 80/100\n",
      "46/46 [==============================] - 0s 6ms/step - loss: 0.3879 - accuracy: 0.8462 - val_loss: 0.3885 - val_accuracy: 0.8246\n",
      "Epoch 81/100\n",
      "46/46 [==============================] - 0s 7ms/step - loss: 0.3879 - accuracy: 0.8418 - val_loss: 0.3881 - val_accuracy: 0.8246\n",
      "Epoch 82/100\n",
      "46/46 [==============================] - 0s 7ms/step - loss: 0.3890 - accuracy: 0.8462 - val_loss: 0.3884 - val_accuracy: 0.8158\n",
      "Epoch 83/100\n",
      "46/46 [==============================] - 0s 6ms/step - loss: 0.3867 - accuracy: 0.8484 - val_loss: 0.3885 - val_accuracy: 0.8158\n",
      "Epoch 84/100\n",
      "46/46 [==============================] - 0s 6ms/step - loss: 0.3872 - accuracy: 0.8462 - val_loss: 0.3884 - val_accuracy: 0.8158\n",
      "Epoch 85/100\n",
      "46/46 [==============================] - 0s 7ms/step - loss: 0.3872 - accuracy: 0.8462 - val_loss: 0.3877 - val_accuracy: 0.8070\n",
      "Epoch 86/100\n",
      "46/46 [==============================] - 0s 7ms/step - loss: 0.3863 - accuracy: 0.8484 - val_loss: 0.3885 - val_accuracy: 0.8070\n",
      "Epoch 87/100\n",
      "46/46 [==============================] - 0s 7ms/step - loss: 0.3870 - accuracy: 0.8505 - val_loss: 0.3877 - val_accuracy: 0.8070\n",
      "Epoch 88/100\n",
      "46/46 [==============================] - 0s 7ms/step - loss: 0.3859 - accuracy: 0.8484 - val_loss: 0.3874 - val_accuracy: 0.8158\n",
      "Epoch 89/100\n",
      "46/46 [==============================] - 0s 7ms/step - loss: 0.3855 - accuracy: 0.8462 - val_loss: 0.3883 - val_accuracy: 0.8158\n",
      "Epoch 90/100\n",
      "46/46 [==============================] - 0s 6ms/step - loss: 0.3852 - accuracy: 0.8484 - val_loss: 0.3878 - val_accuracy: 0.8246\n",
      "Epoch 91/100\n",
      "46/46 [==============================] - 0s 6ms/step - loss: 0.3851 - accuracy: 0.8484 - val_loss: 0.3880 - val_accuracy: 0.8070\n",
      "Epoch 92/100\n",
      "46/46 [==============================] - 0s 6ms/step - loss: 0.3849 - accuracy: 0.8484 - val_loss: 0.3869 - val_accuracy: 0.8158\n",
      "Epoch 93/100\n",
      "46/46 [==============================] - 0s 6ms/step - loss: 0.3842 - accuracy: 0.8440 - val_loss: 0.3869 - val_accuracy: 0.8246\n",
      "Epoch 94/100\n",
      "46/46 [==============================] - 0s 6ms/step - loss: 0.3837 - accuracy: 0.8462 - val_loss: 0.3869 - val_accuracy: 0.8070\n",
      "Epoch 95/100\n",
      "46/46 [==============================] - 0s 6ms/step - loss: 0.3836 - accuracy: 0.8505 - val_loss: 0.3864 - val_accuracy: 0.8158\n",
      "Epoch 96/100\n",
      "46/46 [==============================] - 0s 6ms/step - loss: 0.3827 - accuracy: 0.8505 - val_loss: 0.3866 - val_accuracy: 0.8158\n",
      "Epoch 97/100\n",
      "46/46 [==============================] - 0s 7ms/step - loss: 0.3841 - accuracy: 0.8484 - val_loss: 0.3873 - val_accuracy: 0.8158\n",
      "Epoch 98/100\n",
      "46/46 [==============================] - 0s 6ms/step - loss: 0.3837 - accuracy: 0.8462 - val_loss: 0.3865 - val_accuracy: 0.8070\n",
      "Epoch 99/100\n",
      "46/46 [==============================] - 0s 6ms/step - loss: 0.3833 - accuracy: 0.8505 - val_loss: 0.3871 - val_accuracy: 0.8158\n",
      "Epoch 100/100\n",
      "46/46 [==============================] - 0s 6ms/step - loss: 0.3821 - accuracy: 0.8462 - val_loss: 0.3870 - val_accuracy: 0.8070\n"
     ]
    }
   ],
   "source": [
    "history = my_classifier.fit(x_train, y_train, validation_split=0.2,\n",
    "                            batch_size = 10, epochs = 100)"
   ],
   "metadata": {
    "collapsed": false,
    "pycharm": {
     "name": "#%%\n"
    }
   }
  },
  {
   "cell_type": "code",
   "execution_count": 66,
   "outputs": [
    {
     "name": "stderr",
     "output_type": "stream",
     "text": [
      "2022-01-14 19:58:36.757610: I tensorflow/core/grappler/optimizers/custom_graph_optimizer_registry.cc:112] Plugin optimizer for device_type GPU is enabled.\n"
     ]
    }
   ],
   "source": [
    "y_pred_test = my_classifier.predict(x_test)\n",
    "y_pred_test = (y_pred_test > 0.5)"
   ],
   "metadata": {
    "collapsed": false,
    "pycharm": {
     "name": "#%%\n"
    }
   }
  },
  {
   "cell_type": "code",
   "execution_count": 193,
   "outputs": [
    {
     "data": {
      "text/plain": "0.8181818181818182"
     },
     "execution_count": 193,
     "metadata": {},
     "output_type": "execute_result"
    }
   ],
   "source": [
    "from sklearn.metrics import accuracy_score\n",
    "\n",
    "accuracy_score(y_test, y_pred_test)"
   ],
   "metadata": {
    "collapsed": false,
    "pycharm": {
     "name": "#%%\n"
    }
   }
  },
  {
   "cell_type": "code",
   "execution_count": 67,
   "outputs": [
    {
     "data": {
      "text/plain": "array([[76,  6],\n       [20, 41]])"
     },
     "execution_count": 67,
     "metadata": {},
     "output_type": "execute_result"
    }
   ],
   "source": [
    "from sklearn.metrics import confusion_matrix\n",
    "cm = confusion_matrix(y_test, y_pred_test)\n",
    "cm"
   ],
   "metadata": {
    "collapsed": false,
    "pycharm": {
     "name": "#%%\n"
    }
   }
  },
  {
   "cell_type": "code",
   "execution_count": 68,
   "outputs": [
    {
     "data": {
      "text/plain": "<Figure size 432x288 with 1 Axes>",
      "image/png": "[encoded data removed]"
     },
     "metadata": {
      "needs_background": "light"
     },
     "output_type": "display_data"
    }
   ],
   "source": [
    "plt.subplots() # open a new plot\n",
    "plt.plot(history.history['accuracy'])\n",
    "plt.plot(history.history['val_accuracy'])\n",
    "plt.title('model accuracy')\n",
    "plt.ylabel('accuracy')\n",
    "plt.xlabel('epoch')\n",
    "plt.legend(['train', 'validation'])\n",
    "plt.show()"
   ],
   "metadata": {
    "collapsed": false,
    "pycharm": {
     "name": "#%%\n"
    }
   }
  },
  {
   "cell_type": "code",
   "execution_count": 69,
   "outputs": [
    {
     "data": {
      "text/plain": "<Figure size 432x288 with 1 Axes>",
      "image/png": "[encoded data removed]"
     },
     "metadata": {
      "needs_background": "light"
     },
     "output_type": "display_data"
    }
   ],
   "source": [
    "plt.subplots() # open a new plot\n",
    "plt.plot(history.history['loss'])\n",
    "plt.plot(history.history['val_loss'])\n",
    "plt.title('model loss')\n",
    "plt.ylabel('loss')\n",
    "plt.xlabel('epoch')\n",
    "plt.legend(['train', 'validation'])\n",
    "plt.show()"
   ],
   "metadata": {
    "collapsed": false,
    "pycharm": {
     "name": "#%%\n"
    }
   }
  },
  {
   "cell_type": "code",
   "execution_count": 245,
   "outputs": [],
   "source": [
    "from keras.layers import Dropout\n",
    "\n",
    "my_classifier2 = Sequential()\n",
    "\n",
    "my_classifier2.add(Dense(units=20, kernel_initializer = 'uniform',\n",
    "                        activation = 'relu', input_dim = x.shape[1]))\n",
    "\n",
    "my_classifier2.add(Dropout(0.2, seed=42))\n",
    "\n",
    "my_classifier2.add(Dense(units=10, kernel_initializer = 'uniform',\n",
    "                        activation = 'relu'))\n",
    "\n",
    "my_classifier2.add(Dense(units = 1, kernel_initializer = 'uniform',\n",
    "                        activation = 'sigmoid'))\n",
    "\n",
    "my_classifier2.compile(optimizer = 'adam', loss = 'binary_crossentropy',\n",
    "                      metrics = ['accuracy'])"
   ],
   "metadata": {
    "collapsed": false,
    "pycharm": {
     "name": "#%%\n"
    }
   }
  },
  {
   "cell_type": "code",
   "execution_count": 246,
   "outputs": [
    {
     "name": "stdout",
     "output_type": "stream",
     "text": [
      "Epoch 1/100\n",
      " 1/46 [..............................] - ETA: 11s - loss: 0.6932 - accuracy: 0.4000"
     ]
    },
    {
     "name": "stderr",
     "output_type": "stream",
     "text": [
      "2022-01-14 20:38:34.540566: I tensorflow/core/grappler/optimizers/custom_graph_optimizer_registry.cc:112] Plugin optimizer for device_type GPU is enabled.\n"
     ]
    },
    {
     "name": "stdout",
     "output_type": "stream",
     "text": [
      "46/46 [==============================] - 1s 12ms/step - loss: 0.6911 - accuracy: 0.5890 - val_loss: 0.6861 - val_accuracy: 0.6316\n",
      "Epoch 2/100\n",
      " 9/46 [====>.........................] - ETA: 0s - loss: 0.6834 - accuracy: 0.6556"
     ]
    },
    {
     "name": "stderr",
     "output_type": "stream",
     "text": [
      "2022-01-14 20:38:35.104484: I tensorflow/core/grappler/optimizers/custom_graph_optimizer_registry.cc:112] Plugin optimizer for device_type GPU is enabled.\n"
     ]
    },
    {
     "name": "stdout",
     "output_type": "stream",
     "text": [
      "46/46 [==============================] - 0s 8ms/step - loss: 0.6786 - accuracy: 0.6352 - val_loss: 0.6562 - val_accuracy: 0.7895\n",
      "Epoch 3/100\n",
      "46/46 [==============================] - 0s 7ms/step - loss: 0.6269 - accuracy: 0.7780 - val_loss: 0.5695 - val_accuracy: 0.7982\n",
      "Epoch 4/100\n",
      "46/46 [==============================] - 0s 7ms/step - loss: 0.5455 - accuracy: 0.8044 - val_loss: 0.4812 - val_accuracy: 0.8070\n",
      "Epoch 5/100\n",
      "46/46 [==============================] - 0s 8ms/step - loss: 0.4853 - accuracy: 0.7934 - val_loss: 0.4366 - val_accuracy: 0.8070\n",
      "Epoch 6/100\n",
      "46/46 [==============================] - 0s 7ms/step - loss: 0.4627 - accuracy: 0.8000 - val_loss: 0.4207 - val_accuracy: 0.7982\n",
      "Epoch 7/100\n",
      "46/46 [==============================] - 0s 8ms/step - loss: 0.4574 - accuracy: 0.7956 - val_loss: 0.4145 - val_accuracy: 0.7982\n",
      "Epoch 8/100\n",
      "46/46 [==============================] - 0s 8ms/step - loss: 0.4516 - accuracy: 0.7934 - val_loss: 0.4110 - val_accuracy: 0.8158\n",
      "Epoch 9/100\n",
      "46/46 [==============================] - 0s 7ms/step - loss: 0.4434 - accuracy: 0.8088 - val_loss: 0.4062 - val_accuracy: 0.8333\n",
      "Epoch 10/100\n",
      "46/46 [==============================] - 0s 8ms/step - loss: 0.4376 - accuracy: 0.7824 - val_loss: 0.4027 - val_accuracy: 0.8333\n",
      "Epoch 11/100\n",
      "46/46 [==============================] - 0s 8ms/step - loss: 0.4409 - accuracy: 0.8000 - val_loss: 0.4007 - val_accuracy: 0.8333\n",
      "Epoch 12/100\n",
      "46/46 [==============================] - 0s 7ms/step - loss: 0.4509 - accuracy: 0.8066 - val_loss: 0.4006 - val_accuracy: 0.8333\n",
      "Epoch 13/100\n",
      "46/46 [==============================] - 0s 7ms/step - loss: 0.4364 - accuracy: 0.8132 - val_loss: 0.4027 - val_accuracy: 0.8333\n",
      "Epoch 14/100\n",
      "46/46 [==============================] - 0s 8ms/step - loss: 0.4357 - accuracy: 0.7978 - val_loss: 0.3997 - val_accuracy: 0.8333\n",
      "Epoch 15/100\n",
      "46/46 [==============================] - 0s 9ms/step - loss: 0.4385 - accuracy: 0.8044 - val_loss: 0.3996 - val_accuracy: 0.8246\n",
      "Epoch 16/100\n",
      "46/46 [==============================] - 0s 8ms/step - loss: 0.4341 - accuracy: 0.8044 - val_loss: 0.3995 - val_accuracy: 0.8333\n",
      "Epoch 17/100\n",
      "46/46 [==============================] - 0s 7ms/step - loss: 0.4321 - accuracy: 0.8088 - val_loss: 0.3971 - val_accuracy: 0.8246\n",
      "Epoch 18/100\n",
      "46/46 [==============================] - 0s 7ms/step - loss: 0.4243 - accuracy: 0.8154 - val_loss: 0.3957 - val_accuracy: 0.8246\n",
      "Epoch 19/100\n",
      "46/46 [==============================] - 0s 8ms/step - loss: 0.4431 - accuracy: 0.7934 - val_loss: 0.3987 - val_accuracy: 0.8246\n",
      "Epoch 20/100\n",
      "46/46 [==============================] - 0s 8ms/step - loss: 0.4240 - accuracy: 0.8132 - val_loss: 0.3971 - val_accuracy: 0.8158\n",
      "Epoch 21/100\n",
      "46/46 [==============================] - 0s 8ms/step - loss: 0.4301 - accuracy: 0.8132 - val_loss: 0.3958 - val_accuracy: 0.8421\n",
      "Epoch 22/100\n",
      "46/46 [==============================] - 0s 7ms/step - loss: 0.4253 - accuracy: 0.8044 - val_loss: 0.3945 - val_accuracy: 0.8333\n",
      "Epoch 23/100\n",
      "46/46 [==============================] - 0s 8ms/step - loss: 0.4348 - accuracy: 0.8154 - val_loss: 0.3954 - val_accuracy: 0.8246\n",
      "Epoch 24/100\n",
      "46/46 [==============================] - 0s 8ms/step - loss: 0.4176 - accuracy: 0.8352 - val_loss: 0.3950 - val_accuracy: 0.8333\n",
      "Epoch 25/100\n",
      "46/46 [==============================] - 0s 7ms/step - loss: 0.4209 - accuracy: 0.8220 - val_loss: 0.3945 - val_accuracy: 0.8333\n",
      "Epoch 26/100\n",
      "46/46 [==============================] - 0s 7ms/step - loss: 0.4243 - accuracy: 0.8220 - val_loss: 0.3957 - val_accuracy: 0.8158\n",
      "Epoch 27/100\n",
      "46/46 [==============================] - 0s 7ms/step - loss: 0.4314 - accuracy: 0.8088 - val_loss: 0.3947 - val_accuracy: 0.8333\n",
      "Epoch 28/100\n",
      "46/46 [==============================] - 0s 7ms/step - loss: 0.4278 - accuracy: 0.8132 - val_loss: 0.3959 - val_accuracy: 0.8246\n",
      "Epoch 29/100\n",
      "46/46 [==============================] - 0s 7ms/step - loss: 0.4202 - accuracy: 0.8176 - val_loss: 0.3944 - val_accuracy: 0.8246\n",
      "Epoch 30/100\n",
      "46/46 [==============================] - 0s 7ms/step - loss: 0.4096 - accuracy: 0.8286 - val_loss: 0.3942 - val_accuracy: 0.8246\n",
      "Epoch 31/100\n",
      "46/46 [==============================] - 0s 8ms/step - loss: 0.4238 - accuracy: 0.8088 - val_loss: 0.3943 - val_accuracy: 0.8246\n",
      "Epoch 32/100\n",
      "46/46 [==============================] - 0s 7ms/step - loss: 0.4219 - accuracy: 0.8264 - val_loss: 0.3970 - val_accuracy: 0.8158\n",
      "Epoch 33/100\n",
      "46/46 [==============================] - 0s 7ms/step - loss: 0.4252 - accuracy: 0.8066 - val_loss: 0.3946 - val_accuracy: 0.8333\n",
      "Epoch 34/100\n",
      "46/46 [==============================] - 0s 7ms/step - loss: 0.4069 - accuracy: 0.8264 - val_loss: 0.3952 - val_accuracy: 0.8246\n",
      "Epoch 35/100\n",
      "46/46 [==============================] - 0s 7ms/step - loss: 0.4165 - accuracy: 0.8264 - val_loss: 0.3951 - val_accuracy: 0.8333\n",
      "Epoch 36/100\n",
      "46/46 [==============================] - 0s 9ms/step - loss: 0.4174 - accuracy: 0.8198 - val_loss: 0.3961 - val_accuracy: 0.8246\n",
      "Epoch 37/100\n",
      "46/46 [==============================] - 0s 7ms/step - loss: 0.4223 - accuracy: 0.8198 - val_loss: 0.3950 - val_accuracy: 0.8333\n",
      "Epoch 38/100\n",
      "46/46 [==============================] - 0s 7ms/step - loss: 0.4167 - accuracy: 0.8242 - val_loss: 0.3944 - val_accuracy: 0.8246\n",
      "Epoch 39/100\n",
      "46/46 [==============================] - 0s 7ms/step - loss: 0.4133 - accuracy: 0.8286 - val_loss: 0.3967 - val_accuracy: 0.8158\n",
      "Epoch 40/100\n",
      "46/46 [==============================] - 0s 7ms/step - loss: 0.4143 - accuracy: 0.8154 - val_loss: 0.3953 - val_accuracy: 0.8246\n",
      "Epoch 41/100\n",
      "46/46 [==============================] - 0s 7ms/step - loss: 0.4133 - accuracy: 0.8286 - val_loss: 0.3947 - val_accuracy: 0.8333\n",
      "Epoch 42/100\n",
      "46/46 [==============================] - 0s 7ms/step - loss: 0.4105 - accuracy: 0.8396 - val_loss: 0.3955 - val_accuracy: 0.8333\n",
      "Epoch 43/100\n",
      "46/46 [==============================] - 0s 8ms/step - loss: 0.4272 - accuracy: 0.8220 - val_loss: 0.3950 - val_accuracy: 0.8333\n",
      "Epoch 44/100\n",
      "46/46 [==============================] - 0s 7ms/step - loss: 0.4232 - accuracy: 0.8198 - val_loss: 0.3955 - val_accuracy: 0.8246\n",
      "Epoch 45/100\n",
      "46/46 [==============================] - 0s 8ms/step - loss: 0.4188 - accuracy: 0.8462 - val_loss: 0.3960 - val_accuracy: 0.8246\n",
      "Epoch 46/100\n",
      "46/46 [==============================] - 0s 8ms/step - loss: 0.4261 - accuracy: 0.8308 - val_loss: 0.3965 - val_accuracy: 0.8246\n",
      "Epoch 47/100\n",
      "46/46 [==============================] - 0s 8ms/step - loss: 0.4071 - accuracy: 0.8374 - val_loss: 0.3976 - val_accuracy: 0.8246\n",
      "Epoch 48/100\n",
      "46/46 [==============================] - 0s 7ms/step - loss: 0.4162 - accuracy: 0.8374 - val_loss: 0.3982 - val_accuracy: 0.8158\n",
      "Epoch 49/100\n",
      "46/46 [==============================] - 0s 8ms/step - loss: 0.4079 - accuracy: 0.8330 - val_loss: 0.3963 - val_accuracy: 0.8158\n",
      "Epoch 50/100\n",
      "46/46 [==============================] - 0s 8ms/step - loss: 0.4138 - accuracy: 0.8308 - val_loss: 0.3981 - val_accuracy: 0.8246\n",
      "Epoch 51/100\n",
      "46/46 [==============================] - 0s 8ms/step - loss: 0.4160 - accuracy: 0.8418 - val_loss: 0.3966 - val_accuracy: 0.8246\n",
      "Epoch 52/100\n",
      "46/46 [==============================] - 0s 7ms/step - loss: 0.4170 - accuracy: 0.8154 - val_loss: 0.3968 - val_accuracy: 0.8246\n",
      "Epoch 53/100\n",
      "46/46 [==============================] - 0s 7ms/step - loss: 0.4243 - accuracy: 0.8088 - val_loss: 0.3963 - val_accuracy: 0.8158\n",
      "Epoch 54/100\n",
      "46/46 [==============================] - 0s 7ms/step - loss: 0.4088 - accuracy: 0.8286 - val_loss: 0.3966 - val_accuracy: 0.8158\n",
      "Epoch 55/100\n",
      "46/46 [==============================] - 0s 7ms/step - loss: 0.4024 - accuracy: 0.8418 - val_loss: 0.3937 - val_accuracy: 0.8246\n",
      "Epoch 56/100\n",
      "46/46 [==============================] - 0s 7ms/step - loss: 0.4016 - accuracy: 0.8330 - val_loss: 0.3941 - val_accuracy: 0.8246\n",
      "Epoch 57/100\n",
      "46/46 [==============================] - 0s 7ms/step - loss: 0.4269 - accuracy: 0.8220 - val_loss: 0.3951 - val_accuracy: 0.8158\n",
      "Epoch 58/100\n",
      "46/46 [==============================] - 0s 7ms/step - loss: 0.4014 - accuracy: 0.8462 - val_loss: 0.3952 - val_accuracy: 0.8158\n",
      "Epoch 59/100\n",
      "46/46 [==============================] - 0s 7ms/step - loss: 0.4160 - accuracy: 0.8286 - val_loss: 0.3957 - val_accuracy: 0.8246\n",
      "Epoch 60/100\n",
      "46/46 [==============================] - 0s 7ms/step - loss: 0.4010 - accuracy: 0.8242 - val_loss: 0.3943 - val_accuracy: 0.8070\n",
      "Epoch 61/100\n",
      "46/46 [==============================] - 0s 7ms/step - loss: 0.4047 - accuracy: 0.8396 - val_loss: 0.3960 - val_accuracy: 0.8333\n",
      "Epoch 62/100\n",
      "46/46 [==============================] - 0s 7ms/step - loss: 0.4129 - accuracy: 0.8330 - val_loss: 0.3959 - val_accuracy: 0.8158\n",
      "Epoch 63/100\n",
      "46/46 [==============================] - 0s 7ms/step - loss: 0.4044 - accuracy: 0.8505 - val_loss: 0.3953 - val_accuracy: 0.8158\n",
      "Epoch 64/100\n",
      "46/46 [==============================] - 0s 7ms/step - loss: 0.4144 - accuracy: 0.8198 - val_loss: 0.3958 - val_accuracy: 0.8070\n",
      "Epoch 65/100\n",
      "46/46 [==============================] - 0s 7ms/step - loss: 0.4097 - accuracy: 0.8396 - val_loss: 0.3949 - val_accuracy: 0.8333\n",
      "Epoch 66/100\n",
      "46/46 [==============================] - 0s 7ms/step - loss: 0.4113 - accuracy: 0.8352 - val_loss: 0.3954 - val_accuracy: 0.8070\n",
      "Epoch 67/100\n",
      "46/46 [==============================] - 0s 7ms/step - loss: 0.4096 - accuracy: 0.8308 - val_loss: 0.3947 - val_accuracy: 0.8070\n",
      "Epoch 68/100\n",
      "46/46 [==============================] - 0s 7ms/step - loss: 0.4190 - accuracy: 0.8132 - val_loss: 0.3957 - val_accuracy: 0.8333\n",
      "Epoch 69/100\n",
      "46/46 [==============================] - 0s 7ms/step - loss: 0.3947 - accuracy: 0.8440 - val_loss: 0.3961 - val_accuracy: 0.8158\n",
      "Epoch 70/100\n",
      "46/46 [==============================] - 0s 7ms/step - loss: 0.3964 - accuracy: 0.8374 - val_loss: 0.3954 - val_accuracy: 0.8158\n",
      "Epoch 71/100\n",
      "46/46 [==============================] - 0s 7ms/step - loss: 0.4079 - accuracy: 0.8286 - val_loss: 0.3941 - val_accuracy: 0.8158\n",
      "Epoch 72/100\n",
      "46/46 [==============================] - 0s 7ms/step - loss: 0.4040 - accuracy: 0.8418 - val_loss: 0.3959 - val_accuracy: 0.8246\n",
      "Epoch 73/100\n",
      "46/46 [==============================] - 0s 7ms/step - loss: 0.4084 - accuracy: 0.8396 - val_loss: 0.3948 - val_accuracy: 0.8070\n",
      "Epoch 74/100\n",
      "46/46 [==============================] - 0s 7ms/step - loss: 0.3954 - accuracy: 0.8418 - val_loss: 0.3937 - val_accuracy: 0.8158\n",
      "Epoch 75/100\n",
      "46/46 [==============================] - 0s 7ms/step - loss: 0.3981 - accuracy: 0.8418 - val_loss: 0.3959 - val_accuracy: 0.8333\n",
      "Epoch 76/100\n",
      "46/46 [==============================] - 0s 7ms/step - loss: 0.4159 - accuracy: 0.8264 - val_loss: 0.3970 - val_accuracy: 0.8246\n",
      "Epoch 77/100\n",
      "46/46 [==============================] - 0s 7ms/step - loss: 0.4046 - accuracy: 0.8264 - val_loss: 0.3972 - val_accuracy: 0.8158\n",
      "Epoch 78/100\n",
      "46/46 [==============================] - 0s 7ms/step - loss: 0.3969 - accuracy: 0.8571 - val_loss: 0.3972 - val_accuracy: 0.8158\n",
      "Epoch 79/100\n",
      "46/46 [==============================] - 0s 7ms/step - loss: 0.4061 - accuracy: 0.8352 - val_loss: 0.3973 - val_accuracy: 0.8158\n",
      "Epoch 80/100\n",
      "46/46 [==============================] - 0s 7ms/step - loss: 0.3860 - accuracy: 0.8571 - val_loss: 0.3963 - val_accuracy: 0.8158\n",
      "Epoch 81/100\n",
      "46/46 [==============================] - 0s 7ms/step - loss: 0.4023 - accuracy: 0.8330 - val_loss: 0.3958 - val_accuracy: 0.8070\n",
      "Epoch 82/100\n",
      "46/46 [==============================] - 0s 7ms/step - loss: 0.4084 - accuracy: 0.8396 - val_loss: 0.3964 - val_accuracy: 0.8246\n",
      "Epoch 83/100\n",
      "46/46 [==============================] - 0s 7ms/step - loss: 0.4038 - accuracy: 0.8330 - val_loss: 0.3997 - val_accuracy: 0.7982\n",
      "Epoch 84/100\n",
      "46/46 [==============================] - 0s 7ms/step - loss: 0.4016 - accuracy: 0.8418 - val_loss: 0.3971 - val_accuracy: 0.8246\n",
      "Epoch 85/100\n",
      "46/46 [==============================] - 0s 7ms/step - loss: 0.4099 - accuracy: 0.8374 - val_loss: 0.3988 - val_accuracy: 0.8333\n",
      "Epoch 86/100\n",
      "46/46 [==============================] - 0s 7ms/step - loss: 0.4055 - accuracy: 0.8396 - val_loss: 0.3982 - val_accuracy: 0.8158\n",
      "Epoch 87/100\n",
      "46/46 [==============================] - 0s 8ms/step - loss: 0.4120 - accuracy: 0.8264 - val_loss: 0.3973 - val_accuracy: 0.8246\n",
      "Epoch 88/100\n",
      "46/46 [==============================] - 0s 8ms/step - loss: 0.3915 - accuracy: 0.8462 - val_loss: 0.3959 - val_accuracy: 0.8246\n",
      "Epoch 89/100\n",
      "46/46 [==============================] - 0s 8ms/step - loss: 0.3918 - accuracy: 0.8418 - val_loss: 0.3937 - val_accuracy: 0.8246\n",
      "Epoch 90/100\n",
      "46/46 [==============================] - 0s 7ms/step - loss: 0.4020 - accuracy: 0.8440 - val_loss: 0.3940 - val_accuracy: 0.8070\n",
      "Epoch 91/100\n",
      "46/46 [==============================] - 0s 8ms/step - loss: 0.3958 - accuracy: 0.8462 - val_loss: 0.3940 - val_accuracy: 0.8070\n",
      "Epoch 92/100\n",
      "46/46 [==============================] - 0s 7ms/step - loss: 0.4052 - accuracy: 0.8330 - val_loss: 0.3936 - val_accuracy: 0.8246\n",
      "Epoch 93/100\n",
      "46/46 [==============================] - 0s 8ms/step - loss: 0.4037 - accuracy: 0.8440 - val_loss: 0.3949 - val_accuracy: 0.8158\n",
      "Epoch 94/100\n",
      "46/46 [==============================] - 0s 7ms/step - loss: 0.3890 - accuracy: 0.8418 - val_loss: 0.3942 - val_accuracy: 0.8070\n",
      "Epoch 95/100\n",
      "46/46 [==============================] - 0s 7ms/step - loss: 0.4036 - accuracy: 0.8220 - val_loss: 0.3950 - val_accuracy: 0.8070\n",
      "Epoch 96/100\n",
      "46/46 [==============================] - 0s 8ms/step - loss: 0.3940 - accuracy: 0.8440 - val_loss: 0.3960 - val_accuracy: 0.8246\n",
      "Epoch 97/100\n",
      "46/46 [==============================] - 0s 8ms/step - loss: 0.4060 - accuracy: 0.8418 - val_loss: 0.4005 - val_accuracy: 0.8070\n",
      "Epoch 98/100\n",
      "46/46 [==============================] - 0s 8ms/step - loss: 0.3987 - accuracy: 0.8352 - val_loss: 0.3983 - val_accuracy: 0.8070\n",
      "Epoch 99/100\n",
      "46/46 [==============================] - 0s 8ms/step - loss: 0.3994 - accuracy: 0.8286 - val_loss: 0.3970 - val_accuracy: 0.7982\n",
      "Epoch 100/100\n",
      "46/46 [==============================] - 0s 7ms/step - loss: 0.3806 - accuracy: 0.8418 - val_loss: 0.3985 - val_accuracy: 0.8158\n"
     ]
    }
   ],
   "source": [
    "history2 = my_classifier2.fit(x_train,\n",
    "                              y_train,\n",
    "                              validation_split=0.2,\n",
    "                              batch_size=10,\n",
    "                              epochs=100)"
   ],
   "metadata": {
    "collapsed": false,
    "pycharm": {
     "name": "#%%\n"
    }
   }
  },
  {
   "cell_type": "code",
   "execution_count": 247,
   "outputs": [
    {
     "name": "stderr",
     "output_type": "stream",
     "text": [
      "2022-01-14 20:39:09.166056: I tensorflow/core/grappler/optimizers/custom_graph_optimizer_registry.cc:112] Plugin optimizer for device_type GPU is enabled.\n"
     ]
    }
   ],
   "source": [
    "y_pred_test2 = my_classifier2.predict(x_test)\n",
    "y_pred_test2 = (y_pred_test2 > 0.5)"
   ],
   "metadata": {
    "collapsed": false,
    "pycharm": {
     "name": "#%%\n"
    }
   }
  },
  {
   "cell_type": "code",
   "execution_count": 248,
   "outputs": [
    {
     "data": {
      "text/plain": "0.7972027972027972"
     },
     "execution_count": 248,
     "metadata": {},
     "output_type": "execute_result"
    }
   ],
   "source": [
    "accuracy_score(y_test, y_pred_test2)"
   ],
   "metadata": {
    "collapsed": false,
    "pycharm": {
     "name": "#%%\n"
    }
   }
  },
  {
   "cell_type": "code",
   "execution_count": 249,
   "outputs": [
    {
     "data": {
      "text/plain": "array([[73,  9],\n       [20, 41]])"
     },
     "execution_count": 249,
     "metadata": {},
     "output_type": "execute_result"
    }
   ],
   "source": [
    "from sklearn.metrics import confusion_matrix\n",
    "cm2 = confusion_matrix(y_test, y_pred_test2)\n",
    "cm2"
   ],
   "metadata": {
    "collapsed": false,
    "pycharm": {
     "name": "#%%\n"
    }
   }
  },
  {
   "cell_type": "code",
   "execution_count": 250,
   "outputs": [
    {
     "data": {
      "text/plain": "<Figure size 432x288 with 1 Axes>",
      "image/png": "[encoded data removed]"
     },
     "metadata": {
      "needs_background": "light"
     },
     "output_type": "display_data"
    }
   ],
   "source": [
    "plt.subplots() # open a new plot\n",
    "plt.plot(history2.history['accuracy'])\n",
    "plt.plot(history2.history['val_accuracy'])\n",
    "plt.title('model accuracy')\n",
    "plt.ylabel('accuracy')\n",
    "plt.xlabel('epoch')\n",
    "plt.legend(['train', 'validation'])\n",
    "plt.show()"
   ],
   "metadata": {
    "collapsed": false,
    "pycharm": {
     "name": "#%%\n"
    }
   }
  },
  {
   "cell_type": "code",
   "execution_count": 251,
   "outputs": [
    {
     "data": {
      "text/plain": "<Figure size 432x288 with 1 Axes>",
      "image/png": "[encoded data removed]"
     },
     "metadata": {
      "needs_background": "light"
     },
     "output_type": "display_data"
    }
   ],
   "source": [
    "plt.subplots() # open a new plot\n",
    "plt.plot(history2.history['loss'])\n",
    "plt.plot(history2.history['val_loss'])\n",
    "plt.title('model loss')\n",
    "plt.ylabel('loss')\n",
    "plt.xlabel('epoch')\n",
    "plt.legend(['train', 'validation'])\n",
    "plt.show()"
   ],
   "metadata": {
    "collapsed": false,
    "pycharm": {
     "name": "#%%\n"
    }
   }
  }
 ],
 "metadata": {
  "kernelspec": {
   "display_name": "Python 3",
   "language": "python",
   "name": "python3"
  },
  "language_info": {
   "codemirror_mode": {
    "name": "ipython",
    "version": 2
   },
   "file_extension": ".py",
   "mimetype": "text/x-python",
   "name": "python",
   "nbconvert_exporter": "python",
   "pygments_lexer": "ipython2",
   "version": "2.7.6"
  }
 },
 "nbformat": 4,
 "nbformat_minor": 0
}