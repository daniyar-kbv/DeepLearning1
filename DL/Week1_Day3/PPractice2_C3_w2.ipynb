{
 "cells": [
  {
   "cell_type": "code",
   "execution_count": null,
   "outputs": [],
   "source": [
    "# Info:\n",
    "\n",
    "# Author:\n",
    "# Date\n",
    "\n",
    "# Purpose:\n",
    "\n",
    "# inputs:\n",
    "\n",
    "# outputs:\n",
    "\n",
    "# Version control:\n",
    "\n",
    "#------------------------------------------------------------------------------"
   ],
   "metadata": {
    "collapsed": false,
    "pycharm": {
     "name": "#%%\n"
    }
   }
  },
  {
   "cell_type": "code",
   "execution_count": 2,
   "outputs": [],
   "source": [
    "import numpy as np\n",
    "import pandas as pd\n",
    "import matplotlib.pyplot as plt\n",
    "#import copy"
   ],
   "metadata": {
    "collapsed": false,
    "pycharm": {
     "name": "#%%\n"
    }
   }
  },
  {
   "cell_type": "code",
   "execution_count": 25,
   "outputs": [],
   "source": [
    "# Import as pandas dataframes\n",
    "data = pd.read_csv('Cancer_data.csv')"
   ],
   "metadata": {
    "collapsed": false,
    "pycharm": {
     "name": "#%%\n"
    }
   }
  },
  {
   "cell_type": "code",
   "execution_count": 26,
   "outputs": [],
   "source": [
    "# Get the x and y data\n",
    "x = data.iloc[:, 3:]\n",
    "y = pd.DataFrame(data['radius_mean'])"
   ],
   "metadata": {
    "collapsed": false,
    "pycharm": {
     "name": "#%%\n"
    }
   }
  },
  {
   "cell_type": "code",
   "execution_count": null,
   "outputs": [],
   "source": [
    "'''\n",
    "# fix the nan -------------------------\n",
    "# method 1: delete the rows\n",
    "dum = ~np.isnan (data_analysis)\n",
    "new_data = data_analysis[dum]\n",
    "\n",
    "# Or get indeses\n",
    "inds = np.where(np.isfinite(data_analysis[:,0]))\n",
    "new_data = data_analysis[inds]\n",
    "\n",
    "# method 2: replace nan with mean\n",
    "inds2 = np.where(np.isnan(data_analysis[:,0]))\n",
    "\n",
    "#new_data = data_analysis\n",
    "new_data = np.copy(data_analysis)\n",
    "\n",
    "mean_of_col = np.nanmean(new_data, axis=0)\n",
    "\n",
    "new_data[inds2] = mean_of_col\n",
    "'''"
   ],
   "metadata": {
    "collapsed": false,
    "pycharm": {
     "name": "#%%\n"
    }
   }
  },
  {
   "cell_type": "code",
   "execution_count": 5,
   "outputs": [
    {
     "name": "stderr",
     "output_type": "stream",
     "text": [
      "/Users/daniyarkurmanbayev/miniforge3/envs/globalenv/lib/python3.9/site-packages/sklearn/preprocessing/_label.py:115: DataConversionWarning: A column-vector y was passed when a 1d array was expected. Please change the shape of y to (n_samples, ), for example using ravel().\n",
      "  y = column_or_1d(y, warn=True)\n"
     ]
    }
   ],
   "source": [
    "#-- One hot encoder\n",
    "from sklearn.preprocessing import LabelEncoder\n",
    "# encode the target\n",
    "label_encoder = LabelEncoder()\n",
    "y_encode = label_encoder.fit_transform(y)"
   ],
   "metadata": {
    "collapsed": false,
    "pycharm": {
     "name": "#%%\n"
    }
   }
  },
  {
   "cell_type": "code",
   "execution_count": 27,
   "outputs": [],
   "source": [
    "# Feature Scaling\n",
    "#from sklearn.preprocessing import MinMaxScaler\n",
    "#sc = MinMaxScaler(feature_range = (0, 1))\n",
    "\n",
    "from sklearn.preprocessing import StandardScaler\n",
    "sc = StandardScaler()\n",
    "x_scaled = sc.fit_transform(x)"
   ],
   "metadata": {
    "collapsed": false,
    "pycharm": {
     "name": "#%%\n"
    }
   }
  },
  {
   "cell_type": "code",
   "execution_count": 28,
   "outputs": [],
   "source": [
    "# Splitting the dataset into the Training set and Test set\n",
    "from sklearn.model_selection import train_test_split\n",
    "x_train, x_test, y_train, y_test = train_test_split(x_scaled, y, test_size = 0.2,\\\n",
    "                                                    random_state = 0)"
   ],
   "metadata": {
    "collapsed": false,
    "pycharm": {
     "name": "#%%\n"
    }
   }
  },
  {
   "cell_type": "code",
   "execution_count": 29,
   "outputs": [],
   "source": [
    "# size/shape of dataframe\n",
    "n_samples = x_train.shape[0]\n",
    "n_featuers = x_train.shape[1]"
   ],
   "metadata": {
    "collapsed": false,
    "pycharm": {
     "name": "#%%\n"
    }
   }
  },
  {
   "cell_type": "code",
   "execution_count": 35,
   "outputs": [],
   "source": [
    "# Make the NN -----------------------------------------------------------------\n",
    "\n",
    "# Importing the Keras libraries and packages\n",
    "from keras.layers import Dense\n",
    "from keras.models import Sequential\n",
    "\n",
    "# define and initialize the model\n",
    "my_classifier = Sequential()\n",
    "\n",
    "# Adding the input layer AND the first hidden layer (Pay attention to this)\n",
    "my_classifier.add(Dense(units = 15, kernel_initializer = 'uniform',\n",
    "                        activation = 'relu', input_dim = n_featuers))\n",
    "\n",
    "# Adding the second hidden layer\n",
    "my_classifier.add(Dense(units = 10, kernel_initializer = 'uniform',\n",
    "                        activation = 'relu'))\n",
    "\n",
    "# Adding the last (output) layer\n",
    "my_classifier.add(Dense(units = 1, kernel_initializer = 'uniform',\n",
    "                        activation = 'relu'))\n",
    "\n",
    "# Compiling the ANN\n",
    "my_classifier.compile(optimizer = 'adam', loss = 'mean_squared_error',\n",
    "                      metrics = ['mse'])"
   ],
   "metadata": {
    "collapsed": false,
    "pycharm": {
     "name": "#%%\n"
    }
   }
  },
  {
   "cell_type": "code",
   "execution_count": 36,
   "outputs": [
    {
     "name": "stdout",
     "output_type": "stream",
     "text": [
      "('You must install pydot (`pip install pydot`) and install graphviz (see instructions at https://graphviz.gitlab.io/download/) ', 'for plot_model/model_to_dot to work.')\n"
     ]
    }
   ],
   "source": [
    "#-- plot the model\n",
    "from tensorflow.keras.utils import plot_model\n",
    "plot_model(my_classifier, to_file='model_reg.png', show_shapes=True)"
   ],
   "metadata": {
    "collapsed": false,
    "pycharm": {
     "name": "#%%\n"
    }
   }
  },
  {
   "cell_type": "code",
   "execution_count": 37,
   "outputs": [
    {
     "name": "stdout",
     "output_type": "stream",
     "text": [
      "Epoch 1/100\n",
      "21/32 [==================>...........] - ETA: 0s - loss: 209.5349 - mse: 209.5348"
     ]
    },
    {
     "name": "stderr",
     "output_type": "stream",
     "text": [
      "2022-01-14 18:40:23.303825: I tensorflow/core/grappler/optimizers/custom_graph_optimizer_registry.cc:112] Plugin optimizer for device_type GPU is enabled.\n"
     ]
    },
    {
     "name": "stdout",
     "output_type": "stream",
     "text": [
      "32/32 [==============================] - 0s 9ms/step - loss: 206.7434 - mse: 206.7434 - val_loss: 218.8206 - val_mse: 218.8206\n",
      "Epoch 2/100\n",
      "19/32 [================>.............] - ETA: 0s - loss: 213.2013 - mse: 213.2013"
     ]
    },
    {
     "name": "stderr",
     "output_type": "stream",
     "text": [
      "2022-01-14 18:40:23.595776: I tensorflow/core/grappler/optimizers/custom_graph_optimizer_registry.cc:112] Plugin optimizer for device_type GPU is enabled.\n"
     ]
    },
    {
     "name": "stdout",
     "output_type": "stream",
     "text": [
      "32/32 [==============================] - 0s 8ms/step - loss: 201.7851 - mse: 201.7851 - val_loss: 207.7383 - val_mse: 207.7383\n",
      "Epoch 3/100\n",
      "32/32 [==============================] - 0s 7ms/step - loss: 181.6896 - mse: 181.6896 - val_loss: 172.3930 - val_mse: 172.3930\n",
      "Epoch 4/100\n",
      "32/32 [==============================] - 0s 7ms/step - loss: 135.2192 - mse: 135.2192 - val_loss: 109.8651 - val_mse: 109.8651\n",
      "Epoch 5/100\n",
      "32/32 [==============================] - 0s 7ms/step - loss: 72.7963 - mse: 72.7963 - val_loss: 57.1994 - val_mse: 57.1994\n",
      "Epoch 6/100\n",
      "32/32 [==============================] - 0s 7ms/step - loss: 37.7722 - mse: 37.7722 - val_loss: 49.0523 - val_mse: 49.0523\n",
      "Epoch 7/100\n",
      "32/32 [==============================] - 0s 7ms/step - loss: 32.3641 - mse: 32.3641 - val_loss: 47.4614 - val_mse: 47.4614\n",
      "Epoch 8/100\n",
      "32/32 [==============================] - 0s 7ms/step - loss: 30.2453 - mse: 30.2453 - val_loss: 44.8452 - val_mse: 44.8452\n",
      "Epoch 9/100\n",
      "32/32 [==============================] - 0s 6ms/step - loss: 28.5287 - mse: 28.5287 - val_loss: 41.9372 - val_mse: 41.9372\n",
      "Epoch 10/100\n",
      "32/32 [==============================] - 0s 7ms/step - loss: 26.7734 - mse: 26.7734 - val_loss: 40.2325 - val_mse: 40.2325\n",
      "Epoch 11/100\n",
      "32/32 [==============================] - 0s 6ms/step - loss: 25.1263 - mse: 25.1263 - val_loss: 37.9996 - val_mse: 37.9996\n",
      "Epoch 12/100\n",
      "32/32 [==============================] - 0s 7ms/step - loss: 23.7323 - mse: 23.7323 - val_loss: 35.6900 - val_mse: 35.6900\n",
      "Epoch 13/100\n",
      "32/32 [==============================] - 0s 6ms/step - loss: 22.2532 - mse: 22.2532 - val_loss: 32.9361 - val_mse: 32.9361\n",
      "Epoch 14/100\n",
      "32/32 [==============================] - 0s 7ms/step - loss: 21.0033 - mse: 21.0033 - val_loss: 30.7919 - val_mse: 30.7919\n",
      "Epoch 15/100\n",
      "32/32 [==============================] - 0s 7ms/step - loss: 19.7686 - mse: 19.7686 - val_loss: 28.9586 - val_mse: 28.9586\n",
      "Epoch 16/100\n",
      "32/32 [==============================] - 0s 7ms/step - loss: 18.4139 - mse: 18.4139 - val_loss: 26.8823 - val_mse: 26.8823\n",
      "Epoch 17/100\n",
      "32/32 [==============================] - 0s 6ms/step - loss: 17.3401 - mse: 17.3401 - val_loss: 24.9786 - val_mse: 24.9786\n",
      "Epoch 18/100\n",
      "32/32 [==============================] - 0s 7ms/step - loss: 16.2773 - mse: 16.2773 - val_loss: 23.1737 - val_mse: 23.1737\n",
      "Epoch 19/100\n",
      "32/32 [==============================] - 0s 7ms/step - loss: 15.0545 - mse: 15.0545 - val_loss: 21.3716 - val_mse: 21.3716\n",
      "Epoch 20/100\n",
      "32/32 [==============================] - 0s 7ms/step - loss: 14.0130 - mse: 14.0130 - val_loss: 19.7253 - val_mse: 19.7253\n",
      "Epoch 21/100\n",
      "32/32 [==============================] - 0s 7ms/step - loss: 13.0565 - mse: 13.0565 - val_loss: 18.2736 - val_mse: 18.2736\n",
      "Epoch 22/100\n",
      "32/32 [==============================] - 0s 7ms/step - loss: 12.1048 - mse: 12.1048 - val_loss: 16.4826 - val_mse: 16.4826\n",
      "Epoch 23/100\n",
      "32/32 [==============================] - 0s 7ms/step - loss: 11.2028 - mse: 11.2028 - val_loss: 15.2823 - val_mse: 15.2823\n",
      "Epoch 24/100\n",
      "32/32 [==============================] - 0s 7ms/step - loss: 10.4002 - mse: 10.4002 - val_loss: 14.0295 - val_mse: 14.0295\n",
      "Epoch 25/100\n",
      "32/32 [==============================] - 0s 7ms/step - loss: 9.6775 - mse: 9.6775 - val_loss: 13.0460 - val_mse: 13.0460\n",
      "Epoch 26/100\n",
      "32/32 [==============================] - 0s 6ms/step - loss: 8.9702 - mse: 8.9702 - val_loss: 11.8776 - val_mse: 11.8776\n",
      "Epoch 27/100\n",
      "32/32 [==============================] - 0s 7ms/step - loss: 8.3522 - mse: 8.3522 - val_loss: 10.9324 - val_mse: 10.9324\n",
      "Epoch 28/100\n",
      "32/32 [==============================] - 0s 6ms/step - loss: 7.7059 - mse: 7.7059 - val_loss: 10.0200 - val_mse: 10.0200\n",
      "Epoch 29/100\n",
      "32/32 [==============================] - 0s 7ms/step - loss: 7.0007 - mse: 7.0007 - val_loss: 8.9609 - val_mse: 8.9609\n",
      "Epoch 30/100\n",
      "32/32 [==============================] - 0s 7ms/step - loss: 6.4541 - mse: 6.4541 - val_loss: 8.6890 - val_mse: 8.6890\n",
      "Epoch 31/100\n",
      "32/32 [==============================] - 0s 7ms/step - loss: 5.8493 - mse: 5.8493 - val_loss: 7.5975 - val_mse: 7.5975\n",
      "Epoch 32/100\n",
      "32/32 [==============================] - 0s 6ms/step - loss: 5.3623 - mse: 5.3623 - val_loss: 7.1676 - val_mse: 7.1676\n",
      "Epoch 33/100\n",
      "32/32 [==============================] - 0s 7ms/step - loss: 4.8862 - mse: 4.8862 - val_loss: 6.4341 - val_mse: 6.4341\n",
      "Epoch 34/100\n",
      "32/32 [==============================] - 0s 6ms/step - loss: 4.4519 - mse: 4.4519 - val_loss: 6.0713 - val_mse: 6.0713\n",
      "Epoch 35/100\n",
      "32/32 [==============================] - 0s 7ms/step - loss: 4.0702 - mse: 4.0702 - val_loss: 5.5282 - val_mse: 5.5282\n",
      "Epoch 36/100\n",
      "32/32 [==============================] - 0s 6ms/step - loss: 3.7520 - mse: 3.7520 - val_loss: 5.0446 - val_mse: 5.0446\n",
      "Epoch 37/100\n",
      "32/32 [==============================] - 0s 6ms/step - loss: 3.4489 - mse: 3.4489 - val_loss: 4.7379 - val_mse: 4.7379\n",
      "Epoch 38/100\n",
      "32/32 [==============================] - 0s 6ms/step - loss: 3.1715 - mse: 3.1715 - val_loss: 4.4836 - val_mse: 4.4836\n",
      "Epoch 39/100\n",
      "32/32 [==============================] - 0s 7ms/step - loss: 2.8778 - mse: 2.8778 - val_loss: 4.0516 - val_mse: 4.0516\n",
      "Epoch 40/100\n",
      "32/32 [==============================] - 0s 7ms/step - loss: 2.6480 - mse: 2.6480 - val_loss: 3.8146 - val_mse: 3.8146\n",
      "Epoch 41/100\n",
      "32/32 [==============================] - 0s 7ms/step - loss: 2.4250 - mse: 2.4250 - val_loss: 3.4581 - val_mse: 3.4581\n",
      "Epoch 42/100\n",
      "32/32 [==============================] - 0s 6ms/step - loss: 2.2085 - mse: 2.2085 - val_loss: 3.3369 - val_mse: 3.3369\n",
      "Epoch 43/100\n",
      "32/32 [==============================] - 0s 6ms/step - loss: 2.0425 - mse: 2.0425 - val_loss: 3.0436 - val_mse: 3.0436\n",
      "Epoch 44/100\n",
      "32/32 [==============================] - 0s 6ms/step - loss: 1.9252 - mse: 1.9252 - val_loss: 2.7997 - val_mse: 2.7997\n",
      "Epoch 45/100\n",
      "32/32 [==============================] - 0s 6ms/step - loss: 1.7547 - mse: 1.7547 - val_loss: 2.7970 - val_mse: 2.7970\n",
      "Epoch 46/100\n",
      "32/32 [==============================] - 0s 6ms/step - loss: 1.6290 - mse: 1.6290 - val_loss: 2.5055 - val_mse: 2.5055\n",
      "Epoch 47/100\n",
      "32/32 [==============================] - 0s 6ms/step - loss: 1.4975 - mse: 1.4975 - val_loss: 2.4145 - val_mse: 2.4145\n",
      "Epoch 48/100\n",
      "32/32 [==============================] - 0s 7ms/step - loss: 1.3919 - mse: 1.3919 - val_loss: 2.1834 - val_mse: 2.1834\n",
      "Epoch 49/100\n",
      "32/32 [==============================] - 0s 6ms/step - loss: 1.2881 - mse: 1.2881 - val_loss: 2.0546 - val_mse: 2.0546\n",
      "Epoch 50/100\n",
      "32/32 [==============================] - 0s 6ms/step - loss: 1.1853 - mse: 1.1853 - val_loss: 1.9126 - val_mse: 1.9126\n",
      "Epoch 51/100\n",
      "32/32 [==============================] - 0s 7ms/step - loss: 1.1234 - mse: 1.1234 - val_loss: 1.7065 - val_mse: 1.7065\n",
      "Epoch 52/100\n",
      "32/32 [==============================] - 0s 7ms/step - loss: 1.0014 - mse: 1.0014 - val_loss: 1.7488 - val_mse: 1.7488\n",
      "Epoch 53/100\n",
      "32/32 [==============================] - 0s 7ms/step - loss: 0.9197 - mse: 0.9197 - val_loss: 1.5811 - val_mse: 1.5811\n",
      "Epoch 54/100\n",
      "32/32 [==============================] - 0s 7ms/step - loss: 0.8619 - mse: 0.8619 - val_loss: 1.4115 - val_mse: 1.4115\n",
      "Epoch 55/100\n",
      "32/32 [==============================] - 0s 7ms/step - loss: 0.7809 - mse: 0.7809 - val_loss: 1.3624 - val_mse: 1.3624\n",
      "Epoch 56/100\n",
      "32/32 [==============================] - 0s 8ms/step - loss: 0.7351 - mse: 0.7351 - val_loss: 1.2783 - val_mse: 1.2783\n",
      "Epoch 57/100\n",
      "32/32 [==============================] - 0s 8ms/step - loss: 0.6916 - mse: 0.6916 - val_loss: 1.2048 - val_mse: 1.2048\n",
      "Epoch 58/100\n",
      "32/32 [==============================] - 0s 7ms/step - loss: 0.6495 - mse: 0.6495 - val_loss: 1.1275 - val_mse: 1.1275\n",
      "Epoch 59/100\n",
      "32/32 [==============================] - 0s 7ms/step - loss: 0.5997 - mse: 0.5997 - val_loss: 1.0551 - val_mse: 1.0551\n",
      "Epoch 60/100\n",
      "32/32 [==============================] - 0s 7ms/step - loss: 0.5549 - mse: 0.5549 - val_loss: 1.1139 - val_mse: 1.1139\n",
      "Epoch 61/100\n",
      "32/32 [==============================] - 0s 7ms/step - loss: 0.5341 - mse: 0.5341 - val_loss: 0.9741 - val_mse: 0.9741\n",
      "Epoch 62/100\n",
      "32/32 [==============================] - 0s 7ms/step - loss: 0.4871 - mse: 0.4871 - val_loss: 0.8614 - val_mse: 0.8614\n",
      "Epoch 63/100\n",
      "32/32 [==============================] - 0s 7ms/step - loss: 0.4493 - mse: 0.4493 - val_loss: 0.8431 - val_mse: 0.8431\n",
      "Epoch 64/100\n",
      "32/32 [==============================] - 0s 7ms/step - loss: 0.4196 - mse: 0.4196 - val_loss: 0.8000 - val_mse: 0.8000\n",
      "Epoch 65/100\n",
      "32/32 [==============================] - 0s 7ms/step - loss: 0.3841 - mse: 0.3841 - val_loss: 0.7629 - val_mse: 0.7629\n",
      "Epoch 66/100\n",
      "32/32 [==============================] - 0s 7ms/step - loss: 0.3570 - mse: 0.3570 - val_loss: 0.7577 - val_mse: 0.7577\n",
      "Epoch 67/100\n",
      "32/32 [==============================] - 0s 7ms/step - loss: 0.3328 - mse: 0.3328 - val_loss: 0.6573 - val_mse: 0.6573\n",
      "Epoch 68/100\n",
      "32/32 [==============================] - 0s 7ms/step - loss: 0.3141 - mse: 0.3141 - val_loss: 0.6425 - val_mse: 0.6425\n",
      "Epoch 69/100\n",
      "32/32 [==============================] - 0s 7ms/step - loss: 0.2987 - mse: 0.2987 - val_loss: 0.6300 - val_mse: 0.6300\n",
      "Epoch 70/100\n",
      "32/32 [==============================] - 0s 7ms/step - loss: 0.2792 - mse: 0.2792 - val_loss: 0.5724 - val_mse: 0.5724\n",
      "Epoch 71/100\n",
      "32/32 [==============================] - 0s 7ms/step - loss: 0.2526 - mse: 0.2526 - val_loss: 0.5746 - val_mse: 0.5746\n",
      "Epoch 72/100\n",
      "32/32 [==============================] - 0s 7ms/step - loss: 0.2519 - mse: 0.2519 - val_loss: 0.5286 - val_mse: 0.5286\n",
      "Epoch 73/100\n",
      "32/32 [==============================] - 0s 7ms/step - loss: 0.2322 - mse: 0.2322 - val_loss: 0.4983 - val_mse: 0.4983\n",
      "Epoch 74/100\n",
      "32/32 [==============================] - 0s 7ms/step - loss: 0.2188 - mse: 0.2188 - val_loss: 0.4794 - val_mse: 0.4794\n",
      "Epoch 75/100\n",
      "32/32 [==============================] - 0s 7ms/step - loss: 0.2083 - mse: 0.2083 - val_loss: 0.4594 - val_mse: 0.4594\n",
      "Epoch 76/100\n",
      "32/32 [==============================] - 0s 7ms/step - loss: 0.2122 - mse: 0.2122 - val_loss: 0.4358 - val_mse: 0.4358\n",
      "Epoch 77/100\n",
      "32/32 [==============================] - 0s 7ms/step - loss: 0.1934 - mse: 0.1934 - val_loss: 0.4103 - val_mse: 0.4103\n",
      "Epoch 78/100\n",
      "32/32 [==============================] - 0s 7ms/step - loss: 0.1775 - mse: 0.1775 - val_loss: 0.4076 - val_mse: 0.4076\n",
      "Epoch 79/100\n",
      "32/32 [==============================] - 0s 7ms/step - loss: 0.1724 - mse: 0.1724 - val_loss: 0.4415 - val_mse: 0.4415\n",
      "Epoch 80/100\n",
      "32/32 [==============================] - 0s 7ms/step - loss: 0.1665 - mse: 0.1665 - val_loss: 0.3697 - val_mse: 0.3697\n",
      "Epoch 81/100\n",
      "32/32 [==============================] - 0s 7ms/step - loss: 0.1513 - mse: 0.1513 - val_loss: 0.3606 - val_mse: 0.3606\n",
      "Epoch 82/100\n",
      "32/32 [==============================] - 0s 7ms/step - loss: 0.1465 - mse: 0.1465 - val_loss: 0.3398 - val_mse: 0.3398\n",
      "Epoch 83/100\n",
      "32/32 [==============================] - 0s 7ms/step - loss: 0.1388 - mse: 0.1388 - val_loss: 0.3308 - val_mse: 0.3308\n",
      "Epoch 84/100\n",
      "32/32 [==============================] - 0s 7ms/step - loss: 0.1350 - mse: 0.1350 - val_loss: 0.3595 - val_mse: 0.3595\n",
      "Epoch 85/100\n",
      "32/32 [==============================] - 0s 7ms/step - loss: 0.1253 - mse: 0.1253 - val_loss: 0.3048 - val_mse: 0.3048\n",
      "Epoch 86/100\n",
      "32/32 [==============================] - 0s 7ms/step - loss: 0.1194 - mse: 0.1194 - val_loss: 0.3293 - val_mse: 0.3293\n",
      "Epoch 87/100\n",
      "32/32 [==============================] - 0s 7ms/step - loss: 0.1152 - mse: 0.1152 - val_loss: 0.2819 - val_mse: 0.2819\n",
      "Epoch 88/100\n",
      "32/32 [==============================] - 0s 7ms/step - loss: 0.1101 - mse: 0.1101 - val_loss: 0.2834 - val_mse: 0.2834\n",
      "Epoch 89/100\n",
      "32/32 [==============================] - 0s 7ms/step - loss: 0.1062 - mse: 0.1062 - val_loss: 0.2860 - val_mse: 0.2860\n",
      "Epoch 90/100\n",
      "32/32 [==============================] - 0s 7ms/step - loss: 0.1062 - mse: 0.1062 - val_loss: 0.2778 - val_mse: 0.2778\n",
      "Epoch 91/100\n",
      "32/32 [==============================] - 0s 7ms/step - loss: 0.1073 - mse: 0.1073 - val_loss: 0.2834 - val_mse: 0.2834\n",
      "Epoch 92/100\n",
      "32/32 [==============================] - 0s 7ms/step - loss: 0.0918 - mse: 0.0918 - val_loss: 0.2525 - val_mse: 0.2525\n",
      "Epoch 93/100\n",
      "32/32 [==============================] - 0s 7ms/step - loss: 0.0984 - mse: 0.0984 - val_loss: 0.2672 - val_mse: 0.2672\n",
      "Epoch 94/100\n",
      "32/32 [==============================] - 0s 7ms/step - loss: 0.0914 - mse: 0.0914 - val_loss: 0.2437 - val_mse: 0.2437\n",
      "Epoch 95/100\n",
      "32/32 [==============================] - 0s 7ms/step - loss: 0.0849 - mse: 0.0849 - val_loss: 0.2486 - val_mse: 0.2486\n",
      "Epoch 96/100\n",
      "32/32 [==============================] - 0s 7ms/step - loss: 0.0830 - mse: 0.0830 - val_loss: 0.2420 - val_mse: 0.2420\n",
      "Epoch 97/100\n",
      "32/32 [==============================] - 0s 7ms/step - loss: 0.0784 - mse: 0.0784 - val_loss: 0.2296 - val_mse: 0.2296\n",
      "Epoch 98/100\n",
      "32/32 [==============================] - 0s 7ms/step - loss: 0.0770 - mse: 0.0770 - val_loss: 0.2219 - val_mse: 0.2219\n",
      "Epoch 99/100\n",
      "32/32 [==============================] - 0s 7ms/step - loss: 0.0741 - mse: 0.0741 - val_loss: 0.2136 - val_mse: 0.2136\n",
      "Epoch 100/100\n",
      "32/32 [==============================] - 0s 7ms/step - loss: 0.0694 - mse: 0.0694 - val_loss: 0.2169 - val_mse: 0.2169\n"
     ]
    }
   ],
   "source": [
    "# Fitting the ANN to the Training set\n",
    "history = my_classifier.fit(x_train, y_train, validation_split=0.3,\n",
    "                            batch_size = 10, epochs = 100)"
   ],
   "metadata": {
    "collapsed": false,
    "pycharm": {
     "name": "#%%\n"
    }
   }
  },
  {
   "cell_type": "code",
   "execution_count": 12,
   "outputs": [
    {
     "name": "stderr",
     "output_type": "stream",
     "text": [
      "2022-01-14 18:35:51.082016: I tensorflow/core/grappler/optimizers/custom_graph_optimizer_registry.cc:112] Plugin optimizer for device_type GPU is enabled.\n"
     ]
    }
   ],
   "source": [
    "# Make predictions\n",
    "# Predicting the Test set results\n",
    "y_pred_train = history.predict(x_train)"
   ],
   "metadata": {
    "collapsed": false,
    "pycharm": {
     "name": "#%%\n"
    }
   }
  },
  {
   "cell_type": "code",
   "execution_count": 38,
   "outputs": [
    {
     "ename": "AttributeError",
     "evalue": "'History' object has no attribute 'predict'",
     "output_type": "error",
     "traceback": [
      "\u001B[0;31m---------------------------------------------------------------------------\u001B[0m",
      "\u001B[0;31mAttributeError\u001B[0m                            Traceback (most recent call last)",
      "\u001B[0;32m/var/folders/cj/7pbw4t016v72qg78txbzq1b40000gn/T/ipykernel_24644/3658333891.py\u001B[0m in \u001B[0;36m<module>\u001B[0;34m\u001B[0m\n\u001B[1;32m      1\u001B[0m \u001B[0;31m# Predicting the Test set results\u001B[0m\u001B[0;34m\u001B[0m\u001B[0;34m\u001B[0m\u001B[0m\n\u001B[0;32m----> 2\u001B[0;31m \u001B[0my_pred_test\u001B[0m \u001B[0;34m=\u001B[0m \u001B[0mhistory\u001B[0m\u001B[0;34m.\u001B[0m\u001B[0mpredict\u001B[0m\u001B[0;34m(\u001B[0m\u001B[0mx_test\u001B[0m\u001B[0;34m)\u001B[0m\u001B[0;34m\u001B[0m\u001B[0;34m\u001B[0m\u001B[0m\n\u001B[0m",
      "\u001B[0;31mAttributeError\u001B[0m: 'History' object has no attribute 'predict'"
     ]
    }
   ],
   "source": [
    "# Predicting the Test set results\n",
    "y_pred_test = history.predict(x_test)"
   ],
   "metadata": {
    "collapsed": false,
    "pycharm": {
     "name": "#%%\n"
    }
   }
  },
  {
   "cell_type": "code",
   "execution_count": 14,
   "outputs": [
    {
     "data": {
      "text/plain": "[<matplotlib.lines.Line2D at 0x164233760>]"
     },
     "execution_count": 14,
     "metadata": {},
     "output_type": "execute_result"
    },
    {
     "data": {
      "text/plain": "<Figure size 432x288 with 1 Axes>",
      "image/png": "[encoded data removed]"
     },
     "metadata": {
      "needs_background": "light"
     },
     "output_type": "display_data"
    }
   ],
   "source": [
    "# Evaluation and plots-----------------\n",
    "#Plot residuals\n",
    "# calculate residuals\n",
    "resi = y_train-y_pred_train\n",
    "\n",
    "plt.subplots() # open a new plot\n",
    "plt.plot (resi, 'bo')"
   ],
   "metadata": {
    "collapsed": false,
    "pycharm": {
     "name": "#%%\n"
    }
   }
  },
  {
   "cell_type": "code",
   "execution_count": 40,
   "outputs": [
    {
     "name": "stdout",
     "output_type": "stream",
     "text": [
      "dict_keys(['loss', 'mse', 'val_loss', 'val_mse'])\n"
     ]
    }
   ],
   "source": [
    "# list all the data in history\n",
    "print(history.history.keys())"
   ],
   "metadata": {
    "collapsed": false,
    "pycharm": {
     "name": "#%%\n"
    }
   }
  },
  {
   "cell_type": "code",
   "execution_count": 43,
   "outputs": [
    {
     "data": {
      "text/plain": "<Figure size 432x288 with 1 Axes>",
      "image/png": "[encoded data removed]"
     },
     "metadata": {
      "needs_background": "light"
     },
     "output_type": "display_data"
    }
   ],
   "source": [
    "# Plot the accuracy for both train and validation set\n",
    "plt.subplots() # open a new plot\n",
    "plt.plot(history.history['mse'])\n",
    "plt.plot(history.history['val_mse'])\n",
    "plt.title('model accuracy')\n",
    "plt.ylabel('accuracy')\n",
    "plt.xlabel('epoch')\n",
    "plt.legend(['train', 'validation'])\n",
    "plt.show()"
   ],
   "metadata": {
    "collapsed": false,
    "pycharm": {
     "name": "#%%\n"
    }
   }
  },
  {
   "cell_type": "code",
   "execution_count": 24,
   "outputs": [
    {
     "data": {
      "text/plain": "<Figure size 432x288 with 1 Axes>",
      "image/png": "[encoded data removed]"
     },
     "metadata": {
      "needs_background": "light"
     },
     "output_type": "display_data"
    }
   ],
   "source": [
    "# Plot the loss for both train and validation set\n",
    "plt.subplots() # open a new plot\n",
    "plt.plot(history.history['loss'])\n",
    "plt.plot(history.history['val_loss'])\n",
    "plt.title('model loss')\n",
    "plt.ylabel('loss')\n",
    "plt.xlabel('epoch')\n",
    "plt.legend(['train', 'validation'])\n",
    "plt.show()"
   ],
   "metadata": {
    "collapsed": false,
    "pycharm": {
     "name": "#%%\n"
    }
   }
  }
 ],
 "metadata": {
  "kernelspec": {
   "display_name": "Python 3",
   "language": "python",
   "name": "python3"
  },
  "language_info": {
   "codemirror_mode": {
    "name": "ipython",
    "version": 2
   },
   "file_extension": ".py",
   "mimetype": "text/x-python",
   "name": "python",
   "nbconvert_exporter": "python",
   "pygments_lexer": "ipython2",
   "version": "2.7.6"
  }
 },
 "nbformat": 4,
 "nbformat_minor": 0
}